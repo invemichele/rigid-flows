{
 "cells": [
  {
   "cell_type": "markdown",
   "id": "198c295e-009b-4519-8b58-2cfad8e24780",
   "metadata": {},
   "source": [
    "# Setup ice box\n",
    "- get ice config with https://github.com/vitroid/GenIce\n",
    "- equilibrate with anisotropic barostat (optional)\n",
    "- equilibrate with fixed volume\n",
    "- run MD at fixed volume"
   ]
  },
  {
   "cell_type": "code",
   "execution_count": 1,
   "id": "6616837f-6017-4075-9f14-5633cd32dccb",
   "metadata": {},
   "outputs": [],
   "source": [
    "import numpy as np\n",
    "\n",
    "import matplotlib.pyplot as plt\n",
    "from IPython.display import clear_output\n",
    "from tqdm.auto import trange"
   ]
  },
  {
   "cell_type": "code",
   "execution_count": 2,
   "id": "bdd83910-9e79-4cf1-aadb-7c06a33c5be2",
   "metadata": {},
   "outputs": [],
   "source": [
    "import openmm, openmm.app\n",
    "from openmm import unit\n",
    "kB = unit.MOLAR_GAS_CONSTANT_R.value_in_unit(unit.kilojoule_per_mole/unit.kelvin)"
   ]
  },
  {
   "cell_type": "code",
   "execution_count": 3,
   "id": "8a3ff0bc-49d1-4e52-8588-1c40e1763a47",
   "metadata": {},
   "outputs": [
    {
     "name": "stderr",
     "output_type": "stream",
     "text": [
      "+++ WARNING: nglview not available +++\n"
     ]
    }
   ],
   "source": [
    "from watermodel import *"
   ]
  },
  {
   "cell_type": "markdown",
   "id": "d895b7d4-ca60-4875-b5f5-74a0b16e68fa",
   "metadata": {},
   "source": [
    "## generate ice configuration and setup water model\n",
    "see https://github.com/vitroid/GenIce"
   ]
  },
  {
   "cell_type": "code",
   "execution_count": 4,
   "id": "3de1d7c4-a355-4886-b098-57a2b1567b92",
   "metadata": {},
   "outputs": [],
   "source": [
    "#some options\n",
    "\n",
    "temp = 250\n",
    "ice_type = 'Ih'\n",
    "rep = 3*[1]\n",
    "\n",
    "nonbondedCutoff = 1\n",
    "external_field = None\n",
    "\n",
    "anisotropic_equilibration = False\n",
    "\n",
    "# !genice2 -h  #see available ice_types"
   ]
  },
  {
   "cell_type": "code",
   "execution_count": 5,
   "id": "4541cbeb",
   "metadata": {},
   "outputs": [
    {
     "name": "stdout",
     "output_type": "stream",
     "text": [
      "n_waters: 16\n",
      "orthorombic: True\n",
      "nonbondedCutoff: 0.36767863 (1.16194 [sigmaLJ])\n"
     ]
    },
    {
     "name": "stderr",
     "output_type": "stream",
     "text": [
      "+++ WARNING: `nonbondedCutoff` too large, changed to 0.36767863 +++\n",
      "+++ WARNING: nglview not available +++\n"
     ]
    }
   ],
   "source": [
    "#setup the model\n",
    "from genice2.genice import GenIce\n",
    "from genice2.plugin import Lattice, Format, Molecule\n",
    "from tempfile import NamedTemporaryFile\n",
    "\n",
    "gro = GenIce(Lattice(ice_type), rep=rep).generate_ice(Format('gromacs'), water=Molecule('tip4p'))\n",
    "tmp = NamedTemporaryFile()\n",
    "with open(tmp.name, 'w') as f:\n",
    "    f.write(gro)\n",
    "config = openmm.app.GromacsGroFile(tmp.name)\n",
    "\n",
    "pos = np.array(config.getPositions().value_in_unit(unit.nanometer))\n",
    "box = np.array(config.getPeriodicBoxVectors().value_in_unit(unit.nanometer))\n",
    "model = WaterModel(pos, box, nonbondedCutoff=nonbondedCutoff, external_field=external_field)\n",
    "\n",
    "print('n_waters:', model.n_waters)\n",
    "print('orthorombic:', model.is_box_orthorombic)\n",
    "print(f'nonbondedCutoff: {model.nonbondedCutoff} ({model.nonbondedCutoff/0.316435:g} [sigmaLJ])') #3.16 is common, 2.5 is ok, below 1.14 is very bad\n",
    "\n",
    "model.get_view()"
   ]
  },
  {
   "cell_type": "markdown",
   "id": "3d64832f-c5e5-494a-be7a-29e5bb79a92e",
   "metadata": {},
   "source": [
    "## anisotropic equilibration"
   ]
  },
  {
   "cell_type": "code",
   "execution_count": 6,
   "id": "e20ad87c-32f1-4b8f-a427-d4049c3d413f",
   "metadata": {},
   "outputs": [
    {
     "name": "stdout",
     "output_type": "stream",
     "text": [
      "CPU times: user 8 µs, sys: 4 µs, total: 12 µs\n",
      "Wall time: 21.9 µs\n"
     ]
    }
   ],
   "source": [
    "%%time \n",
    "#equilibrate\n",
    "if anisotropic_equilibration:\n",
    "    model.set_barostat('aniso')\n",
    "    print('barostat:', model.barostat)\n",
    "\n",
    "    pace = 500\n",
    "    n_iter = 10_000   \n",
    "    simulation = setup_simulation(model, temp, minimizeEnergy=True)\n",
    "    \n",
    "    MDene = np.full(n_iter, np.nan)\n",
    "    MDpos = np.full((n_iter, *model.positions.shape), np.nan)\n",
    "    if model.barostat is None:\n",
    "        MDbox = np.resize(model.box, (1,3,3))\n",
    "    else:\n",
    "        MDbox = np.full((n_iter, 3, 3), np.nan)\n",
    "\n",
    "    for n in trange(n_iter):\n",
    "        simulation.step(pace)\n",
    "        MDene[n] = simulation.context.getState(getEnergy=True).getPotentialEnergy().value_in_unit(unit.kilojoule_per_mole)\n",
    "        MDpos[n] = simulation.context.getState(getPositions=True, enforcePeriodicBox=True).getPositions(asNumpy=True).value_in_unit(unit.nanometers)\n",
    "        if model.barostat is not None:\n",
    "            MDbox[n] = simulation.context.getState().getPeriodicBoxVectors(asNumpy=True).value_in_unit(unit.nanometers)"
   ]
  },
  {
   "cell_type": "code",
   "execution_count": 7,
   "id": "e2783d41-ddf7-443c-b41a-e6a57a93ea45",
   "metadata": {},
   "outputs": [],
   "source": [
    "#visualize\n",
    "if anisotropic_equilibration:\n",
    "    for i in range(3):\n",
    "        plt.plot(MDbox[:,i,i], '.')\n",
    "        print(box[i,i], MDbox[:,i,i].mean(), MDbox[-len(MDbox)//2:,i,i].mean())\n",
    "        plt.axhline(MDbox[-len(MDbox)//2:,i,i].mean(), c='k', ls='--')\n",
    "        plt.axhline(model.box[i,i], c='k', ls=':')\n",
    "        # plt.ylim(0,None)\n",
    "    plt.show()\n",
    "    \n",
    "    plot_energy(MDene)\n",
    "    plot_2Dview(MDpos, MDbox)\n",
    "    # model.get_view(MDpos, MDbox)"
   ]
  },
  {
   "cell_type": "code",
   "execution_count": 8,
   "id": "f4f64880-68b4-4d7b-b86e-53b3c334de0a",
   "metadata": {},
   "outputs": [],
   "source": [
    "#update the model\n",
    "if anisotropic_equilibration:\n",
    "    model.positions = MDpos[-1]\n",
    "    model.box = MDbox[-len(MDbox)//2:].mean(axis=0)\n",
    "    model.system.getForces()"
   ]
  },
  {
   "cell_type": "markdown",
   "id": "14e427d7-08ad-4fb0-806f-68043667a593",
   "metadata": {},
   "source": [
    "## fixed volume equilibration"
   ]
  },
  {
   "cell_type": "code",
   "execution_count": 10,
   "id": "e7fcd3f8-a060-4406-b685-681d3e02ec52",
   "metadata": {},
   "outputs": [
    {
     "name": "stdout",
     "output_type": "stream",
     "text": [
      "barostat: None\n",
      "old energy: -900.9678301992476\n",
      "new energy: -981.89927913571\n"
     ]
    },
    {
     "data": {
      "application/vnd.jupyter.widget-view+json": {
       "model_id": "8530eadc40b347fd8dfe0c0a4dadce87",
       "version_major": 2,
       "version_minor": 0
      },
      "text/plain": [
       "  0%|          | 0/10000 [00:00<?, ?it/s]"
      ]
     },
     "metadata": {},
     "output_type": "display_data"
    },
    {
     "ename": "KeyboardInterrupt",
     "evalue": "",
     "output_type": "error",
     "traceback": [
      "\u001b[0;31m---------------------------------------------------------------------------\u001b[0m",
      "\u001b[0;31mKeyboardInterrupt\u001b[0m                         Traceback (most recent call last)",
      "File \u001b[0;32m<timed exec>:18\u001b[0m, in \u001b[0;36m<module>\u001b[0;34m\u001b[0m\n",
      "File \u001b[0;32m~/miniconda3/envs/rigid-flows/lib/python3.10/site-packages/openmm/app/simulation.py:141\u001b[0m, in \u001b[0;36mSimulation.step\u001b[0;34m(self, steps)\u001b[0m\n\u001b[1;32m    139\u001b[0m \u001b[38;5;28;01mdef\u001b[39;00m \u001b[38;5;21mstep\u001b[39m(\u001b[38;5;28mself\u001b[39m, steps):\n\u001b[1;32m    140\u001b[0m     \u001b[38;5;124;03m\"\"\"Advance the simulation by integrating a specified number of time steps.\"\"\"\u001b[39;00m\n\u001b[0;32m--> 141\u001b[0m     \u001b[38;5;28;43mself\u001b[39;49m\u001b[38;5;241;43m.\u001b[39;49m\u001b[43m_simulate\u001b[49m\u001b[43m(\u001b[49m\u001b[43mendStep\u001b[49m\u001b[38;5;241;43m=\u001b[39;49m\u001b[38;5;28;43mself\u001b[39;49m\u001b[38;5;241;43m.\u001b[39;49m\u001b[43mcurrentStep\u001b[49m\u001b[38;5;241;43m+\u001b[39;49m\u001b[43msteps\u001b[49m\u001b[43m)\u001b[49m\n",
      "File \u001b[0;32m~/miniconda3/envs/rigid-flows/lib/python3.10/site-packages/openmm/app/simulation.py:206\u001b[0m, in \u001b[0;36mSimulation._simulate\u001b[0;34m(self, endStep, endTime)\u001b[0m\n\u001b[1;32m    204\u001b[0m stepsToGo \u001b[38;5;241m=\u001b[39m nextSteps\n\u001b[1;32m    205\u001b[0m \u001b[38;5;28;01mwhile\u001b[39;00m stepsToGo \u001b[38;5;241m>\u001b[39m \u001b[38;5;241m10\u001b[39m:\n\u001b[0;32m--> 206\u001b[0m     \u001b[38;5;28;43mself\u001b[39;49m\u001b[38;5;241;43m.\u001b[39;49m\u001b[43mintegrator\u001b[49m\u001b[38;5;241;43m.\u001b[39;49m\u001b[43mstep\u001b[49m\u001b[43m(\u001b[49m\u001b[38;5;241;43m10\u001b[39;49m\u001b[43m)\u001b[49m \u001b[38;5;66;03m# Only take 10 steps at a time, to give Python more chances to respond to a control-c.\u001b[39;00m\n\u001b[1;32m    207\u001b[0m     stepsToGo \u001b[38;5;241m-\u001b[39m\u001b[38;5;241m=\u001b[39m \u001b[38;5;241m10\u001b[39m\n\u001b[1;32m    208\u001b[0m     \u001b[38;5;28;01mif\u001b[39;00m endTime \u001b[38;5;129;01mis\u001b[39;00m \u001b[38;5;129;01mnot\u001b[39;00m \u001b[38;5;28;01mNone\u001b[39;00m \u001b[38;5;129;01mand\u001b[39;00m datetime\u001b[38;5;241m.\u001b[39mnow() \u001b[38;5;241m>\u001b[39m\u001b[38;5;241m=\u001b[39m endTime:\n",
      "File \u001b[0;32m~/miniconda3/envs/rigid-flows/lib/python3.10/site-packages/openmm/openmm.py:6145\u001b[0m, in \u001b[0;36mLangevinMiddleIntegrator.step\u001b[0;34m(self, steps)\u001b[0m\n\u001b[1;32m   6135\u001b[0m \u001b[38;5;28;01mdef\u001b[39;00m \u001b[38;5;21mstep\u001b[39m(\u001b[38;5;28mself\u001b[39m, steps):\n\u001b[1;32m   6136\u001b[0m     \u001b[38;5;124mr\u001b[39m\u001b[38;5;124;03m\"\"\"\u001b[39;00m\n\u001b[1;32m   6137\u001b[0m \u001b[38;5;124;03m    step(self, steps)\u001b[39;00m\n\u001b[1;32m   6138\u001b[0m \u001b[38;5;124;03m    Advance a simulation through time by taking a series of time steps.\u001b[39;00m\n\u001b[0;32m   (...)\u001b[0m\n\u001b[1;32m   6143\u001b[0m \u001b[38;5;124;03m        the number of time steps to take\u001b[39;00m\n\u001b[1;32m   6144\u001b[0m \u001b[38;5;124;03m    \"\"\"\u001b[39;00m\n\u001b[0;32m-> 6145\u001b[0m     \u001b[38;5;28;01mreturn\u001b[39;00m \u001b[43m_openmm\u001b[49m\u001b[38;5;241;43m.\u001b[39;49m\u001b[43mLangevinMiddleIntegrator_step\u001b[49m\u001b[43m(\u001b[49m\u001b[38;5;28;43mself\u001b[39;49m\u001b[43m,\u001b[49m\u001b[43m \u001b[49m\u001b[43msteps\u001b[49m\u001b[43m)\u001b[49m\n",
      "\u001b[0;31mKeyboardInterrupt\u001b[0m: "
     ]
    }
   ],
   "source": [
    "%%time\n",
    "#Equilibrate\n",
    "\n",
    "model.set_barostat = None\n",
    "print('barostat:', model.barostat)\n",
    "\n",
    "pace = 500\n",
    "n_iter = 10_000\n",
    "simulation = model.setup_simulation(temp, minimizeEnergy=True)\n",
    "\n",
    "MDene = np.full(n_iter, np.nan)\n",
    "MDpos = np.full((n_iter, *model.positions.shape), np.nan)\n",
    "if model.barostat is None:\n",
    "    MDbox = np.resize(model.box, (1,3,3))\n",
    "else:\n",
    "    MDbox = np.full((n_iter, 3, 3), np.nan)\n",
    "\n",
    "for n in trange(n_iter):\n",
    "    simulation.step(pace)\n",
    "    MDene[n] = simulation.context.getState(getEnergy=True).getPotentialEnergy().value_in_unit(unit.kilojoule_per_mole)\n",
    "    MDpos[n] = simulation.context.getState(getPositions=True, enforcePeriodicBox=True).getPositions(asNumpy=True).value_in_unit(unit.nanometers)\n",
    "    if model.barostat is not None:\n",
    "        MDbox[n] = simulation.context.getState().getPeriodicBoxVectors(asNumpy=True).value_in_unit(unit.nanometers)"
   ]
  },
  {
   "cell_type": "code",
   "execution_count": null,
   "id": "99c8cb48-4e18-4a26-b566-55c8f931f845",
   "metadata": {},
   "outputs": [],
   "source": [
    "#visualize\n",
    "plot_energy(MDene)\n",
    "plot_2Dview(MDpos, MDbox)\n",
    "# model.get_view(MDpos, MDbox)"
   ]
  },
  {
   "cell_type": "code",
   "execution_count": null,
   "id": "5fc4ed8d-47ac-4de5-915e-b9c6dd313091",
   "metadata": {},
   "outputs": [],
   "source": [
    "#update model\n",
    "model.positions = MDpos[-1]\n",
    "model.box = MDbox[-1]\n",
    "model.system.getForces()"
   ]
  },
  {
   "cell_type": "code",
   "execution_count": null,
   "id": "c1b3cb5d-99d0-450c-b7cb-24c17bc85a4c",
   "metadata": {},
   "outputs": [],
   "source": [
    "# raise SystemError('Safety break')"
   ]
  },
  {
   "cell_type": "markdown",
   "id": "67937056-8d30-43d4-a8bf-fa4eb77787b7",
   "metadata": {},
   "source": [
    "## run MD storing model and trajectory"
   ]
  },
  {
   "cell_type": "code",
   "execution_count": null,
   "id": "2b34d220-648e-46cc-b166-3e4b52ee2d7d",
   "metadata": {},
   "outputs": [],
   "source": [
    "%%time\n",
    "#production run\n",
    "\n",
    "print('barostat:', model.barostat)\n",
    "\n",
    "pace = 500\n",
    "n_iter = 100_000\n",
    "simulation = setup_simulation(model, temp)\n",
    "\n",
    "MDene = np.full(n_iter, np.nan)\n",
    "MDpos = np.full((n_iter, *model.positions.shape), np.nan)\n",
    "if model.barostat is None:\n",
    "    MDbox = np.resize(model.box, (1,3,3))\n",
    "else:\n",
    "    MDbox = np.full((n_iter, 3, 3), np.nan)\n",
    "\n",
    "for n in trange(n_iter):\n",
    "    simulation.step(pace)\n",
    "    MDene[n] = simulation.context.getState(getEnergy=True).getPotentialEnergy().value_in_unit(unit.kilojoule_per_mole)\n",
    "    MDpos[n] = simulation.context.getState(getPositions=True, enforcePeriodicBox=True).getPositions(asNumpy=True).value_in_unit(unit.nanometers)\n",
    "    if model.barostat is not None:\n",
    "        MDbox[n] = simulation.context.getState().getPeriodicBoxVectors(asNumpy=True).value_in_unit(unit.nanometers)"
   ]
  },
  {
   "cell_type": "code",
   "execution_count": null,
   "id": "875418b7-9db4-4052-afe3-feadc36d082f",
   "metadata": {},
   "outputs": [],
   "source": [
    "#visualize\n",
    "plot_energy(MDene)\n",
    "plot_2Dview(MDpos[::10], MDbox[::10])\n",
    "# model.get_view(MDpos, MDbox)"
   ]
  },
  {
   "cell_type": "code",
   "execution_count": null,
   "id": "8848623c-16ba-4716-87b7-1a3b23f227e8",
   "metadata": {},
   "outputs": [],
   "source": [
    "# raise SystemError('Safety break')"
   ]
  },
  {
   "cell_type": "code",
   "execution_count": null,
   "id": "71dbcea6-f453-428a-9a4c-78f18352964a",
   "metadata": {},
   "outputs": [],
   "source": [
    "#save trajectory\n",
    "#NB: positions can be out of PBC, to avoid breaking molecules\n",
    "info = f'ice{ice_type}_T{temp}_N{model.n_waters}'\n",
    "filename = f'model-{info}.json'\n",
    "!bck.meup.sh -v {filename}\n",
    "model.save_to_json(filename)\n",
    "\n",
    "filename = f'MDtraj-{info}.npz'\n",
    "!bck.meup.sh -v {filename}\n",
    "np.savez(filename, pos=MDpos, box=MDbox, ene=MDene)\n",
    "\n",
    "#save also to scratch\n",
    "scratch_folder = f'/group/ag_cmb/scratch/minvernizzi/so3-flow/ice_MDdata/'\n",
    "!bck.meup.sh -v {scratch_folder}*{info}*; cp *{info}* {scratch_folder}"
   ]
  },
  {
   "cell_type": "code",
   "execution_count": null,
   "id": "edd59b8f-3a6d-4628-80d8-1946c88c4cf4",
   "metadata": {},
   "outputs": [],
   "source": [
    "# #load model from file\n",
    "# filename = f'model-{info}.json'\n",
    "# new_model = WaterModel.load_from_json(filename)"
   ]
  },
  {
   "cell_type": "code",
   "execution_count": null,
   "id": "ab14c9ee-9c14-4035-b9a0-33044f5a48e6",
   "metadata": {},
   "outputs": [],
   "source": []
  }
 ],
 "metadata": {
  "kernelspec": {
   "display_name": "Python 3 (ipykernel)",
   "language": "python",
   "name": "python3"
  },
  "language_info": {
   "codemirror_mode": {
    "name": "ipython",
    "version": 3
   },
   "file_extension": ".py",
   "mimetype": "text/x-python",
   "name": "python",
   "nbconvert_exporter": "python",
   "pygments_lexer": "ipython3",
   "version": "3.10.6"
  },
  "vscode": {
   "interpreter": {
    "hash": "71b41d88d8ec0b58ef41278cd5344764a50b337c8f428862b9243bc58d1bdc22"
   }
  }
 },
 "nbformat": 4,
 "nbformat_minor": 5
}
