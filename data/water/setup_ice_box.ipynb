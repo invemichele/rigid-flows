{
 "cells": [
  {
   "cell_type": "markdown",
   "id": "198c295e-009b-4519-8b58-2cfad8e24780",
   "metadata": {},
   "source": [
    "# Setup ice box\n",
    "- get ice config with https://github.com/vitroid/GenIce\n",
    "- equilibrate with anisotropic barostat (optional)\n",
    "- equilibrate with fixed volume\n",
    "- run MD at fixed volume"
   ]
  },
  {
   "cell_type": "code",
   "execution_count": null,
   "id": "6616837f-6017-4075-9f14-5633cd32dccb",
   "metadata": {},
   "outputs": [],
   "source": [
    "import numpy as np\n",
    "\n",
    "import matplotlib.pyplot as plt\n",
    "from IPython.display import clear_output\n",
    "from tqdm.auto import trange"
   ]
  },
  {
   "cell_type": "code",
   "execution_count": null,
   "id": "bdd83910-9e79-4cf1-aadb-7c06a33c5be2",
   "metadata": {},
   "outputs": [],
   "source": [
    "import openmm, openmm.app\n",
    "from openmm import unit\n",
    "kB = unit.MOLAR_GAS_CONSTANT_R.value_in_unit(unit.kilojoule_per_mole/unit.kelvin)"
   ]
  },
  {
   "cell_type": "code",
   "execution_count": null,
   "id": "8a3ff0bc-49d1-4e52-8588-1c40e1763a47",
   "metadata": {},
   "outputs": [],
   "source": [
    "from watermodel import *"
   ]
  },
  {
   "cell_type": "markdown",
   "id": "d895b7d4-ca60-4875-b5f5-74a0b16e68fa",
   "metadata": {},
   "source": [
    "## generate ice configuration and setup water model\n",
    "see https://github.com/vitroid/GenIce"
   ]
  },
  {
   "cell_type": "code",
   "execution_count": null,
   "id": "3de1d7c4-a355-4886-b098-57a2b1567b92",
   "metadata": {},
   "outputs": [],
   "source": [
    "#some options\n",
    "\n",
    "temp = 250\n",
    "ice_type = 'Ih'\n",
    "rep = 3*[1]\n",
    "\n",
    "nonbondedCutoff = 1\n",
    "external_field = None\n",
    "\n",
    "anisotropic_equilibration = False\n",
    "\n",
    "# !genice2 -h  #see available ice_types"
   ]
  },
  {
   "cell_type": "code",
   "execution_count": null,
   "id": "4541cbeb",
   "metadata": {},
   "outputs": [],
   "source": [
    "#setup the model\n",
    "from genice2.genice import GenIce\n",
    "from genice2.plugin import Lattice, Format, Molecule\n",
    "from tempfile import NamedTemporaryFile\n",
    "\n",
    "gro = GenIce(Lattice(ice_type), rep=rep).generate_ice(Format('gromacs'), water=Molecule('tip4p'))\n",
    "tmp = NamedTemporaryFile()\n",
    "with open(tmp.name, 'w') as f:\n",
    "    f.write(gro)\n",
    "config = openmm.app.GromacsGroFile(tmp.name)\n",
    "\n",
    "pos = np.array(config.getPositions().value_in_unit(unit.nanometer))\n",
    "box = np.array(config.getPeriodicBoxVectors().value_in_unit(unit.nanometer))\n",
    "model = WaterModel(pos, box, nonbondedCutoff=nonbondedCutoff, external_field=external_field)\n",
    "\n",
    "print('n_waters:', model.n_waters)\n",
    "print('orthorombic:', model.is_box_orthorombic)\n",
    "print(f'nonbondedCutoff: {model.nonbondedCutoff} ({model.nonbondedCutoff/0.316435:g} [sigmaLJ])') #3.16 is common, 2.5 is ok, below 1.14 is very bad\n",
    "\n",
    "model.get_view()"
   ]
  },
  {
   "cell_type": "markdown",
   "id": "3d64832f-c5e5-494a-be7a-29e5bb79a92e",
   "metadata": {},
   "source": [
    "## anisotropic equilibration"
   ]
  },
  {
   "cell_type": "code",
   "execution_count": null,
   "id": "e20ad87c-32f1-4b8f-a427-d4049c3d413f",
   "metadata": {},
   "outputs": [],
   "source": [
    "%%time \n",
    "#equilibrate\n",
    "if anisotropic_equilibration:\n",
    "    model.set_barostat('aniso')\n",
    "    print('barostat:', model.barostat)\n",
    "\n",
    "    pace = 500\n",
    "    n_iter = 10_000   \n",
    "    simulation = setup_simulation(model, temp, minimizeEnergy=True)\n",
    "    \n",
    "    MDene = np.full(n_iter, np.nan)\n",
    "    MDpos = np.full((n_iter, *model.positions.shape), np.nan)\n",
    "    if model.barostat is None:\n",
    "        MDbox = np.resize(model.box, (1,3,3))\n",
    "    else:\n",
    "        MDbox = np.full((n_iter, 3, 3), np.nan)\n",
    "\n",
    "    for n in trange(n_iter):\n",
    "        simulation.step(pace)\n",
    "        MDene[n] = simulation.context.getState(getEnergy=True).getPotentialEnergy().value_in_unit(unit.kilojoule_per_mole)\n",
    "        MDpos[n] = simulation.context.getState(getPositions=True, enforcePeriodicBox=True).getPositions(asNumpy=True).value_in_unit(unit.nanometers)\n",
    "        if model.barostat is not None:\n",
    "            MDbox[n] = simulation.context.getState().getPeriodicBoxVectors(asNumpy=True).value_in_unit(unit.nanometers)"
   ]
  },
  {
   "cell_type": "code",
   "execution_count": null,
   "id": "e2783d41-ddf7-443c-b41a-e6a57a93ea45",
   "metadata": {},
   "outputs": [],
   "source": [
    "#visualize\n",
    "if anisotropic_equilibration:\n",
    "    for i in range(3):\n",
    "        plt.plot(MDbox[:,i,i], '.')\n",
    "        print(box[i,i], MDbox[:,i,i].mean(), MDbox[-len(MDbox)//2:,i,i].mean())\n",
    "        plt.axhline(MDbox[-len(MDbox)//2:,i,i].mean(), c='k', ls='--')\n",
    "        plt.axhline(model.box[i,i], c='k', ls=':')\n",
    "        # plt.ylim(0,None)\n",
    "    plt.show()\n",
    "    \n",
    "    plot_energy(MDene)\n",
    "    plot_2Dview(MDpos, MDbox)\n",
    "    # model.get_view(MDpos, MDbox)"
   ]
  },
  {
   "cell_type": "code",
   "execution_count": null,
   "id": "f4f64880-68b4-4d7b-b86e-53b3c334de0a",
   "metadata": {},
   "outputs": [],
   "source": [
    "#update the model\n",
    "if anisotropic_equilibration:\n",
    "    model.positions = MDpos[-1]\n",
    "    model.box = MDbox[-len(MDbox)//2:].mean(axis=0)\n",
    "    model.system.getForces()"
   ]
  },
  {
   "cell_type": "markdown",
   "id": "14e427d7-08ad-4fb0-806f-68043667a593",
   "metadata": {},
   "source": [
    "## fixed volume equilibration"
   ]
  },
  {
   "cell_type": "code",
   "execution_count": null,
   "id": "e7fcd3f8-a060-4406-b685-681d3e02ec52",
   "metadata": {},
   "outputs": [],
   "source": [
    "%%time\n",
    "#Equilibrate\n",
    "\n",
    "model.set_barostat = None\n",
    "print('barostat:', model.barostat)\n",
    "\n",
    "pace = 500\n",
    "n_iter = 10_000\n",
    "simulation = setup_simulation(model, temp, minimizeEnergy=True)\n",
    "\n",
    "MDene = np.full(n_iter, np.nan)\n",
    "MDpos = np.full((n_iter, *model.positions.shape), np.nan)\n",
    "if model.barostat is None:\n",
    "    MDbox = np.resize(model.box, (1,3,3))\n",
    "else:\n",
    "    MDbox = np.full((n_iter, 3, 3), np.nan)\n",
    "\n",
    "for n in trange(n_iter):\n",
    "    simulation.step(pace)\n",
    "    MDene[n] = simulation.context.getState(getEnergy=True).getPotentialEnergy().value_in_unit(unit.kilojoule_per_mole)\n",
    "    MDpos[n] = simulation.context.getState(getPositions=True, enforcePeriodicBox=True).getPositions(asNumpy=True).value_in_unit(unit.nanometers)\n",
    "    if model.barostat is not None:\n",
    "        MDbox[n] = simulation.context.getState().getPeriodicBoxVectors(asNumpy=True).value_in_unit(unit.nanometers)"
   ]
  },
  {
   "cell_type": "code",
   "execution_count": null,
   "id": "99c8cb48-4e18-4a26-b566-55c8f931f845",
   "metadata": {},
   "outputs": [],
   "source": [
    "#visualize\n",
    "plot_energy(MDene)\n",
    "plot_2Dview(MDpos, MDbox)\n",
    "# model.get_view(MDpos, MDbox)"
   ]
  },
  {
   "cell_type": "code",
   "execution_count": null,
   "id": "5fc4ed8d-47ac-4de5-915e-b9c6dd313091",
   "metadata": {},
   "outputs": [],
   "source": [
    "#update model\n",
    "model.positions = MDpos[-1]\n",
    "model.box = MDbox[-1]\n",
    "model.system.getForces()"
   ]
  },
  {
   "cell_type": "code",
   "execution_count": null,
   "id": "c1b3cb5d-99d0-450c-b7cb-24c17bc85a4c",
   "metadata": {},
   "outputs": [],
   "source": [
    "# raise SystemError('Safety break')"
   ]
  },
  {
   "cell_type": "markdown",
   "id": "67937056-8d30-43d4-a8bf-fa4eb77787b7",
   "metadata": {},
   "source": [
    "## run MD storing model and trajectory"
   ]
  },
  {
   "cell_type": "code",
   "execution_count": null,
   "id": "2b34d220-648e-46cc-b166-3e4b52ee2d7d",
   "metadata": {},
   "outputs": [],
   "source": [
    "%%time\n",
    "#production run\n",
    "\n",
    "print('barostat:', model.barostat)\n",
    "\n",
    "pace = 500\n",
    "n_iter = 100_000\n",
    "simulation = setup_simulation(model, temp)\n",
    "\n",
    "MDene = np.full(n_iter, np.nan)\n",
    "MDpos = np.full((n_iter, *model.positions.shape), np.nan)\n",
    "if model.barostat is None:\n",
    "    MDbox = np.resize(model.box, (1,3,3))\n",
    "else:\n",
    "    MDbox = np.full((n_iter, 3, 3), np.nan)\n",
    "\n",
    "for n in trange(n_iter):\n",
    "    simulation.step(pace)\n",
    "    MDene[n] = simulation.context.getState(getEnergy=True).getPotentialEnergy().value_in_unit(unit.kilojoule_per_mole)\n",
    "    MDpos[n] = simulation.context.getState(getPositions=True, enforcePeriodicBox=True).getPositions(asNumpy=True).value_in_unit(unit.nanometers)\n",
    "    if model.barostat is not None:\n",
    "        MDbox[n] = simulation.context.getState().getPeriodicBoxVectors(asNumpy=True).value_in_unit(unit.nanometers)"
   ]
  },
  {
   "cell_type": "code",
   "execution_count": null,
   "id": "875418b7-9db4-4052-afe3-feadc36d082f",
   "metadata": {},
   "outputs": [],
   "source": [
    "#visualize\n",
    "plot_energy(MDene)\n",
    "plot_2Dview(MDpos[::10], MDbox[::10])\n",
    "# model.get_view(MDpos, MDbox)"
   ]
  },
  {
   "cell_type": "code",
   "execution_count": null,
   "id": "8848623c-16ba-4716-87b7-1a3b23f227e8",
   "metadata": {},
   "outputs": [],
   "source": [
    "# raise SystemError('Safety break')"
   ]
  },
  {
   "cell_type": "code",
   "execution_count": null,
   "id": "71dbcea6-f453-428a-9a4c-78f18352964a",
   "metadata": {},
   "outputs": [],
   "source": [
    "#save trajectory\n",
    "#NB: positions can be out of PBC, to avoid breaking molecules\n",
    "info = f'ice{ice_type}_T{temp}_N{model.n_waters}'\n",
    "filename = f'model-{info}.json'\n",
    "!bck.meup.sh -v {filename}\n",
    "model.save_to_json(filename)\n",
    "\n",
    "filename = f'MDtraj-{info}.npz'\n",
    "!bck.meup.sh -v {filename}\n",
    "np.savez(filename, pos=MDpos, box=MDbox, ene=MDene)\n",
    "\n",
    "#save also to scratch\n",
    "scratch_folder = f'/group/ag_cmb/scratch/minvernizzi/so3-flow/ice_MDdata/'\n",
    "!bck.meup.sh -v {scratch_folder}*{info}*; cp *{info}* {scratch_folder}"
   ]
  },
  {
   "cell_type": "code",
   "execution_count": null,
   "id": "edd59b8f-3a6d-4628-80d8-1946c88c4cf4",
   "metadata": {},
   "outputs": [],
   "source": [
    "# #load model from file\n",
    "# filename = f'model-{info}.json'\n",
    "# new_model = WaterModel.load_from_json(filename)"
   ]
  },
  {
   "cell_type": "code",
   "execution_count": null,
   "id": "ab14c9ee-9c14-4035-b9a0-33044f5a48e6",
   "metadata": {},
   "outputs": [],
   "source": []
  }
 ],
 "metadata": {
  "kernelspec": {
   "display_name": "Python 3 (ipykernel)",
   "language": "python",
   "name": "python3"
  },
  "language_info": {
   "codemirror_mode": {
    "name": "ipython",
    "version": 3
   },
   "file_extension": ".py",
   "mimetype": "text/x-python",
   "name": "python",
   "nbconvert_exporter": "python",
   "pygments_lexer": "ipython3",
   "version": "3.9.13"
  },
  "vscode": {
   "interpreter": {
    "hash": "71b41d88d8ec0b58ef41278cd5344764a50b337c8f428862b9243bc58d1bdc22"
   }
  }
 },
 "nbformat": 4,
 "nbformat_minor": 5
}
