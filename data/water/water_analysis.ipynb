{
 "cells": [
  {
   "cell_type": "code",
   "execution_count": 1,
   "id": "8a693a84",
   "metadata": {},
   "outputs": [],
   "source": [
    "%load_ext autoreload\n",
    "%autoreload 2"
   ]
  },
  {
   "cell_type": "code",
   "execution_count": 2,
   "id": "17f86513",
   "metadata": {},
   "outputs": [
    {
     "data": {
      "application/vnd.jupyter.widget-view+json": {
       "model_id": "3be1c6005a754b288fffaf90e464dc4f",
       "version_major": 2,
       "version_minor": 0
      },
      "text/plain": []
     },
     "metadata": {},
     "output_type": "display_data"
    }
   ],
   "source": [
    "import jax\n",
    "import jax.numpy as jnp\n",
    "\n",
    "import numpy as np\n",
    "\n",
    "import openmm\n",
    "import openmm, openmm.app\n",
    "from openmm import unit\n",
    "\n",
    "kB = unit.MOLAR_GAS_CONSTANT_R.value_in_unit(unit.kilojoule_per_mole/unit.kelvin)\n",
    "\n",
    "import mdtraj as md\n",
    "import nglview as nv\n",
    "\n",
    "from jax_dataclasses import pytree_dataclass\n",
    "\n",
    "import flox"
   ]
  },
  {
   "cell_type": "code",
   "execution_count": 3,
   "id": "443d689f",
   "metadata": {},
   "outputs": [],
   "source": [
    "#some useful stuff\n",
    "def water_mdtraj_topology(n_waters, n_sites=3):\n",
    "    H = md.element.Element.getBySymbol('H')\n",
    "    O = md.element.Element.getBySymbol('O')\n",
    "    VS = md.element.Element.getBySymbol('VS')\n",
    "    water_top = md.Topology()\n",
    "    water_top.add_chain()\n",
    "    for i in range(n_waters):\n",
    "        water_top.add_residue('HOH', water_top.chain(0))\n",
    "        water_top.add_atom('O', O, water_top.residue(i))\n",
    "        water_top.add_atom('H1', H, water_top.residue(i))\n",
    "        water_top.add_atom('H2', H, water_top.residue(i))\n",
    "        if n_sites == 4:\n",
    "            water_top.add_atom('M', VS, water_top.residue(i))\n",
    "        water_top.add_bond(water_top.atom(n_sites*i), water_top.atom(n_sites*i+1))\n",
    "        water_top.add_bond(water_top.atom(n_sites*i), water_top.atom(n_sites*i+2))\n",
    "    return water_top\n",
    "\n",
    "def get_view(positions,  box):\n",
    "    if len(positions.shape) == 3 and len(box.shape) == 1:\n",
    "        all_boxes = np.full((len(positions),len(box)), box)\n",
    "    else:\n",
    "        all_boxes = box\n",
    "    unitcell = {'unitcell_lengths' : all_boxes,\n",
    "                'unitcell_angles' : np.full(all_boxes.shape, 90)}\n",
    "\n",
    "    view = nv.show_mdtraj(md.Trajectory(positions, model.mdtraj_topology, **unitcell))\n",
    "    view.add_unitcell()\n",
    "    view.add_representation('ball+stick', selection=\"water\")\n",
    "    return view\n",
    "\n",
    "class ModelWrapper():\n",
    "    def __init__(self, system: openmm.System, mdtraj_topology: md.Topology, positions: np.ndarray):\n",
    "        assert system.getNumParticles() == mdtraj_topology.n_atoms\n",
    "        assert len(positions) == system.getNumParticles()\n",
    "        self.system = system\n",
    "        self.mdtraj_topology = mdtraj_topology\n",
    "        self.topology = mdtraj_topology.to_openmm()\n",
    "        self.positions = positions"
   ]
  },
  {
   "cell_type": "code",
   "execution_count": 4,
   "id": "ea05d97a",
   "metadata": {},
   "outputs": [],
   "source": [
    "# set PRNG seed\n",
    "seed = 42\n",
    "\n",
    "# set PRNG key chain\n",
    "chain = flox.util.key_chain(seed)"
   ]
  },
  {
   "cell_type": "code",
   "execution_count": 5,
   "id": "ad2235c0",
   "metadata": {},
   "outputs": [],
   "source": [
    "data = np.load(\"./data-iceIh_tip4pew-T270.npz\")"
   ]
  },
  {
   "cell_type": "code",
   "execution_count": 6,
   "id": "f9280532",
   "metadata": {},
   "outputs": [
    {
     "data": {
      "text/plain": [
       "(64, 3)"
      ]
     },
     "execution_count": 6,
     "metadata": {},
     "output_type": "execute_result"
    }
   ],
   "source": [
    "data[\"positions\"].shape"
   ]
  },
  {
   "cell_type": "code",
   "execution_count": 7,
   "id": "3f46af1c",
   "metadata": {},
   "outputs": [
    {
     "data": {
      "text/plain": [
       "array([0.92233076, 0.80326499, 0.71133756])"
      ]
     },
     "execution_count": 7,
     "metadata": {},
     "output_type": "execute_result"
    }
   ],
   "source": [
    "data[\"box\"]"
   ]
  },
  {
   "cell_type": "code",
   "execution_count": 255,
   "id": "679979cc",
   "metadata": {},
   "outputs": [
    {
     "name": "stdout",
     "output_type": "stream",
     "text": [
      "Total water molecules: 16\n"
     ]
    },
    {
     "data": {
      "application/vnd.jupyter.widget-view+json": {
       "model_id": "8196a49f3179426da0ae22d9e34a1a0d",
       "version_major": 2,
       "version_minor": 0
      },
      "text/plain": [
       "NGLWidget()"
      ]
     },
     "metadata": {},
     "output_type": "display_data"
    }
   ],
   "source": [
    "#load system from file\n",
    "temp = 270\n",
    "water_type = 'tip4pew'\n",
    "info = f'iceIh_{water_type}-T{temp}'\n",
    "\n",
    "box = np.load(f'data-{info}.npz')['box']\n",
    "positions = np.load(f'data-{info}.npz')['positions']\n",
    "with open(f'system-{info}.xml') as input:\n",
    "    system = openmm.XmlSerializer.deserialize(input.read())\n",
    "\n",
    "default_box_tensor = np.array([a.value_in_unit(unit.nanometer) for a in system.getDefaultPeriodicBoxVectors()])\n",
    "if not np.allclose(np.eye(3)*box, default_box_tensor):\n",
    "    print('WARNING: box mismatch, resetting it')\n",
    "    model.system.setDefaultPeriodicBoxVectors(*np.eye(3)*box)\n",
    "n_sites = int(''.join(x for x in water_type if x.isdigit())) #get n_sites from water_type name\n",
    "assert system.getNumParticles() % n_sites == 0\n",
    "n_waters = system.getNumParticles()//n_sites\n",
    "mdtraj_topology = water_mdtraj_topology(n_waters, n_sites)\n",
    "\n",
    "model = ModelWrapper(system, mdtraj_topology, positions)\n",
    "print('Total water molecules:', n_waters)\n",
    "get_view(model.positions, box)"
   ]
  },
  {
   "cell_type": "code",
   "execution_count": 9,
   "id": "862965ea",
   "metadata": {},
   "outputs": [],
   "source": [
    "pace = 500\n",
    "n_iter = 1_000\n",
    "\n",
    "integrator = openmm.LangevinMiddleIntegrator(temp*unit.kelvin, 1/unit.picosecond, 1*unit.femtosecond)\n",
    "if isinstance(model.system.getForces()[-1], (openmm.MonteCarloBarostat, openmm.MonteCarloAnisotropicBarostat, openmm.MonteCarloFlexibleBarostat)):\n",
    "    model.system.getForces()[-1].setDefaultTemperature(temp)\n",
    "# model.system.setDefaultPeriodicBoxVectors(*np.eye(3)*new_box) #the box must also be set if starting from position different from model.positions\n",
    "simulation = openmm.app.Simulation(model.topology, model.system, integrator)\n"
   ]
  },
  {
   "cell_type": "code",
   "execution_count": 13,
   "id": "9806d2d5",
   "metadata": {},
   "outputs": [],
   "source": [
    "pos = model.positions\n",
    "state = simulation.context.getState()\n",
    "box = state.getPeriodicBoxVectors(asNumpy=True).value_in_unit(unit.nanometer)"
   ]
  },
  {
   "cell_type": "code",
   "execution_count": 14,
   "id": "6a3f5624",
   "metadata": {},
   "outputs": [],
   "source": [
    "context = simulation.context\n",
    "context.reinitialize(preserveState=True)"
   ]
  },
  {
   "cell_type": "code",
   "execution_count": 58,
   "id": "51275b68",
   "metadata": {},
   "outputs": [
    {
     "data": {
      "application/vnd.jupyter.widget-view+json": {
       "model_id": "fd535289a90d461ca039460e7b82b0c9",
       "version_major": 2,
       "version_minor": 0
      },
      "text/plain": [
       "NGLWidget()"
      ]
     },
     "metadata": {},
     "output_type": "display_data"
    }
   ],
   "source": [
    "import matplotlib.pyplot as plt\n",
    "\n",
    "top = water_mdtraj_topology(1, 4)\n",
    "pos_ = pos + 0.\n",
    "pos_[3] += .04\n",
    "nv.show_mdtraj(md.Trajectory(pos_[0:4], top))"
   ]
  },
  {
   "cell_type": "code",
   "execution_count": 170,
   "id": "352bb4fc",
   "metadata": {},
   "outputs": [],
   "source": [
    "from flox.flow import rigid\n",
    "from flox import geom\n",
    "\n",
    "i = 13\n",
    "\n"
   ]
  },
  {
   "cell_type": "code",
   "execution_count": 171,
   "id": "9f534a7f",
   "metadata": {},
   "outputs": [
    {
     "data": {
      "text/plain": [
       "array([[0.92233076, 0.        , 0.        ],\n",
       "       [0.        , 0.80326499, 0.        ],\n",
       "       [0.        , 0.        , 0.71133756]])"
      ]
     },
     "execution_count": 171,
     "metadata": {},
     "output_type": "execute_result"
    }
   ],
   "source": [
    "box"
   ]
  },
  {
   "cell_type": "code",
   "execution_count": 231,
   "id": "3001b465",
   "metadata": {},
   "outputs": [
    {
     "name": "stdout",
     "output_type": "stream",
     "text": [
      "(1000, 16, 4, 3)\n",
      "(4, 3)\n",
      "(3, 3) (4, 3)\n",
      "(4, 3)\n"
     ]
    },
    {
     "data": {
      "text/plain": [
       "(1000, 16, 4, 3)"
      ]
     },
     "execution_count": 231,
     "metadata": {},
     "output_type": "execute_result"
    }
   ],
   "source": [
    "data = np.load(\"foo.npz\")\n",
    "p_ = data[\"positions\"]\n",
    "b_ = data[\"box\"]\n",
    "p_.shape, b_.shape\n",
    "\n",
    "torus = geom.Torus(b_)\n",
    "\n",
    "p_ = p_.reshape(p_.shape[0], -1, 4, 3)\n",
    "\n",
    "def normalize(p, t):\n",
    "    print(p.shape)\n",
    "    dR = jax.vmap(t.tangent, in_axes=(None, 0))(\n",
    "        p[0], p[1:] - p[0, :][None]\n",
    "    )\n",
    "    print(dR.shape, p.shape)\n",
    "    out = jnp.concatenate([\n",
    "        p[0, :][None],\n",
    "        p[0, :][None] + dR\n",
    "    ], axis=-2)\n",
    "        \n",
    "    print(out.shape)\n",
    "    return out\n",
    "\n",
    "print(p_.shape)\n",
    "p_ = jax.vmap(jax.vmap(normalize, in_axes=(0, None)))(p_, torus)\n",
    "p_.shape"
   ]
  },
  {
   "cell_type": "code",
   "execution_count": 232,
   "id": "4fc563a7",
   "metadata": {},
   "outputs": [
    {
     "data": {
      "image/png": "[encoded data removed]",
      "text/plain": [
       "<Figure size 1500x300 with 5 Axes>"
      ]
     },
     "metadata": {},
     "output_type": "display_data"
    }
   ],
   "source": [
    "q, p, d_OH1, d_OH2, a_HOH, d_OM, a_OM = jax.vmap(jax.vmap(partial(to_rigid), in_axes=(0, None)))(\n",
    "    p_.reshape(p_.shape[0], -1, 4, 3),\n",
    "    geom.Torus(b_),\n",
    ")\n",
    "a_HOH = a_HOH * 180 / jnp.pi\n",
    "a_OM = a_OM * 180 / jnp.pi\n",
    "\n",
    "plt.figure(figsize=(5 * 3, 3))\n",
    "for i, x in enumerate([d_OH1.reshape(-1), d_OH2.reshape(-1), a_HOH.reshape(-1), d_OM.reshape(-1), a_OM.reshape(-1)], start=1):\n",
    "    plt.subplot(1, 5, i)\n",
    "    plt.hist(x, range=(x.min() - 0.01, x.max() + 0.01), bins=20)"
   ]
  },
  {
   "cell_type": "code",
   "execution_count": 237,
   "id": "fd1dd85c",
   "metadata": {},
   "outputs": [
    {
     "data": {
      "text/plain": [
       "(16000, 3)"
      ]
     },
     "execution_count": 237,
     "metadata": {},
     "output_type": "execute_result"
    }
   ],
   "source": [
    "p.shape"
   ]
  },
  {
   "cell_type": "code",
   "execution_count": null,
   "id": "e13792aa",
   "metadata": {},
   "outputs": [],
   "source": [
    "q"
   ]
  },
  {
   "cell_type": "code",
   "execution_count": 262,
   "id": "02432c7d",
   "metadata": {
    "scrolled": false
   },
   "outputs": [],
   "source": [
    "# import itertools as it\n",
    "# import matplotlib.colors as mplc\n",
    "\n",
    "\n",
    "# p = p.reshape(-1, 16, 3)\n",
    "# q = q.reshape(-1, 16, 4)\n",
    "# q = q * jnp.sign(q[..., (0,)])\n",
    "\n",
    "# for l in range(16):\n",
    "\n",
    "    \n",
    "#     ijs = list(it.combinations(range(3), r=2))\n",
    "#     N = len(ijs)\n",
    "#     plt.figure(figsize=(6, 2))\n",
    "#     plt.suptitle(f\"molecule_{l} pos\")\n",
    "#     for k, (i, j) in enumerate(ijs, start=1):\n",
    "#         plt.subplot(1, N, k)\n",
    "#         plt.hist2d(p[:, l, i], p[:, l, j], bins=20, norm=mplc.LogNorm())\n",
    "\n",
    "#     ijs = list(it.combinations(range(4), r=2))\n",
    "#     N = len(ijs)\n",
    "#     plt.figure(figsize=(6, 4))\n",
    "#     plt.suptitle(f\"molecule_{l} quat\")\n",
    "#     for k, (i, j) in enumerate(ijs, start=1):\n",
    "#         plt.subplot(2, N // 2, k)\n",
    "#         plt.hist2d(q[:, l, i], q[:, l, j], bins=20, norm=mplc.LogNorm())"
   ]
  },
  {
   "cell_type": "code",
   "execution_count": 183,
   "id": "5b31f150",
   "metadata": {},
   "outputs": [
    {
     "data": {
      "image/png": "[encoded data removed]",
      "text/plain": [
       "<Figure size 1500x300 with 5 Axes>"
      ]
     },
     "metadata": {},
     "output_type": "display_data"
    }
   ],
   "source": [
    "torus = geom.Torus(jnp.diag(box))\n",
    "\n",
    "def to_rigid(pos, manifold):\n",
    "    p_O, p_H1, p_H2, p_M = pos\n",
    "    q, p, d_OH1, d_OH2, a_HOH = rigid.from_euclidean(pos[:3])\n",
    "    ldj = rigid.from_euclidean_log_jacobian(pos)\n",
    "    r_OM = manifold.tangent(\n",
    "        p_O, p_M - p_O\n",
    "    )\n",
    "    r_OM = geom.qrot3d(geom.qconj(q), r_OM)\n",
    "    d_OM = geom.norm(r_OM)\n",
    "    a_OM = jnp.arccos(geom.inner(r_OM, jnp.array([0., 0., 1.])))\n",
    "    return q, p, d_OH1, d_OH2, a_HOH, d_OM, a_OM\n",
    "    \n",
    "    \n",
    "q, p, d_OH1, d_OH2, a_HOH, d_OM, a_OM = jax.vmap(partial(to_rigid, manifold=torus))(pos.reshape(-1, 4, 3))\n",
    "a_HOH = a_HOH * 180 / jnp.pi\n",
    "a_OM = a_OM * 180 / jnp.pi\n",
    "\n",
    "plt.figure(figsize=(5 * 3, 3))\n",
    "for i, x in enumerate([d_OH1, d_OH2, a_HOH, d_OM, a_OM], start=1):\n",
    "    plt.subplot(1, 5, i)\n",
    "    plt.hist(x, range=(x.min() - 0.01, x.max() + 0.01), bins=20)"
   ]
  },
  {
   "cell_type": "code",
   "execution_count": 261,
   "id": "ce24f663",
   "metadata": {},
   "outputs": [
    {
     "data": {
      "text/plain": [
       "(DeviceArray(89.56162, dtype=float32), DeviceArray(89.56163, dtype=float32))"
      ]
     },
     "execution_count": 261,
     "metadata": {},
     "output_type": "execute_result"
    }
   ],
   "source": [
    "a_OM.min(), a_OM.max()"
   ]
  },
  {
   "cell_type": "code",
   "execution_count": 186,
   "id": "d15db39a",
   "metadata": {},
   "outputs": [
    {
     "data": {
      "image/png": "[encoded data removed]",
      "text/plain": [
       "<Figure size 1200x400 with 3 Axes>"
      ]
     },
     "metadata": {},
     "output_type": "display_data"
    },
    {
     "data": {
      "image/png": "[encoded data removed]",
      "text/plain": [
       "<Figure size 1600x400 with 6 Axes>"
      ]
     },
     "metadata": {},
     "output_type": "display_data"
    }
   ],
   "source": []
  },
  {
   "cell_type": "code",
   "execution_count": 263,
   "id": "7e015b98",
   "metadata": {},
   "outputs": [
    {
     "data": {
      "text/plain": [
       "(DeviceArray(52.259937, dtype=float32), DeviceArray(104.51999, dtype=float32))"
      ]
     },
     "execution_count": 263,
     "metadata": {},
     "output_type": "execute_result"
    }
   ],
   "source": [
    "i = 8\n",
    "\n",
    "q, r, b1, b2, a = rigid.from_euclidean(\n",
    "    pos_[0 + i * 4:3 + i * 4]\n",
    ")\n",
    "q = flox.geom.qconj(q)\n",
    "\n",
    "r_OH = pos[1 + i*4] - pos[0 + i*4]\n",
    "r_OH2 = pos[2 + i*4] - pos[0 + i*4]\n",
    "r_OM = pos[3 + i*4] - pos[0 + i*4]\n",
    "d_OH = flox.geom.norm(r_OH)\n",
    "d_OM = flox.geom.norm(r_OM)\n",
    "\n",
    "flox.geom.norm(pos[3 + i*4] - pos[0 + i*4])\n",
    "a = jnp.arccos(jnp.inner(r_OH, r_OM) / (d_OH * d_OM)) * 180 / np.pi\n",
    "b = jnp.arccos(jnp.inner(r_OH, r_OH2) / (d_OH * d_OH)) * 180 / np.pi\n",
    "a, b\n",
    "\n",
    "# flox.geom.qrot3d(q, r_OH), flox.geom.qrot3d(q, r_OH2), flox.geom.qrot3d(q, r_OM), "
   ]
  },
  {
   "cell_type": "code",
   "execution_count": 169,
   "id": "3d88e2c1",
   "metadata": {},
   "outputs": [
    {
     "data": {
      "text/plain": [
       "(DeviceArray(0.00988496, dtype=float32),\n",
       " DeviceArray(0.00765101, dtype=float32))"
      ]
     },
     "execution_count": 169,
     "metadata": {},
     "output_type": "execute_result"
    }
   ],
   "source": [
    "jnp.sin(a * np.pi / 180) * d_OM, jnp.cos(a * np.pi / 180) * d_OM"
   ]
  },
  {
   "cell_type": "code",
   "execution_count": 264,
   "id": "0b8dce32",
   "metadata": {},
   "outputs": [],
   "source": [
    "import scipy.stats\n",
    "\n",
    "box_mean = np.array([0.93738384, 0.76394411, 0.74025662])\n",
    "box_cov = np.array([[ 0.00124461, -0.00053213, -0.00029769],\n",
    "        [-0.00053213,  0.0007857 , -0.00012568],\n",
    "        [-0.00029769, -0.00012568,  0.00064462]])\n",
    "\n",
    "# box_norm.rvs()"
   ]
  },
  {
   "cell_type": "code",
   "execution_count": 282,
   "id": "643a281d",
   "metadata": {},
   "outputs": [
    {
     "name": "stdout",
     "output_type": "stream",
     "text": [
      "21.1 ms ± 491 µs per loop (mean ± std. dev. of 7 runs, 10 loops each)\n"
     ]
    }
   ],
   "source": [
    "%%timeit \n",
    "for i in range(100):\n",
    "    energy(pos, box * np.eye(3))"
   ]
  },
  {
   "cell_type": "code",
   "execution_count": 278,
   "id": "66ed2db0",
   "metadata": {},
   "outputs": [],
   "source": [
    "from functools import partial\n",
    "\n",
    "def energy(p, b):\n",
    "    simulation.context.setPositions(p)\n",
    "#     box_norm = scipy.stats.multivariate_normal(box_mean, box_cov)\n",
    "#     b = np.eye(3) * box_norm.rvs()\n",
    "    simulation.context.setPeriodicBoxVectors(b[0], b[1], b[2])\n",
    "    state = simulation.context.getState(getEnergy=True, getForces=True)\n",
    "    energy = state.getPotentialEnergy().value_in_unit(unit.kilojoule_per_mole)\n",
    "    force = state.getForces(asNumpy=True).value_in_unit(unit.kilojoule_per_mole / unit.nanometer)\n",
    "    return np.array(energy, np.float32), force.astype(np.float32)\n",
    "\n",
    "\n",
    "def energy_and_forces(p, b):\n",
    "    shape_specs = (\n",
    "        jax.ShapedArray((), jnp.float32),\n",
    "        jax.ShapedArray(p.shape, jnp.float32)\n",
    "    )\n",
    "    return jax.pure_callback(\n",
    "        energy, shape_specs, p, b\n",
    "    )"
   ]
  },
  {
   "cell_type": "code",
   "execution_count": 284,
   "id": "8e2d44c1",
   "metadata": {},
   "outputs": [],
   "source": [
    "pos_ = jnp.tile(pos[None], (100, 1, 1))\n",
    "box_ = jnp.tile((box * jnp.eye(3))[None], (100, 1, 1))"
   ]
  },
  {
   "cell_type": "code",
   "execution_count": 285,
   "id": "caf7f607",
   "metadata": {},
   "outputs": [
    {
     "name": "stdout",
     "output_type": "stream",
     "text": [
      "28.2 ms ± 3.8 ms per loop (mean ± std. dev. of 7 runs, 1 loop each)\n"
     ]
    }
   ],
   "source": [
    "%%timeit \n",
    "for p, b in zip(pos_, box_):\n",
    "    energy(pos, box * np.eye(3))"
   ]
  },
  {
   "cell_type": "code",
   "execution_count": 287,
   "id": "f014ee20",
   "metadata": {},
   "outputs": [
    {
     "name": "stdout",
     "output_type": "stream",
     "text": [
      "118 ms ± 5.66 ms per loop (mean ± std. dev. of 7 runs, 10 loops each)\n"
     ]
    }
   ],
   "source": [
    "%%timeit \n",
    "jax.jit(jax.vmap(energy_and_forces))(pos_, box_)"
   ]
  },
  {
   "cell_type": "code",
   "execution_count": 35,
   "id": "88d01c30",
   "metadata": {},
   "outputs": [
    {
     "data": {
      "text/plain": [
       "(DeviceArray(-795.54675, dtype=float32),\n",
       " DeviceArray([[-5.82345398e+02, -3.22835400e+03, -2.57644727e+03],\n",
       "              [ 7.82603821e+02, -1.67749588e+02,  4.83937714e+02],\n",
       "              [-1.97130222e+01,  1.38423596e+03,  8.95118286e+02],\n",
       "              [-9.76645020e+02, -1.15505933e+03, -1.22578894e+03],\n",
       "              [-1.25539160e+03, -1.00142572e+03, -4.78438232e+02],\n",
       "              [ 3.05881378e+02,  1.00988910e+03,  1.07713921e+02],\n",
       "              [ 9.35515503e+02, -7.71954269e+01,  2.85892975e+02],\n",
       "              [-1.66237793e+03, -1.16154089e+03, -6.26015930e+02],\n",
       "              [-2.05958252e+03,  2.23778687e+02,  1.33126489e+03],\n",
       "              [ 5.10429382e+02,  2.23470291e+02, -9.61715210e+02],\n",
       "              [ 1.07758313e+03,  7.37406372e+02, -5.01718941e+01],\n",
       "              [-1.10609998e+03, -1.59921069e+03,  9.40104370e+02],\n",
       "              [-1.14667444e+03, -5.88761353e+02, -1.20450684e+03],\n",
       "              [ 8.92087524e+02,  4.27576233e+02,  1.37495071e+02],\n",
       "              [ 1.14813629e+02,  2.18684616e+02,  1.11189038e+03],\n",
       "              [-1.35112695e+03, -9.90167297e+02, -1.05151416e+03],\n",
       "              [-1.06905713e+03, -1.14490210e+03,  1.25296619e+03],\n",
       "              [ 4.05527679e+02,  1.07025305e+03, -3.84665802e+02],\n",
       "              [ 8.18243042e+02, -3.57783478e+02, -4.23616089e+02],\n",
       "              [-1.31157068e+03, -8.82838501e+02,  9.38930420e+02],\n",
       "              [ 6.42634094e+02, -1.33152557e+02,  1.58039514e+03],\n",
       "              [-6.83322327e+02,  5.02718964e+02, -4.51059647e+01],\n",
       "              [ 1.27498260e+02,  2.92669098e+02, -1.22672168e+03],\n",
       "              [ 4.54070923e+02, -1.11567664e+03,  1.26776636e+03],\n",
       "              [-1.37751721e+03,  6.42382324e+02, -1.15509583e+03],\n",
       "              [ 5.74771690e+01,  1.19710674e+01,  1.03180872e+03],\n",
       "              [ 9.77918579e+02, -3.43606812e+02,  3.59092484e+01],\n",
       "              [-1.50602576e+03,  5.95943237e+02, -7.45091125e+02],\n",
       "              [-8.38158936e+02,  1.23989233e+03, -1.65666656e+02],\n",
       "              [-1.52437576e+02,  1.80129837e+02,  9.25087646e+02],\n",
       "              [ 8.44166992e+02,  7.02318848e+02,  6.53496933e+01],\n",
       "              [-6.60120422e+02, -1.39775977e+03, -1.60904944e+03],\n",
       "              [-7.73183655e+02, -3.01807159e+02,  4.08725647e+02],\n",
       "              [ 3.56205368e+01, -7.74729797e+02, -3.91233063e+02],\n",
       "              [ 7.40258484e+02,  5.61144470e+02, -3.67683472e+02],\n",
       "              [-1.43545129e+03,  3.91579132e+02,  1.54479834e+03],\n",
       "              [-1.52774023e+03,  5.45464294e+02,  8.44062256e+02],\n",
       "              [ 7.37007935e+02,  1.76041043e+00, -6.30941223e+02],\n",
       "              [ 4.09437988e+02, -7.76493042e+02, -3.42531219e+02],\n",
       "              [-1.81406458e+03,  6.68230896e+02,  9.59969910e+02],\n",
       "              [-9.55391296e+02,  2.37674634e+03, -1.01853003e+03],\n",
       "              [ 4.43082092e+02, -1.42293372e+03,  5.02460510e+02],\n",
       "              [ 3.66397217e+02,  2.11223160e+02,  3.56854828e+02],\n",
       "              [-1.02163464e+03,  9.33188477e+02, -1.00262250e+03],\n",
       "              [ 1.21564978e+03,  2.66943359e+01, -5.93289978e+02],\n",
       "              [-2.89612915e+02, -5.68182495e+02,  5.31911560e+02],\n",
       "              [-9.07235535e+02,  3.31412048e+02,  1.94289459e+02],\n",
       "              [ 1.38441016e+03,  5.54949280e+02, -1.31116309e+03],\n",
       "              [-9.10305786e+01,  7.86038269e+02,  6.19663208e+02],\n",
       "              [-8.12552414e+01, -6.68287354e+01, -6.63684875e+02],\n",
       "              [ 5.80276550e+02, -4.42088074e+02,  4.88580017e+01],\n",
       "              [-7.90053284e+02,  7.68886475e+02,  1.23534460e+03],\n",
       "              [-6.35363586e+02,  4.83096741e+02, -1.07170398e+03],\n",
       "              [ 7.25809204e+02, -3.19525391e+02,  1.73139019e+01],\n",
       "              [ 3.27301666e+02, -1.24513016e+02,  6.98304626e+02],\n",
       "              [-7.34721069e+02,  5.77229126e+02, -1.03759692e+03],\n",
       "              [ 8.08715942e+02, -5.27148560e+02, -3.57702332e+02],\n",
       "              [-1.91711563e+02, -8.98778687e+01,  9.53379639e+02],\n",
       "              [-6.21575500e+02, -5.80630371e+02, -2.55116501e+01],\n",
       "              [ 1.00923059e+03,  1.29939172e+03, -1.18441443e+03],\n",
       "              [ 1.82203845e+03, -2.01540002e+03, -7.15660645e+02],\n",
       "              [-8.31182190e+02, -3.07812988e+02,  1.72199921e+02],\n",
       "              [-6.14270508e+02,  1.16988428e+03,  2.58202393e+02],\n",
       "              [ 1.57819861e+03, -8.13744507e+02, -1.28863452e+03]],            dtype=float32))"
      ]
     },
     "execution_count": 35,
     "metadata": {},
     "output_type": "execute_result"
    }
   ],
   "source": [
    "energy_and_forces(pos, box)"
   ]
  },
  {
   "cell_type": "code",
   "execution_count": null,
   "id": "abdffbe6",
   "metadata": {},
   "outputs": [],
   "source": [
    "%timeit energy_and_forces(p, b)[0].block_until_ready()"
   ]
  },
  {
   "cell_type": "code",
   "execution_count": null,
   "id": "33c5c5e9",
   "metadata": {},
   "outputs": [],
   "source": []
  }
 ],
 "metadata": {
  "kernelspec": {
   "display_name": "Python 3 (ipykernel)",
   "language": "python",
   "name": "python3"
  },
  "language_info": {
   "codemirror_mode": {
    "name": "ipython",
    "version": 3
   },
   "file_extension": ".py",
   "mimetype": "text/x-python",
   "name": "python",
   "nbconvert_exporter": "python",
   "pygments_lexer": "ipython3",
   "version": "3.10.6"
  }
 },
 "nbformat": 4,
 "nbformat_minor": 5
}
