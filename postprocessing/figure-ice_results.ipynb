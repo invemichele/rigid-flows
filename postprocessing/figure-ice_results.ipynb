{
 "cells": [
  {
   "attachments": {},
   "cell_type": "markdown",
   "metadata": {},
   "source": [
    "# Posprocessing a run"
   ]
  },
  {
   "cell_type": "code",
   "execution_count": 1,
   "metadata": {},
   "outputs": [],
   "source": [
    "%load_ext autoreload\n",
    "%autoreload 2"
   ]
  },
  {
   "cell_type": "code",
   "execution_count": 2,
   "metadata": {},
   "outputs": [
    {
     "name": "stdout",
     "output_type": "stream",
     "text": [
      "env: XLA_PYTHON_CLIENT_ALLOCATOR=platform\n"
     ]
    }
   ],
   "source": [
    "# %env XLA_PYTHON_CLIENT_MEM_FRACTION=.6\n",
    "%env XLA_PYTHON_CLIENT_ALLOCATOR=platform"
   ]
  },
  {
   "cell_type": "code",
   "execution_count": 3,
   "metadata": {},
   "outputs": [
    {
     "name": "stderr",
     "output_type": "stream",
     "text": [
      "2023-03-02 14:09:27.814880: W tensorflow/compiler/xla/stream_executor/platform/default/dso_loader.cc:64] Could not load dynamic library 'libnvinfer.so.7'; dlerror: libnvinfer.so.7: cannot open shared object file: No such file or directory; LD_LIBRARY_PATH: :/home/mi/minvernizzi/.local/lib\n",
      "2023-03-02 14:09:27.814983: W tensorflow/compiler/xla/stream_executor/platform/default/dso_loader.cc:64] Could not load dynamic library 'libnvinfer_plugin.so.7'; dlerror: libnvinfer_plugin.so.7: cannot open shared object file: No such file or directory; LD_LIBRARY_PATH: :/home/mi/minvernizzi/.local/lib\n",
      "2023-03-02 14:09:27.814990: W tensorflow/compiler/tf2tensorrt/utils/py_utils.cc:38] TF-TRT Warning: Cannot dlopen some TensorRT libraries. If you would like to use Nvidia GPU with TensorRT, please make sure the missing libraries mentioned above are installed properly.\n"
     ]
    },
    {
     "data": {
      "application/vnd.jupyter.widget-view+json": {
       "model_id": "0edb859db3244cc9a7fea4cc140cd039",
       "version_major": 2,
       "version_minor": 0
      },
      "text/plain": []
     },
     "metadata": {},
     "output_type": "display_data"
    }
   ],
   "source": [
    "import lenses\n",
    "import jax\n",
    "import numpy as np\n",
    "from jax import numpy as jnp\n",
    "from typing import cast\n",
    "import matplotlib.pyplot as plt\n",
    "from matplotlib.ticker import FormatStrFormatter\n",
    "from tqdm import trange\n",
    "\n",
    "from flox.util import key_chain\n",
    "from flox.flow import Pipe, Inverted, bind#, Transform, Transformed\n",
    "import equinox as eqx\n",
    "from functools import partial\n",
    "\n",
    "from rigid_flows.flow import build_flow, RigidWithAuxiliary\n",
    "from rigid_flows.data import Data, DataWithAuxiliary\n",
    "from rigid_flows.density import OpenMMDensity\n",
    "from rigid_flows.specs import FlowSpecification, CouplingSpecification, ExperimentSpecification\n",
    "# from rigid_flows.density import PositionPrior, RotationPrior\n",
    "from rigid_flows.utils import jit_and_cleanup_cache, scanned_vmap\n",
    "\n",
    "chain = key_chain(42)"
   ]
  },
  {
   "cell_type": "code",
   "execution_count": 4,
   "metadata": {},
   "outputs": [],
   "source": [
    "#set bigger font sizes\n",
    "SMALL_SIZE = 12\n",
    "MEDIUM_SIZE = 14\n",
    "BIG_SIZE = 16\n",
    "\n",
    "plt.rc('font', size=SMALL_SIZE)        # controls default text sizes\n",
    "plt.rc('axes', titlesize=SMALL_SIZE)   # fontsize of the axes title\n",
    "plt.rc('axes', labelsize=MEDIUM_SIZE)  # fontsize of the x and y labels\n",
    "plt.rc('xtick', labelsize=SMALL_SIZE)  # fontsize of the tick labels\n",
    "plt.rc('ytick', labelsize=SMALL_SIZE)  # fontsize of the tick labels\n",
    "plt.rc('legend', fontsize=SMALL_SIZE)  # legend fontsize\n",
    "plt.rc('figure', titlesize=BIG_SIZE)   # fontsize of the figure title"
   ]
  },
  {
   "cell_type": "code",
   "execution_count": 5,
   "metadata": {},
   "outputs": [],
   "source": [
    "def count_params(model):\n",
    "    return jax.tree_util.tree_reduce(\n",
    "        lambda s, n: s + n.size if eqx.is_array(n) else s, model, jnp.zeros((), dtype=jnp.int32)).item()\n",
    "\n",
    "def ess(logw):\n",
    "    return jnp.exp(2*jax.scipy.special.logsumexp(logw)-jax.scipy.special.logsumexp(2*logw))"
   ]
  },
  {
   "cell_type": "code",
   "execution_count": 6,
   "metadata": {},
   "outputs": [
    {
     "name": "stdout",
     "output_type": "stream",
     "text": [
      "+++ trainng stage 0, epoch 9 +++\n",
      "../logdir/antelope_N128_T100_lr_2023-03-02_08:37:39/training_stage_0/epoch_9/model.eqx\n"
     ]
    }
   ],
   "source": [
    "# logdir_path = \"../jonas_logdir/\"\n",
    "# logdir_path += 'tuna_N16_T100_noaux_2023-01-24_16:02:39' #ESS 22.12% internally coherent ------------------\n",
    "# logdir_path += 'antelope_N16_T50_noaux_2023-01-25_08:08:54' #ESS 4.80% ------------------\n",
    "# logdir_path += 'dragonfly_N128_T100_noaux_2023-01-24_22:33:59' #ESS 0.25% ------------------\n",
    "\n",
    "#######################################################################################################\n",
    "\n",
    "logdir_path = \"../logdir/\"\n",
    "# logdir_path += 'antelope_N128_T100_std_2023-02-27_16:17:18'\n",
    "\n",
    "folder = !ls -d {logdir_path}antelope_N128_T100_lr*\n",
    "logdir_path = folder[-1]\n",
    "\n",
    "#######################################################################################################\n",
    "\n",
    "# logdir_path = \"../testing\"\n",
    "\n",
    "#######################################################################################################\n",
    "\n",
    "stage = !ls -d {logdir_path}/training_stage* |wc -l\n",
    "stage = int(stage[0]) - 1\n",
    "epoch = !ls -d {logdir_path}/training_stage_{stage}/epoch_* |wc -l\n",
    "epoch = int(epoch[0]) - 1\n",
    "print(f\"+++ trainng stage {stage}, epoch {epoch} +++\")\n",
    "specs_path = f\"{logdir_path}/config.yaml\"\n",
    "pretrained_model_path = f\"{logdir_path}/training_stage_{stage}/epoch_{epoch}/model.eqx\"\n",
    "print(pretrained_model_path)"
   ]
  },
  {
   "cell_type": "code",
   "execution_count": 7,
   "metadata": {},
   "outputs": [
    {
     "name": "stdout",
     "output_type": "stream",
     "text": [
      "MD training datapoints = 100_000\n",
      "MD eval datapoints = 100_000\n",
      "batchs per epoch = 1000\n",
      "batch size = 32\n",
      "data fraction: 3.2\n"
     ]
    }
   ],
   "source": [
    "specs = ExperimentSpecification.load_from_file(specs_path)\n",
    "specs = lenses.bind(specs).model.base.path.set(specs.model.base.path + \"/eval_100\")\n",
    "\n",
    "base = OpenMMDensity.from_specs(specs.model.use_auxiliary, specs.model.base)\n",
    "model = base.omm_model.model\n",
    "\n",
    "training_data_size = 100_000 if specs.model.base.num_samples is None else specs.model.base.num_samples\n",
    "print(f\"MD training datapoints = {training_data_size:_}\")\n",
    "print(f\"MD eval datapoints = {base.data.pos.shape[0]:_}\")\n",
    "print(f\"batchs per epoch = {specs.train[0].num_iters_per_epoch}\")\n",
    "print(f\"batch size = {specs.train[0].num_samples}\")\n",
    "print(f\"data fraction: {specs.train[0].num_epochs*specs.train[0].num_samples*specs.train[0].num_iters_per_epoch/training_data_size}\")"
   ]
  },
  {
   "cell_type": "code",
   "execution_count": 8,
   "metadata": {},
   "outputs": [
    {
     "data": {
      "text/plain": [
       "(-5314.32432, 0.10492)"
      ]
     },
     "execution_count": 8,
     "metadata": {},
     "output_type": "execute_result"
    }
   ],
   "source": [
    "try:\n",
    "    ref_file = f\"../data/water/DeltaF_estimates/DF-{specs.model.base}-{specs.model.target}.txt\"\n",
    "    reference_deltaF, reference_deltaF_std = np.loadtxt(ref_file, unpack=True)\n",
    "except FileNotFoundError:\n",
    "    reference_deltaF, reference_deltaF_std = None, None\n",
    "\n",
    "reference_deltaF, reference_deltaF_std"
   ]
  },
  {
   "cell_type": "code",
   "execution_count": 9,
   "metadata": {},
   "outputs": [],
   "source": [
    "sc = model.n_molecules\n",
    "test_subplots = False"
   ]
  },
  {
   "cell_type": "code",
   "execution_count": 10,
   "metadata": {},
   "outputs": [],
   "source": [
    "try:\n",
    "    loss = np.loadtxt(logdir_path+'/loss.txt')\n",
    "    loss_info = np.stack([1+np.arange(len(loss)), loss], axis=-1)\n",
    "except FileNotFoundError:\n",
    "    #older version did not save the loss, but you can download it manually from tensorboard as a json\n",
    "    print('using json')\n",
    "    import json\n",
    "    with open(logdir_path+'/loss.json', \"r\") as f:\n",
    "        loss_info = np.array(json.load(f))[:,1:]"
   ]
  },
  {
   "cell_type": "code",
   "execution_count": 11,
   "metadata": {},
   "outputs": [],
   "source": [
    "from mpl_toolkits.axes_grid1.inset_locator import inset_axes\n",
    "import matplotlib.image as mpimg\n",
    "\n",
    "def plot_loss():\n",
    "    plt.plot(loss_info[:,0], loss_info[:,1]/sc)\n",
    "    plt.axhline(reference_deltaF/sc, c='k', ls=':', label='$\\Delta F$')\n",
    "    # plt.xlim(0, loss_info[-1,0])\n",
    "    plt.xlim(1e2, loss_info[-1,0])\n",
    "    plt.xscale('log')\n",
    "    plt.ylabel('loss')\n",
    "    plt.xlabel('steps')\n",
    "    plt.legend(loc='lower left')\n",
    "\n",
    "    img = mpimg.imread(f'../data/water/iceXI-N{model.n_molecules}.png')\n",
    "    subax = inset_axes(plt.gca(), width=\"50%\", height=\"60%\", loc=1)\n",
    "    subax.imshow(img)\n",
    "    subax.axis('off')\n",
    "    \n",
    "if test_subplots:\n",
    "    plot_loss()\n",
    "    plt.show()"
   ]
  },
  {
   "cell_type": "code",
   "execution_count": 12,
   "metadata": {},
   "outputs": [
    {
     "name": "stdout",
     "output_type": "stream",
     "text": [
      "num_samples=100_000\n",
      "sample base\n",
      "map base\n",
      "tot flow parameters: 7_458_896\n",
      "compute weights\n",
      "sample target\n"
     ]
    }
   ],
   "source": [
    "recompute = True\n",
    "datafilename = logdir_path+'/fig-data'\n",
    "\n",
    "try:\n",
    "    if recompute:\n",
    "        raise FileNotFoundError\n",
    "    data = np.load(datafilename+'.npz')\n",
    "    base_pos = data['base_pos']\n",
    "    base_ene = data['base_ene']\n",
    "    mapped_pos = data['mapped_pos']\n",
    "    mapped_ene = data['mapped_ene']\n",
    "    target_pos = data['target_pos']\n",
    "    target_ene = data['target_ene']\n",
    "    weights = data['weights']\n",
    "    print(f'ESS = {ess(np.log(weights)):g}  ->  {ess(np.log(weights))/len(weights):.2%}')\n",
    "    \n",
    "except FileNotFoundError:\n",
    "    num_samples = base.data.pos.shape[0]\n",
    "    print(f'num_samples={num_samples:_}')\n",
    "    def jitvmap(fn, batch_size=512):\n",
    "        if batch_size is None:\n",
    "            return jax.jit(jax.vmap(fn))\n",
    "        else:\n",
    "            return jax.jit(scanned_vmap(fn, batch_size))\n",
    "\n",
    "    print('sample base')\n",
    "    keys = jax.random.split(next(chain), num_samples)\n",
    "    base_tr = jitvmap(base.sample_idx)(keys, jnp.arange(num_samples))\n",
    "    base_pos = np.array(base_tr.obj.pos.reshape(-1, model.n_atoms, 3))\n",
    "    base_ene = np.array(base_tr.ldj * base.omm_model.kbT)\n",
    "\n",
    "    print('map base')\n",
    "    flow = build_flow(\n",
    "        next(chain),\n",
    "        specs.model.base.num_molecules,\n",
    "        specs.model.use_auxiliary,\n",
    "        specs.model.flow,\n",
    "    )\n",
    "    flow = cast(\n",
    "        Pipe[DataWithAuxiliary, RigidWithAuxiliary],\n",
    "        eqx.tree_deserialise_leaves(pretrained_model_path, flow),\n",
    "    )\n",
    "    print(f\"tot flow parameters: {count_params(flow):_}\")\n",
    "    mapped_tr = jitvmap(flow.forward)(base_tr.obj)\n",
    "    mapped_pos = np.array(mapped_tr.obj.pos.reshape(-1, model.n_atoms, 3))\n",
    "\n",
    "    print('compute weights')\n",
    "    target = OpenMMDensity.from_specs(specs.model.use_auxiliary, specs.model.target)\n",
    "    ## NB: base_tr.ldj = jax.vmap(base.potential)(base_tr.obj)\n",
    "    mapped_ene_tg = jitvmap(target.potential)(mapped_tr.obj)\n",
    "    mapped_ene = np.array(mapped_ene_tg * target.omm_model.kbT)\n",
    "\n",
    "    logw = base_tr.ldj + mapped_tr.ldj - mapped_ene_tg\n",
    "    weights = np.array(jnp.exp(logw-jax.scipy.special.logsumexp(logw)))\n",
    "\n",
    "    print('sample target')\n",
    "    keys = jax.random.split(next(chain), num_samples)\n",
    "    target_tr = jitvmap(target.sample_idx)(keys, jnp.arange(num_samples))\n",
    "    target_pos = np.array(target_tr.obj.pos.reshape(-1, model.n_atoms, 3))\n",
    "    target_ene = np.array(target_tr.ldj * target.omm_model.kbT)\n",
    "\n",
    "    def plot_2Dview(data_tr: DataWithAuxiliary, title: str, toPBC: bool = True, skip: int = 100):\n",
    "        model.plot_2Dview(data_tr.obj.pos.reshape(-1, model.n_atoms, 3)[::skip], toPBC=toPBC, title=title)\n",
    "\n",
    "    plot_2Dview(base_tr, title='base')\n",
    "    plot_2Dview(mapped_tr, title='mapped')\n",
    "    plot_2Dview(target_tr, title='target')\n",
    "\n",
    "    plt.hist(jnp.exp(logw - logw.max()), bins=100)\n",
    "    plt.yscale('log')\n",
    "    plt.show()\n",
    "    print(f'ESS = {ess(logw):g}  ->  {ess(logw)/len(logw):.2%}')\n",
    "\n",
    "    ## TFEP\n",
    "    deltaF = (jnp.log(len(logw)) - jax.scipy.special.logsumexp(logw)).item()\n",
    "    print(f'Estimated deltaF from LFEP = {deltaF/sc:g}')\n",
    "    if reference_deltaF is not None:\n",
    "        print(f'          Reference deltaF = {reference_deltaF/sc:g}')"
   ]
  },
  {
   "cell_type": "code",
   "execution_count": null,
   "metadata": {},
   "outputs": [],
   "source": [
    "# bins = np.linspace(target_ene.min(), np.percentile(base_ene, 99.9), 200)/sc\n",
    "# if model.n_molecules == 16:\n",
    "#     bins = np.linspace(-20.5, -17, 200)*model.n_molecules*3/sc\n",
    "# if model.n_molecules == 128:\n",
    "#     bins = np.linspace(-20, -17.75, 200)*model.n_molecules*3/sc\n",
    "bins = np.linspace(-20.5, -17.5, 100)*model.n_molecules*3/sc\n",
    "hist_kwargs = {\"bins\": bins, \"density\": True, \"alpha\": 0.5}\n",
    "\n",
    "def plot_energy():\n",
    "    plt.hist(base_ene/sc, **hist_kwargs, label='base')\n",
    "    plt.hist(mapped_ene/sc, **hist_kwargs, label='mapped')\n",
    "    plt.hist(target_ene/sc, **hist_kwargs, label='target')\n",
    "    if model.n_molecules == 128: #ESS is small, histogram resolution must be smaller\n",
    "        mybins = 75\n",
    "    else:\n",
    "        mybins = hist_kwargs['bins']\n",
    "    plt.hist(mapped_ene/sc, weights=weights, label='reweighted', bins=mybins, density=True, histtype='step')\n",
    "    plt.xlabel('potential energy / N [kJ/mol]')\n",
    "    # plt.xticks(np.arange(-21,-16)*model.n_molecules*3/sc)\n",
    "    plt.xlim(bins[0], bins[-1])\n",
    "    plt.ylabel('density')\n",
    "    plt.legend()\n",
    "\n",
    "if test_subplots:\n",
    "    plot_energy()\n",
    "    plt.show()"
   ]
  },
  {
   "cell_type": "code",
   "execution_count": null,
   "metadata": {},
   "outputs": [],
   "source": [
    "import mdtraj as md\n",
    "\n",
    "n_bins = 200\n",
    "# r_range = [0.2, min(np.round(np.diag(model.box).min() * 10) / 10, 1)]\n",
    "r_range = [0.2, 0.7]\n",
    "ij = model.mdtraj_topology.select_pairs(\"name == O\", \"name == O\")\n",
    "\n",
    "base_rdf = md.compute_rdf(model.get_mdtraj(base_pos), ij, r_range=r_range, n_bins=n_bins)\n",
    "mapped_rdf = md.compute_rdf(model.get_mdtraj(mapped_pos), ij, r_range=r_range, n_bins=n_bins)\n",
    "target_rdf = md.compute_rdf(model.get_mdtraj(target_pos), ij, r_range=r_range, n_bins=n_bins)"
   ]
  },
  {
   "cell_type": "code",
   "execution_count": null,
   "metadata": {},
   "outputs": [],
   "source": [
    "#TODO add reweighted rdf\n",
    "\n",
    "def plot_rdf():\n",
    "    plt.plot(*base_rdf, label='base', lw=2)\n",
    "    plt.plot(*mapped_rdf, label='mapped', lw=4, ls='--')\n",
    "    plt.plot(*target_rdf, label='target', lw=2)\n",
    "    # plt.axvline(model.box.max()/2, c='k', ls=':', alpha=.5)\n",
    "    plt.ylabel(\"g(r)\")\n",
    "    plt.xlabel(\"r [nm]\")\n",
    "    plt.xlim(r_range)\n",
    "    plt.yticks(np.arange(0, 14, 2))\n",
    "    plt.ylim(None, 13)\n",
    "    plt.ylabel(\"oxygen g(r)\")\n",
    "    # plt.gca().yaxis.set_major_formatter(FormatStrFormatter('%.0f'))\n",
    "    plt.legend()\n",
    "\n",
    "if test_subplots:\n",
    "    plot_rdf()\n",
    "    plt.show()"
   ]
  },
  {
   "attachments": {},
   "cell_type": "markdown",
   "metadata": {},
   "source": [
    "## create the figure"
   ]
  },
  {
   "cell_type": "code",
   "execution_count": null,
   "metadata": {},
   "outputs": [],
   "source": [
    "match f\"N{model.n_molecules}_T{specs.model.target.temperature}\":\n",
    "    case \"N16_T100\":\n",
    "        label_txt = \"a)\"\n",
    "    case \"N16_T50\":\n",
    "        label_txt = \"b)\"\n",
    "    case \"N128_T100\":\n",
    "        label_txt = \"c)\"\n",
    "    case _:\n",
    "        label_txt = \"d)\"\n",
    "\n",
    "plt.figure(figsize=(15, 3))\n",
    "\n",
    "plt.subplot(1, 3, 1)\n",
    "plt.text(-0.2, 1.0, label_txt, transform=plt.gca().transAxes, fontdict={'fontsize': 'large'})\n",
    "plot_loss()\n",
    "\n",
    "plt.subplot(1, 3, 2)\n",
    "plot_energy()\n",
    "\n",
    "plt.subplot(1, 3, 3)\n",
    "plot_rdf()\n",
    "ax = plt.gca().twinx()\n",
    "ax.set_ylabel(f\"N={model.n_molecules}, T={specs.model.target.temperature} K\", fontsize=\"x-large\")\n",
    "ax.set_yticks([])\n",
    "\n",
    "filename = f\"ice_results-N{model.n_molecules}_T{specs.model.target.temperature}.pdf\"\n",
    "plt.savefig(filename, bbox_inches=\"tight\")\n",
    "plt.show()"
   ]
  },
  {
   "cell_type": "code",
   "execution_count": null,
   "metadata": {},
   "outputs": [],
   "source": [
    "save_data = True\n",
    "\n",
    "## backup and save figure\n",
    "!bck.meup.sh {logdir_path}/{filename}\n",
    "!cp {filename} {logdir_path}/{filename}\n",
    "\n",
    "## store all useful data\n",
    "if save_data:\n",
    "    np.savez(\n",
    "        datafilename, \n",
    "        base_ene=base_ene, \n",
    "        mapped_ene=mapped_ene, \n",
    "        target_ene=target_ene, \n",
    "        weights=weights, \n",
    "        base_pos=base_pos, \n",
    "        mapped_pos=mapped_pos, \n",
    "        target_pos=target_pos\n",
    "    )"
   ]
  },
  {
   "attachments": {},
   "cell_type": "markdown",
   "metadata": {},
   "source": [
    "## configurations"
   ]
  },
  {
   "cell_type": "code",
   "execution_count": null,
   "metadata": {},
   "outputs": [],
   "source": [
    "save_figure = False\n",
    "\n",
    "def plot_proj(pos, title='', marker='.', alpha=0.2, av_box=model.box):\n",
    "    mypos = pos % np.diagonal(av_box)\n",
    "    plt.figure(figsize=(12, 3))\n",
    "    plt.suptitle(title)\n",
    "    for i in range(3):\n",
    "        ii = (i + 1) % 3\n",
    "        iii = (i + 2) % 3\n",
    "        plt.subplot(1, 3, 1 + i)\n",
    "\n",
    "        # draw particles\n",
    "        plt.scatter(\n",
    "            mypos[..., 1 :: model.n_sites, i],\n",
    "            mypos[..., 1 :: model.n_sites, ii],\n",
    "            marker=marker,\n",
    "            alpha=alpha,\n",
    "            c=\"gray\",\n",
    "            rasterized=True\n",
    "        )\n",
    "        plt.scatter(\n",
    "            mypos[..., 2 :: model.n_sites, i],\n",
    "            mypos[..., 2 :: model.n_sites, ii],\n",
    "            marker=marker,\n",
    "            alpha=alpha,\n",
    "            c=\"gray\",\n",
    "            rasterized=True\n",
    "        )\n",
    "        plt.scatter(\n",
    "            mypos[..., :: model.n_sites, i],\n",
    "            mypos[..., :: model.n_sites, ii],\n",
    "            marker=marker,\n",
    "            alpha=alpha,\n",
    "            c=\"r\",\n",
    "            rasterized=True\n",
    "        )\n",
    "\n",
    "        def get_label(j):\n",
    "            match j:\n",
    "                case 0: \n",
    "                    return 'x'\n",
    "                case 1:\n",
    "                    return 'y'\n",
    "                case 2:\n",
    "                    return 'z'\n",
    "\n",
    "        plt.xlabel(f\"{get_label(i)} [nm]\")\n",
    "        plt.ylabel(f\"{get_label(ii)} [nm]\")\n",
    "        plt.xlim(0, av_box[i,i])\n",
    "        plt.ylim(0, av_box[ii,ii])\n",
    "        plt.gca().set_aspect(1)\n",
    "    # plt.show()\n",
    "\n",
    "plot_proj(base_pos[::1000], 'base')\n",
    "if save_figure:\n",
    "    plt.savefig('ice_config-base.pdf', bbox_inches='tight')\n",
    "plt.show()\n",
    "plot_proj(mapped_pos[::1000], 'mapped')\n",
    "if save_figure:\n",
    "    plt.savefig('ice_config-mapped.pdf', bbox_inches='tight')\n",
    "plt.show()\n",
    "plot_proj(target_pos[::1000], 'target')\n",
    "if save_figure:\n",
    "    plt.savefig('ice_config-target.pdf', bbox_inches='tight')\n",
    "plt.show()"
   ]
  },
  {
   "cell_type": "code",
   "execution_count": null,
   "metadata": {},
   "outputs": [],
   "source": []
  }
 ],
 "metadata": {
  "kernelspec": {
   "display_name": "Python 3.10.8 ('flox')",
   "language": "python",
   "name": "python3"
  },
  "language_info": {
   "codemirror_mode": {
    "name": "ipython",
    "version": 3
   },
   "file_extension": ".py",
   "mimetype": "text/x-python",
   "name": "python",
   "nbconvert_exporter": "python",
   "pygments_lexer": "ipython3",
   "version": "3.10.8"
  },
  "orig_nbformat": 4,
  "vscode": {
   "interpreter": {
    "hash": "52d865f241f5cf4532d2b38dc6618aea3fdd872b067fcdc4aedd37cb5878aec8"
   }
  }
 },
 "nbformat": 4,
 "nbformat_minor": 2
}
