{
 "cells": [
  {
   "attachments": {},
   "cell_type": "markdown",
   "metadata": {},
   "source": [
    "# Posprocessing a run"
   ]
  },
  {
   "cell_type": "code",
   "execution_count": 1,
   "metadata": {},
   "outputs": [],
   "source": [
    "%load_ext autoreload\n",
    "%autoreload 2"
   ]
  },
  {
   "cell_type": "code",
   "execution_count": 2,
   "metadata": {},
   "outputs": [
    {
     "name": "stdout",
     "output_type": "stream",
     "text": [
      "env: XLA_PYTHON_CLIENT_ALLOCATOR=platform\n"
     ]
    }
   ],
   "source": [
    "# %env XLA_PYTHON_CLIENT_MEM_FRACTION=.6\n",
    "%env XLA_PYTHON_CLIENT_ALLOCATOR=platform"
   ]
  },
  {
   "cell_type": "code",
   "execution_count": 3,
   "metadata": {},
   "outputs": [
    {
     "name": "stderr",
     "output_type": "stream",
     "text": [
      "2023-05-30 11:56:00.900381: W tensorflow/compiler/tf2tensorrt/utils/py_utils.cc:38] TF-TRT Warning: Could not find TensorRT\n"
     ]
    },
    {
     "data": {
      "application/vnd.jupyter.widget-view+json": {
       "model_id": "5bdd6144405748e9a30ae994fbfef2d0",
       "version_major": 2,
       "version_minor": 0
      },
      "text/plain": []
     },
     "metadata": {},
     "output_type": "display_data"
    }
   ],
   "source": [
    "import lenses\n",
    "import jax\n",
    "import numpy as np\n",
    "from jax import numpy as jnp\n",
    "from typing import cast\n",
    "import matplotlib.pyplot as plt\n",
    "\n",
    "from flox.util import key_chain\n",
    "from flox.flow import Pipe\n",
    "import equinox as eqx\n",
    "\n",
    "from rigid_flows.flow import build_flow, RigidWithAuxiliary\n",
    "from rigid_flows.data import DataWithAuxiliary\n",
    "from rigid_flows.density import OpenMMDensity\n",
    "from rigid_flows.specs import ExperimentSpecification\n",
    "from rigid_flows.utils import scanned_vmap\n",
    "\n",
    "chain = key_chain(42)"
   ]
  },
  {
   "cell_type": "code",
   "execution_count": 4,
   "metadata": {},
   "outputs": [],
   "source": [
    "#set bigger font sizes\n",
    "SMALL_SIZE = 12\n",
    "MEDIUM_SIZE = 14\n",
    "BIG_SIZE = 16\n",
    "\n",
    "plt.rc('font', size=SMALL_SIZE)        # controls default text sizes\n",
    "plt.rc('axes', titlesize=SMALL_SIZE)   # fontsize of the axes title\n",
    "plt.rc('axes', labelsize=MEDIUM_SIZE)  # fontsize of the x and y labels\n",
    "plt.rc('xtick', labelsize=SMALL_SIZE)  # fontsize of the tick labels\n",
    "plt.rc('ytick', labelsize=SMALL_SIZE)  # fontsize of the tick labels\n",
    "plt.rc('legend', fontsize=SMALL_SIZE)  # legend fontsize\n",
    "plt.rc('figure', titlesize=BIG_SIZE)   # fontsize of the figure title"
   ]
  },
  {
   "cell_type": "code",
   "execution_count": 5,
   "metadata": {},
   "outputs": [],
   "source": [
    "def count_params(model):\n",
    "    return jax.tree_util.tree_reduce(\n",
    "        lambda s, n: s + n.size if eqx.is_array(n) else s, model, jnp.zeros((), dtype=jnp.int32)).item()\n",
    "\n",
    "def ess(logw):\n",
    "    return jnp.exp(2*jax.scipy.special.logsumexp(logw)-jax.scipy.special.logsumexp(2*logw))"
   ]
  },
  {
   "cell_type": "code",
   "execution_count": 6,
   "metadata": {},
   "outputs": [
    {
     "name": "stdout",
     "output_type": "stream",
     "text": [
      "+++ trainng stage 0, epoch 9 +++\n",
      "../experiments/ice_N16_T100/training_stage_0/epoch_9/model.eqx\n"
     ]
    }
   ],
   "source": [
    "import glob\n",
    "logdir_path = \"../experiments/ice_N16_T100\"\n",
    "\n",
    "dirs = glob.glob(f'{logdir_path}/training_stage_*')\n",
    "stage = max([int(d.split(\"_\")[-1]) for d in dirs])\n",
    "dirs = glob.glob(f'{logdir_path}/training_stage_{stage}/epoch_*')\n",
    "epoch = max([int(d.split(\"_\")[-1]) for d in dirs])\n",
    "print(f\"+++ trainng stage {stage}, epoch {epoch} +++\")\n",
    "specs_path = f\"{logdir_path}/config.yaml\"\n",
    "pretrained_model_path = f\"{logdir_path}/training_stage_{stage}/epoch_{epoch}/model.eqx\"\n",
    "print(pretrained_model_path)"
   ]
  },
  {
   "cell_type": "code",
   "execution_count": 7,
   "metadata": {},
   "outputs": [
    {
     "name": "stdout",
     "output_type": "stream",
     "text": [
      "MD training datapoints = 10_000\n",
      "MD eval datapoints = 10_000\n",
      "batchs per epoch = 1000\n",
      "batch size = 32\n",
      "data fraction: 32.0\n"
     ]
    }
   ],
   "source": [
    "specs = ExperimentSpecification.load_from_file(specs_path)\n",
    "# specs = lenses.bind(specs).model.base.path.set(specs.model.base.path + \"/eval\")\n",
    "eval_path = '/import/a12/users/minvernizzi/scratch-allegro/ice/switchingfunction/eval-long'\n",
    "specs = lenses.bind(specs).model.base.path.set(eval_path)\n",
    "specs = lenses.bind(specs).model.target.path.set(eval_path)\n",
    "\n",
    "base = OpenMMDensity.from_specs(specs.model.use_auxiliary, specs.model.base)\n",
    "model = base.omm_model.model\n",
    "\n",
    "print(f\"MD training datapoints = {specs.model.base.num_samples:_}\")\n",
    "print(f\"MD eval datapoints = {base.data.pos.shape[0]:_}\")\n",
    "print(f\"batchs per epoch = {specs.train[0].num_iters_per_epoch}\")\n",
    "print(f\"batch size = {specs.train[0].num_samples}\")\n",
    "print(f\"data fraction: {specs.train[0].num_epochs*specs.train[0].num_samples*specs.train[0].num_iters_per_epoch/specs.model.base.num_samples}\")"
   ]
  },
  {
   "cell_type": "code",
   "execution_count": 8,
   "metadata": {},
   "outputs": [
    {
     "data": {
      "text/plain": [
       "(-669.7109, 0.05418)"
      ]
     },
     "execution_count": 8,
     "metadata": {},
     "output_type": "execute_result"
    }
   ],
   "source": [
    "try:\n",
    "    ref_file = f\"../MDdata/ice/DeltaF_estimates/DF-{specs.model.base}-{specs.model.target}.txt\"\n",
    "    reference_deltaF, reference_deltaF_std = np.loadtxt(ref_file, unpack=True)\n",
    "except FileNotFoundError:\n",
    "    reference_deltaF, reference_deltaF_std = None, None\n",
    "\n",
    "reference_deltaF, reference_deltaF_std"
   ]
  },
  {
   "cell_type": "code",
   "execution_count": 9,
   "metadata": {},
   "outputs": [],
   "source": [
    "sc = model.n_molecules\n",
    "test_subplots = False"
   ]
  },
  {
   "cell_type": "code",
   "execution_count": 10,
   "metadata": {},
   "outputs": [],
   "source": [
    "from mpl_toolkits.axes_grid1.inset_locator import inset_axes\n",
    "import matplotlib.image as mpimg\n",
    "\n",
    "loss = np.loadtxt(logdir_path+'/loss.txt')\n",
    "loss_info = np.stack([1+np.arange(len(loss)), loss], axis=-1)\n",
    "\n",
    "def plot_loss():\n",
    "    plt.plot(loss_info[:,0], loss_info[:,1]/sc)\n",
    "    if reference_deltaF is not None:\n",
    "        plt.axhline(reference_deltaF/sc, c='k', ls=':', label='$\\Delta F$')\n",
    "    plt.xlabel('steps')\n",
    "    plt.ylabel('loss')\n",
    "    plt.xlim(1e2, loss_info[-1,0])\n",
    "    plt.legend(loc='upper left')\n",
    "    # plt.xscale('log')\n",
    "    # plt.xlim(0, loss_info[-1,0])\n",
    "    # plt.legend(loc='lower left')\n",
    "\n",
    "    img = mpimg.imread(f'../MDdata/ice/iceXI-N{model.n_molecules}.png')\n",
    "    subax = inset_axes(plt.gca(), width=\"50%\", height=\"60%\", loc=1)\n",
    "    subax.imshow(img)\n",
    "    subax.axis('off')\n",
    "    \n",
    "if test_subplots:\n",
    "    plot_loss()\n",
    "    plt.show()"
   ]
  },
  {
   "cell_type": "code",
   "execution_count": 11,
   "metadata": {},
   "outputs": [
    {
     "name": "stdout",
     "output_type": "stream",
     "text": [
      "num_samples=10_000\n",
      "sample base\n",
      "map base\n"
     ]
    },
    {
     "name": "stderr",
     "output_type": "stream",
     "text": [
      "/home/mi/minvernizzi/mambaforge/envs/flox/lib/python3.10/site-packages/equinox/nn/_normalisation.py:84: UserWarning: LayerNorm(elementwise_affine=...) is deprecated in favour of LayerNorm(use_weight=...) and LayerNorm(use_bias=...)\n",
      "  warnings.warn(\n"
     ]
    },
    {
     "name": "stdout",
     "output_type": "stream",
     "text": [
      "tot flow parameters: 290_896\n",
      "compute weights\n",
      "sample target\n"
     ]
    },
    {
     "ename": "ValueError",
     "evalue": "cannot sample from a density with no data attached",
     "output_type": "error",
     "traceback": [
      "\u001b[0;31m---------------------------------------------------------------------------\u001b[0m",
      "\u001b[0;31mFileNotFoundError\u001b[0m                         Traceback (most recent call last)",
      "Cell \u001b[0;32mIn[11], line 7\u001b[0m\n\u001b[1;32m      6\u001b[0m     \u001b[39mraise\u001b[39;00m \u001b[39mFileNotFoundError\u001b[39;00m\n\u001b[0;32m----> 7\u001b[0m data \u001b[39m=\u001b[39m np\u001b[39m.\u001b[39;49mload(datafilename\u001b[39m+\u001b[39;49m\u001b[39m'\u001b[39;49m\u001b[39m.npz\u001b[39;49m\u001b[39m'\u001b[39;49m)\n\u001b[1;32m      8\u001b[0m base_pos \u001b[39m=\u001b[39m data[\u001b[39m'\u001b[39m\u001b[39mbase_pos\u001b[39m\u001b[39m'\u001b[39m]\n",
      "File \u001b[0;32m~/mambaforge/envs/flox/lib/python3.10/site-packages/numpy/lib/npyio.py:407\u001b[0m, in \u001b[0;36mload\u001b[0;34m(file, mmap_mode, allow_pickle, fix_imports, encoding)\u001b[0m\n\u001b[1;32m    406\u001b[0m \u001b[39melse\u001b[39;00m:\n\u001b[0;32m--> 407\u001b[0m     fid \u001b[39m=\u001b[39m stack\u001b[39m.\u001b[39menter_context(\u001b[39mopen\u001b[39;49m(os_fspath(file), \u001b[39m\"\u001b[39;49m\u001b[39mrb\u001b[39;49m\u001b[39m\"\u001b[39;49m))\n\u001b[1;32m    408\u001b[0m     own_fid \u001b[39m=\u001b[39m \u001b[39mTrue\u001b[39;00m\n",
      "\u001b[0;31mFileNotFoundError\u001b[0m: [Errno 2] No such file or directory: '../experiments/ice_N16_T100/fig-data.npz'",
      "\nDuring handling of the above exception, another exception occurred:\n",
      "\u001b[0;31mValueError\u001b[0m                                Traceback (most recent call last)",
      "Cell \u001b[0;32mIn[11], line 58\u001b[0m\n\u001b[1;32m     56\u001b[0m \u001b[39mprint\u001b[39m(\u001b[39m'\u001b[39m\u001b[39msample target\u001b[39m\u001b[39m'\u001b[39m)\n\u001b[1;32m     57\u001b[0m keys \u001b[39m=\u001b[39m jax\u001b[39m.\u001b[39mrandom\u001b[39m.\u001b[39msplit(\u001b[39mnext\u001b[39m(chain), num_samples)\n\u001b[0;32m---> 58\u001b[0m target_tr \u001b[39m=\u001b[39m jitvmap(target\u001b[39m.\u001b[39;49msample_idx)(keys, jnp\u001b[39m.\u001b[39;49marange(num_samples))\n\u001b[1;32m     59\u001b[0m target_pos \u001b[39m=\u001b[39m np\u001b[39m.\u001b[39marray(target_tr\u001b[39m.\u001b[39mobj\u001b[39m.\u001b[39mpos\u001b[39m.\u001b[39mreshape(\u001b[39m-\u001b[39m\u001b[39m1\u001b[39m, model\u001b[39m.\u001b[39mn_atoms, \u001b[39m3\u001b[39m))\n\u001b[1;32m     60\u001b[0m target_ene \u001b[39m=\u001b[39m np\u001b[39m.\u001b[39marray(target_tr\u001b[39m.\u001b[39mldj \u001b[39m*\u001b[39m target\u001b[39m.\u001b[39momm_model\u001b[39m.\u001b[39mkbT)\n",
      "    \u001b[0;31m[... skipping hidden 12 frame]\u001b[0m\n",
      "File \u001b[0;32m/srv/data/minvernizzi/notebook/water/rigid-flows/rigid_flows/utils.py:162\u001b[0m, in \u001b[0;36mscanned_vmap.<locals>.wrapper\u001b[0;34m(*args)\u001b[0m\n\u001b[1;32m    159\u001b[0m     \u001b[39mreturn\u001b[39;00m _, out\n\u001b[1;32m    161\u001b[0m \u001b[39m# result of scanning over batches\u001b[39;00m\n\u001b[0;32m--> 162\u001b[0m _, out_scanned \u001b[39m=\u001b[39m jax\u001b[39m.\u001b[39;49mlax\u001b[39m.\u001b[39;49mscan(scan_body, init\u001b[39m=\u001b[39;49m\u001b[39mNone\u001b[39;49;00m, xs\u001b[39m=\u001b[39;49mscanned_args)\n\u001b[1;32m    164\u001b[0m \u001b[39m# usual result\u001b[39;00m\n\u001b[1;32m    165\u001b[0m out_leftover \u001b[39m=\u001b[39m jax\u001b[39m.\u001b[39mvmap(\n\u001b[1;32m    166\u001b[0m     fn, in_axes\u001b[39m=\u001b[39min_axes_, out_axes\u001b[39m=\u001b[39mout_axes, \u001b[39m*\u001b[39mvmap_args, \u001b[39m*\u001b[39m\u001b[39m*\u001b[39mvmap_kwargs\n\u001b[1;32m    167\u001b[0m )(\u001b[39m*\u001b[39meqx\u001b[39m.\u001b[39mcombine(leftover_args, args))\n",
      "    \u001b[0;31m[... skipping hidden 9 frame]\u001b[0m\n",
      "File \u001b[0;32m/srv/data/minvernizzi/notebook/water/rigid-flows/rigid_flows/utils.py:152\u001b[0m, in \u001b[0;36mscanned_vmap.<locals>.wrapper.<locals>.scan_body\u001b[0;34m(_, scan_args)\u001b[0m\n\u001b[1;32m    150\u001b[0m \u001b[39mdef\u001b[39;00m \u001b[39mscan_body\u001b[39m(_, scan_args):\n\u001b[1;32m    151\u001b[0m     merged \u001b[39m=\u001b[39m eqx\u001b[39m.\u001b[39mcombine(scan_args, args)\n\u001b[0;32m--> 152\u001b[0m     out \u001b[39m=\u001b[39m jax\u001b[39m.\u001b[39;49mvmap(\n\u001b[1;32m    153\u001b[0m         fn,\n\u001b[1;32m    154\u001b[0m         in_axes\u001b[39m=\u001b[39;49min_axes_,\n\u001b[1;32m    155\u001b[0m         out_axes\u001b[39m=\u001b[39;49mout_axes,\n\u001b[1;32m    156\u001b[0m         \u001b[39m*\u001b[39;49mvmap_args,\n\u001b[1;32m    157\u001b[0m         \u001b[39m*\u001b[39;49m\u001b[39m*\u001b[39;49mvmap_kwargs,\n\u001b[1;32m    158\u001b[0m     )(\u001b[39m*\u001b[39;49mmerged)\n\u001b[1;32m    159\u001b[0m     \u001b[39mreturn\u001b[39;00m _, out\n",
      "    \u001b[0;31m[... skipping hidden 3 frame]\u001b[0m\n",
      "File \u001b[0;32m/srv/data/minvernizzi/notebook/water/rigid-flows/rigid_flows/density.py:125\u001b[0m, in \u001b[0;36mOpenMMDensity.sample_idx\u001b[0;34m(self, key, idx)\u001b[0m\n\u001b[1;32m    109\u001b[0m \u001b[39m\u001b[39m\u001b[39m\"\"\"Samples from the target (data) distribution at specific index.\u001b[39;00m\n\u001b[1;32m    110\u001b[0m \n\u001b[1;32m    111\u001b[0m \u001b[39mPositions are taken from MD trajectory.\u001b[39;00m\n\u001b[0;32m   (...)\u001b[0m\n\u001b[1;32m    121\u001b[0m \u001b[39m    Transformed[AugmentedData]: Sample from the target distribution.\u001b[39;00m\n\u001b[1;32m    122\u001b[0m \u001b[39m\"\"\"\u001b[39;00m\n\u001b[1;32m    124\u001b[0m \u001b[39mif\u001b[39;00m \u001b[39mself\u001b[39m\u001b[39m.\u001b[39mdata \u001b[39mis\u001b[39;00m \u001b[39mNone\u001b[39;00m:\n\u001b[0;32m--> 125\u001b[0m     \u001b[39mraise\u001b[39;00m \u001b[39mValueError\u001b[39;00m(\u001b[39m\"\u001b[39m\u001b[39mcannot sample from a density with no data attached\u001b[39m\u001b[39m\"\u001b[39m)\n\u001b[1;32m    127\u001b[0m pos \u001b[39m=\u001b[39m \u001b[39mself\u001b[39m\u001b[39m.\u001b[39mdata\u001b[39m.\u001b[39mpos[idx]\n\u001b[1;32m    129\u001b[0m chain \u001b[39m=\u001b[39m key_chain(key)\n",
      "\u001b[0;31mValueError\u001b[0m: cannot sample from a density with no data attached"
     ]
    }
   ],
   "source": [
    "recompute = False\n",
    "datafilename = logdir_path+'/fig-data'\n",
    "\n",
    "try:\n",
    "    if recompute:\n",
    "        raise FileNotFoundError\n",
    "    data = np.load(datafilename+'.npz')\n",
    "    base_pos = data['base_pos']\n",
    "    base_ene = data['base_ene']\n",
    "    mapped_pos = data['mapped_pos']\n",
    "    mapped_ene = data['mapped_ene']\n",
    "    target_pos = data['target_pos']\n",
    "    target_ene = data['target_ene']\n",
    "    weights = data['weights']\n",
    "    print(f'ESS = {ess(np.log(weights)):g}  ->  {ess(np.log(weights))/len(weights):.2%}')\n",
    "    \n",
    "except FileNotFoundError:\n",
    "    num_samples = base.data.pos.shape[0]\n",
    "    print(f'num_samples={num_samples:_}')\n",
    "    def jitvmap(fn, batch_size=512):\n",
    "        if batch_size is None:\n",
    "            return jax.jit(jax.vmap(fn))\n",
    "        else:\n",
    "            return jax.jit(scanned_vmap(fn, batch_size))\n",
    "\n",
    "    print('sample base')\n",
    "    keys = jax.random.split(next(chain), num_samples)\n",
    "    base_tr = jitvmap(base.sample_idx)(keys, jnp.arange(num_samples))\n",
    "    base_pos = np.array(base_tr.obj.pos.reshape(-1, model.n_atoms, 3))\n",
    "    base_ene = np.array(base_tr.ldj * base.omm_model.kbT)\n",
    "\n",
    "    print('map base')\n",
    "    flow = build_flow(\n",
    "        next(chain),\n",
    "        specs.model.base.num_molecules,\n",
    "        specs.model.use_auxiliary,\n",
    "        specs.model.flow,\n",
    "    )\n",
    "    flow = cast(\n",
    "        Pipe[DataWithAuxiliary, RigidWithAuxiliary],\n",
    "        eqx.tree_deserialise_leaves(pretrained_model_path, flow),\n",
    "    )\n",
    "    print(f\"tot flow parameters: {count_params(flow):_}\")\n",
    "    mapped_tr = jitvmap(flow.forward)(base_tr.obj)\n",
    "    mapped_pos = np.array(mapped_tr.obj.pos.reshape(-1, model.n_atoms, 3))\n",
    "\n",
    "    print('compute weights')\n",
    "    target = OpenMMDensity.from_specs(specs.model.use_auxiliary, specs.model.target)\n",
    "    ## NB: base_tr.ldj = jax.vmap(base.potential)(base_tr.obj)\n",
    "    mapped_ene_tg = jitvmap(target.potential)(mapped_tr.obj)\n",
    "    mapped_ene = np.array(mapped_ene_tg * target.omm_model.kbT)\n",
    "\n",
    "    logw = base_tr.ldj + mapped_tr.ldj - mapped_ene_tg\n",
    "    weights = np.array(jnp.exp(logw-jax.scipy.special.logsumexp(logw)))\n",
    "\n",
    "    print('sample target')\n",
    "    keys = jax.random.split(next(chain), num_samples)\n",
    "    target_tr = jitvmap(target.sample_idx)(keys, jnp.arange(num_samples))\n",
    "    target_pos = np.array(target_tr.obj.pos.reshape(-1, model.n_atoms, 3))\n",
    "    target_ene = np.array(target_tr.ldj * target.omm_model.kbT)\n",
    "\n",
    "    def plot_2Dview(data_tr: DataWithAuxiliary, title: str, toPBC: bool = True, skip: int = 100):\n",
    "        model.plot_2Dview(data_tr.obj.pos.reshape(-1, model.n_atoms, 3)[::skip], toPBC=toPBC, title=title)\n",
    "\n",
    "    plot_2Dview(base_tr, title='base')\n",
    "    plot_2Dview(mapped_tr, title='mapped')\n",
    "    plot_2Dview(target_tr, title='target')\n",
    "\n",
    "    plt.hist(jnp.exp(logw - logw.max()), bins=100)\n",
    "    plt.yscale('log')\n",
    "    plt.show()\n",
    "    print(f'ESS = {ess(logw):g}  ->  {ess(logw)/len(logw):.2%}')\n",
    "\n",
    "    ## TFEP\n",
    "    deltaF = (jnp.log(len(logw)) - jax.scipy.special.logsumexp(logw)).item()\n",
    "    print(f'Estimated deltaF from LFEP = {deltaF/sc:g}')\n",
    "    if reference_deltaF is not None:\n",
    "        print(f'          Reference deltaF = {reference_deltaF/sc:g}')"
   ]
  },
  {
   "cell_type": "code",
   "execution_count": null,
   "metadata": {},
   "outputs": [],
   "source": [
    "bins = np.linspace(-20.5, -17.5, 100)*model.n_molecules*3/sc\n",
    "hist_kwargs = {\"bins\": bins, \"density\": True, \"alpha\": 0.5}\n",
    "\n",
    "def plot_energy():\n",
    "    plt.hist(base_ene/sc, **hist_kwargs, label='base')\n",
    "    plt.hist(mapped_ene/sc, **hist_kwargs, label='mapped')\n",
    "    plt.hist(target_ene/sc, **hist_kwargs, label='target')\n",
    "    if model.n_molecules == 128: #ESS is small, histogram resolution must be smaller\n",
    "        mybins = 75\n",
    "    else:\n",
    "        mybins = hist_kwargs['bins']\n",
    "    plt.hist(mapped_ene/sc, weights=weights, label='reweighted', bins=mybins, density=True, histtype='step')\n",
    "    plt.xlabel('potential energy / N [kJ/mol]')\n",
    "    plt.xlim(bins[0], bins[-1])\n",
    "    plt.ylabel('density')\n",
    "    plt.legend()\n",
    "\n",
    "if test_subplots:\n",
    "    plot_energy()\n",
    "    plt.show()"
   ]
  },
  {
   "cell_type": "code",
   "execution_count": null,
   "metadata": {},
   "outputs": [],
   "source": [
    "import mdtraj as md\n",
    "\n",
    "n_bins = 200\n",
    "r_range = [0.2, 0.7]\n",
    "ij = model.mdtraj_topology.select_pairs(\"name == O\", \"name == O\")\n",
    "\n",
    "base_rdf = md.compute_rdf(model.get_mdtraj(base_pos), ij, r_range=r_range, n_bins=n_bins)\n",
    "mapped_rdf = md.compute_rdf(model.get_mdtraj(mapped_pos), ij, r_range=r_range, n_bins=n_bins)\n",
    "target_rdf = md.compute_rdf(model.get_mdtraj(target_pos), ij, r_range=r_range, n_bins=n_bins)"
   ]
  },
  {
   "cell_type": "code",
   "execution_count": null,
   "metadata": {},
   "outputs": [],
   "source": [
    "#notice that rdf is very good even without reweighting\n",
    "\n",
    "def plot_rdf():\n",
    "    plt.plot(*base_rdf, label='base', lw=2)\n",
    "    plt.plot(*mapped_rdf, label='mapped', lw=4, ls='--')\n",
    "    plt.plot(*target_rdf, label='target', lw=2)\n",
    "    plt.ylabel(\"g(r)\")\n",
    "    plt.xlabel(\"r [nm]\")\n",
    "    plt.xlim(r_range)\n",
    "    plt.yticks(np.arange(0, 14, 2))\n",
    "    plt.ylim(None, 13)\n",
    "    plt.ylabel(\"oxygen g(r)\")\n",
    "    plt.legend()\n",
    "\n",
    "if test_subplots:\n",
    "    plot_rdf()\n",
    "    plt.show()"
   ]
  },
  {
   "attachments": {},
   "cell_type": "markdown",
   "metadata": {},
   "source": [
    "## create the figure"
   ]
  },
  {
   "cell_type": "code",
   "execution_count": null,
   "metadata": {},
   "outputs": [],
   "source": [
    "save_figure = True\n",
    "\n",
    "match f\"N{model.n_molecules}_T{specs.model.target.temperature}\":\n",
    "    case \"N16_T100\":\n",
    "        label_txt = \"a)\"\n",
    "    case \"N16_T50\":\n",
    "        label_txt = \"b)\"\n",
    "    case \"N128_T100\":\n",
    "        label_txt = \"c)\"\n",
    "    case _:\n",
    "        label_txt = \"d)\"\n",
    "\n",
    "plt.figure(figsize=(15, 3))\n",
    "\n",
    "plt.subplot(1, 3, 1)\n",
    "plt.text(-0.2, 1.0, label_txt, transform=plt.gca().transAxes, fontdict={'fontsize': 'large'})\n",
    "plot_loss()\n",
    "\n",
    "plt.subplot(1, 3, 2)\n",
    "plot_energy()\n",
    "\n",
    "plt.subplot(1, 3, 3)\n",
    "plot_rdf()\n",
    "ax = plt.gca().twinx()\n",
    "ax.set_ylabel(f\"N={model.n_molecules}, T={specs.model.target.temperature} K\", fontsize=\"x-large\")\n",
    "ax.set_yticks([])\n",
    "\n",
    "filename = f\"ice_results-N{model.n_molecules}_T{specs.model.target.temperature}.pdf\"\n",
    "if save_figure:\n",
    "    plt.savefig(filename, bbox_inches=\"tight\")\n",
    "plt.show()"
   ]
  },
  {
   "cell_type": "code",
   "execution_count": null,
   "metadata": {},
   "outputs": [],
   "source": [
    "save_data = False\n",
    "\n",
    "## backup and save figure\n",
    "!bck.meup.sh {logdir_path}/{filename}\n",
    "!cp {filename} {logdir_path}/{filename}\n",
    "\n",
    "## store all useful data\n",
    "if save_data:\n",
    "    np.savez(\n",
    "        datafilename, \n",
    "        base_ene=base_ene, \n",
    "        mapped_ene=mapped_ene, \n",
    "        target_ene=target_ene, \n",
    "        weights=weights, \n",
    "        base_pos=base_pos, \n",
    "        mapped_pos=mapped_pos, \n",
    "        target_pos=target_pos\n",
    "    )"
   ]
  },
  {
   "attachments": {},
   "cell_type": "markdown",
   "metadata": {},
   "source": [
    "## configurations"
   ]
  },
  {
   "cell_type": "code",
   "execution_count": null,
   "metadata": {},
   "outputs": [],
   "source": [
    "save_figure = False\n",
    "\n",
    "def plot_proj(pos, title='', marker='.', alpha=0.2, av_box=model.box):\n",
    "    mypos = pos % np.diagonal(av_box)\n",
    "    plt.figure(figsize=(12, 3))\n",
    "    plt.suptitle(title)\n",
    "    for i in range(3):\n",
    "        ii = (i + 1) % 3\n",
    "        iii = (i + 2) % 3\n",
    "        plt.subplot(1, 3, 1 + i)\n",
    "\n",
    "        # draw particles\n",
    "        plt.scatter(\n",
    "            mypos[..., 1 :: model.n_sites, i],\n",
    "            mypos[..., 1 :: model.n_sites, ii],\n",
    "            marker=marker,\n",
    "            alpha=alpha,\n",
    "            c=\"gray\",\n",
    "            rasterized=True\n",
    "        )\n",
    "        plt.scatter(\n",
    "            mypos[..., 2 :: model.n_sites, i],\n",
    "            mypos[..., 2 :: model.n_sites, ii],\n",
    "            marker=marker,\n",
    "            alpha=alpha,\n",
    "            c=\"gray\",\n",
    "            rasterized=True\n",
    "        )\n",
    "        plt.scatter(\n",
    "            mypos[..., :: model.n_sites, i],\n",
    "            mypos[..., :: model.n_sites, ii],\n",
    "            marker=marker,\n",
    "            alpha=alpha,\n",
    "            c=\"r\",\n",
    "            rasterized=True\n",
    "        )\n",
    "\n",
    "        def get_label(j):\n",
    "            match j:\n",
    "                case 0: \n",
    "                    return 'x'\n",
    "                case 1:\n",
    "                    return 'y'\n",
    "                case 2:\n",
    "                    return 'z'\n",
    "\n",
    "        plt.xlabel(f\"{get_label(i)} [nm]\")\n",
    "        plt.ylabel(f\"{get_label(ii)} [nm]\")\n",
    "        plt.xlim(0, av_box[i,i])\n",
    "        plt.ylim(0, av_box[ii,ii])\n",
    "        plt.gca().set_aspect(1)\n",
    "    # plt.show()\n",
    "\n",
    "plot_proj(base_pos[::1000], 'base')\n",
    "if save_figure:\n",
    "    plt.savefig('ice_config-base.pdf', bbox_inches='tight')\n",
    "plt.show()\n",
    "plot_proj(mapped_pos[::1000], 'mapped')\n",
    "if save_figure:\n",
    "    plt.savefig('ice_config-mapped.pdf', bbox_inches='tight')\n",
    "plt.show()\n",
    "plot_proj(target_pos[::1000], 'target')\n",
    "if save_figure:\n",
    "    plt.savefig('ice_config-target.pdf', bbox_inches='tight')\n",
    "plt.show()"
   ]
  },
  {
   "cell_type": "code",
   "execution_count": null,
   "metadata": {},
   "outputs": [],
   "source": []
  }
 ],
 "metadata": {
  "kernelspec": {
   "display_name": "Python 3.10.10 ('flox')",
   "language": "python",
   "name": "python3"
  },
  "language_info": {
   "codemirror_mode": {
    "name": "ipython",
    "version": 3
   },
   "file_extension": ".py",
   "mimetype": "text/x-python",
   "name": "python",
   "nbconvert_exporter": "python",
   "pygments_lexer": "ipython3",
   "version": "3.10.11"
  },
  "orig_nbformat": 4,
  "vscode": {
   "interpreter": {
    "hash": "7b61e70041034dc6a64958b7e89e1c42e7d47657bddf3e1dd0752fae2803a54b"
   }
  }
 },
 "nbformat": 4,
 "nbformat_minor": 2
}
