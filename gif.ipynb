{
 "cells": [
  {
   "attachments": {},
   "cell_type": "markdown",
   "metadata": {},
   "source": [
    "# Store file for animated gif\n",
    "\n",
    "Then use Ovito. Here is a tutorial https://www.ovito.org/docs/current/tutorials/turntable_animation.html#tutorials-turntable-animation\n",
    "\n",
    "NB: store png and separately create gif for better quality"
   ]
  },
  {
   "cell_type": "code",
   "execution_count": 1,
   "metadata": {},
   "outputs": [],
   "source": [
    "%load_ext autoreload\n",
    "%autoreload 2"
   ]
  },
  {
   "cell_type": "code",
   "execution_count": 18,
   "metadata": {},
   "outputs": [
    {
     "data": {
      "application/vnd.jupyter.widget-view+json": {
       "model_id": "068d316800e84baeb66263b9f71dc089",
       "version_major": 2,
       "version_minor": 0
      },
      "text/plain": []
     },
     "metadata": {},
     "output_type": "display_data"
    }
   ],
   "source": [
    "import numpy as np\n",
    "from rigid_flows.systems.watermodel import WaterModel\n",
    "\n",
    "temp = 100\n",
    "water_type = 'tip4pew'\n",
    "rigidWater = True\n",
    "ice_type = 'XI'\n",
    "n_waters = 128\n",
    "\n",
    "# path = ''\n",
    "path = '/group/ag_cmb/scratch/minvernizzi/so3-flow/ice_MDdata/'\n",
    "info = f'ice{ice_type}_T{temp}_N{n_waters}'\n",
    "if water_type != 'tip4pew':\n",
    "    info = f'{water_type}_{info}'\n",
    "if not rigidWater:\n",
    "    info = f'flex_{info}'\n",
    "model = WaterModel.load_from_json(f'{path}model-{info}.json')\n",
    "# data = np.load(f'{path}MDtraj-{info}.npz')\n",
    "# pos = data['pos']\n",
    "# box = data['box']\n",
    "# ene = data['ene']"
   ]
  },
  {
   "cell_type": "code",
   "execution_count": 19,
   "metadata": {},
   "outputs": [],
   "source": [
    "MDpos = np.load(f'{path}MDtraj-{info}.npz')['pos'][::1000]\n",
    "MDpos += np.diag(model.box)/16 #shift crystal more to center"
   ]
  },
  {
   "cell_type": "code",
   "execution_count": 24,
   "metadata": {},
   "outputs": [
    {
     "name": "stdout",
     "output_type": "stream",
     "text": [
      "CRYST1   17.969   15.562   14.672  90.00  90.00  90.00 P 1           1 \n",
      "- box info added 99 times\n"
     ]
    }
   ],
   "source": [
    "#save file for ovito\n",
    "mask_vs = np.tile(np.concatenate((3*[True], (model.n_sites-3)*[False])), model.n_waters)\n",
    "traj = model.get_mdtraj(MDpos[:,mask_vs], None, model.generate_mdtraj_topology(model.n_waters, 3))\n",
    "\n",
    "filename = 'gif-N128_T100.pdb'\n",
    "traj.save(filename)\n",
    "\n",
    "### mdtraj only stores box info for the first frame\n",
    "### if no box info is available, ovito guesses the box size from positions\n",
    "### so we must add the box info to each frame\n",
    "with open(filename, 'r') as f:\n",
    "    lines = f.readlines()\n",
    "assert lines[1][:5] == 'CRYST'\n",
    "print(lines[1], end='')\n",
    "\n",
    "count = 0\n",
    "for i in range(len(lines)):\n",
    "    if lines[i][:5] == 'MODEL':\n",
    "        if lines[i-1][:5] != 'CRYST':\n",
    "            lines[i] = lines[1] + lines[i]\n",
    "            count += 1\n",
    "print(f'- box info added {count} times')\n",
    "\n",
    "with open(filename, \"w\") as f:\n",
    "    lines = \"\".join(lines)\n",
    "    f.write(lines)"
   ]
  },
  {
   "cell_type": "code",
   "execution_count": null,
   "metadata": {},
   "outputs": [],
   "source": []
  }
 ],
 "metadata": {
  "kernelspec": {
   "display_name": "Python 3 (ipykernel)",
   "language": "python",
   "name": "python3"
  },
  "language_info": {
   "codemirror_mode": {
    "name": "ipython",
    "version": 3
   },
   "file_extension": ".py",
   "mimetype": "text/x-python",
   "name": "python",
   "nbconvert_exporter": "python",
   "pygments_lexer": "ipython3",
   "version": "3.10.8"
  },
  "vscode": {
   "interpreter": {
    "hash": "52d865f241f5cf4532d2b38dc6618aea3fdd872b067fcdc4aedd37cb5878aec8"
   }
  }
 },
 "nbformat": 4,
 "nbformat_minor": 2
}
