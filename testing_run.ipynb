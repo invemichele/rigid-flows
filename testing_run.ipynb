{
 "cells": [
  {
   "cell_type": "markdown",
   "metadata": {},
   "source": [
    "# Map between two states and get free energy"
   ]
  },
  {
   "cell_type": "code",
   "execution_count": 1,
   "metadata": {},
   "outputs": [],
   "source": [
    "%load_ext autoreload\n",
    "%autoreload 2"
   ]
  },
  {
   "cell_type": "code",
   "execution_count": 2,
   "metadata": {},
   "outputs": [
    {
     "name": "stdout",
     "output_type": "stream",
     "text": [
      "env: XLA_PYTHON_CLIENT_MEM_FRACTION=.6\n"
     ]
    }
   ],
   "source": [
    "%env XLA_PYTHON_CLIENT_MEM_FRACTION=.6\n",
    "# %env XLA_PYTHON_CLIENT_ALLOCATOR=platform"
   ]
  },
  {
   "cell_type": "code",
   "execution_count": 3,
   "metadata": {},
   "outputs": [
    {
     "name": "stderr",
     "output_type": "stream",
     "text": [
      "2023-02-09 13:34:23.389026: W tensorflow/compiler/xla/stream_executor/platform/default/dso_loader.cc:64] Could not load dynamic library 'libnvinfer.so.7'; dlerror: libnvinfer.so.7: cannot open shared object file: No such file or directory; LD_LIBRARY_PATH: :/home/mi/minvernizzi/.local/lib\n",
      "2023-02-09 13:34:23.389191: W tensorflow/compiler/xla/stream_executor/platform/default/dso_loader.cc:64] Could not load dynamic library 'libnvinfer_plugin.so.7'; dlerror: libnvinfer_plugin.so.7: cannot open shared object file: No such file or directory; LD_LIBRARY_PATH: :/home/mi/minvernizzi/.local/lib\n",
      "2023-02-09 13:34:23.389203: W tensorflow/compiler/tf2tensorrt/utils/py_utils.cc:38] TF-TRT Warning: Cannot dlopen some TensorRT libraries. If you would like to use Nvidia GPU with TensorRT, please make sure the missing libraries mentioned above are installed properly.\n"
     ]
    },
    {
     "data": {
      "application/vnd.jupyter.widget-view+json": {
       "model_id": "2465925de02c4176972c84a74036304c",
       "version_major": 2,
       "version_minor": 0
      },
      "text/plain": []
     },
     "metadata": {},
     "output_type": "display_data"
    }
   ],
   "source": [
    "import jax\n",
    "import equinox as eqx\n",
    "import logging\n",
    "import git\n",
    "import numpy as np\n",
    "import matplotlib.pyplot as plt\n",
    "from jax import numpy as jnp\n",
    "from dataclasses import asdict\n",
    "from typing import cast\n",
    "\n",
    "from rigid_flows.data import DataWithAuxiliary\n",
    "from rigid_flows.density import KeyArray, OpenMMDensity\n",
    "from rigid_flows.flow import (\n",
    "    RigidWithAuxiliary,\n",
    "    build_flow,\n",
    "    initialize_actnorm,\n",
    "    toggle_layer_stack,\n",
    ")\n",
    "from rigid_flows.reporting import Reporter, pretty_json\n",
    "from rigid_flows.specs import ExperimentSpecification\n",
    "from rigid_flows.train import run_training_stage\n",
    "\n",
    "from flox._src.flow.api import Transform\n",
    "from flox.flow import Pipe\n",
    "from flox.util import key_chain\n"
   ]
  },
  {
   "cell_type": "code",
   "execution_count": 4,
   "metadata": {},
   "outputs": [],
   "source": [
    "logging.getLogger().setLevel(logging.INFO)\n",
    "\n",
    "def setup_model(key: KeyArray, specs: ExperimentSpecification):\n",
    "    chain = key_chain(key)\n",
    "\n",
    "    logging.info(\"Loading base density.\")\n",
    "    num_datapoints = specs.model.base.num_samples\n",
    "    if num_datapoints is not None:\n",
    "        logging.info(f'  taking only {num_datapoints} samples from MD')\n",
    "        selection = np.s_[:num_datapoints]\n",
    "    else:\n",
    "        selection = np.s_[:]\n",
    "    base = OpenMMDensity.from_specs(\n",
    "        specs.model.auxiliary_shape, specs.model.base, selection\n",
    "    )\n",
    "\n",
    "    logging.info(f\"Loading target density.\")\n",
    "    num_datapoints = specs.model.target.num_samples\n",
    "    if num_datapoints is not None:\n",
    "        logging.info(f'  taking only {num_datapoints} samples from MD')\n",
    "        selection = np.s_[:num_datapoints]\n",
    "    else:\n",
    "        selection = np.s_[:]\n",
    "    target = OpenMMDensity.from_specs(\n",
    "        specs.model.auxiliary_shape, specs.model.target, selection\n",
    "    )\n",
    "\n",
    "    logging.info(f\"Setting up flow model.\")\n",
    "    flow = build_flow(\n",
    "        next(chain),\n",
    "        specs.model.auxiliary_shape,\n",
    "        specs.model.flow,\n",
    "        # base,\n",
    "        # target,\n",
    "    )\n",
    "\n",
    "    if specs.act_norm_init_samples is not None:\n",
    "        logging.info(f\"Initializing ActNorm\")\n",
    "\n",
    "        @eqx.filter_jit\n",
    "        def init_actnorm(flow, key):\n",
    "            actnorm_batch = jax.vmap(target.sample)(\n",
    "                jax.random.split(key, specs.act_norm_init_samples)\n",
    "            ).obj\n",
    "            flow = toggle_layer_stack(flow, False)\n",
    "            flow, _ = initialize_actnorm(flow, actnorm_batch)\n",
    "            flow = toggle_layer_stack(flow, True)\n",
    "            return flow\n",
    "\n",
    "        flow = init_actnorm(flow, next(chain))\n",
    "\n",
    "    if specs.model.pretrained_model_path is not None:\n",
    "        logging.info(\n",
    "            f\"Loading pre-trained model from {specs.model.pretrained_model_path}.\"\n",
    "        )\n",
    "        flow = cast(\n",
    "            Pipe[DataWithAuxiliary, RigidWithAuxiliary],\n",
    "            eqx.tree_deserialise_leaves(\n",
    "                specs.model.pretrained_model_path, flow\n",
    "            ),\n",
    "        )\n",
    "\n",
    "    return base, target, flow\n",
    "\n",
    "\n",
    "def train(\n",
    "    key: KeyArray,\n",
    "    run_dir: str,\n",
    "    specs: ExperimentSpecification,\n",
    "    base: OpenMMDensity,\n",
    "    target: OpenMMDensity,\n",
    "    flow: Transform[DataWithAuxiliary, DataWithAuxiliary],\n",
    "    tot_iter: int,\n",
    "    loss_reporter: list | None = None,\n",
    ") -> Transform[DataWithAuxiliary, DataWithAuxiliary]:\n",
    "    chain = key_chain(key)\n",
    "    repo = git.Repo(search_parent_directories=True)\n",
    "    branch = repo.active_branch.name\n",
    "    sha = repo.head.object.hexsha\n",
    "\n",
    "    log = asdict(specs)\n",
    "    log[\"git\"] = {\"branch\": branch, \"sha\": sha}\n",
    "    # tf.summary.text(\"run_params\", pretty_json(log), step=tot_iter)\n",
    "    logging.info(f\"Starting training.\")\n",
    "    reporter = Reporter(\n",
    "        base,\n",
    "        target,\n",
    "        run_dir,\n",
    "        specs.reporting,\n",
    "        scope=None,\n",
    "    )\n",
    "    reporter.with_scope(f\"initial\").report_model(next(chain), flow, tot_iter)\n",
    "    for stage, train_spec in enumerate(specs.train):\n",
    "        flow = run_training_stage(\n",
    "            next(chain),\n",
    "            base,\n",
    "            target,\n",
    "            flow,\n",
    "            train_spec,\n",
    "            specs.model.target,\n",
    "            reporter.with_scope(f\"training_stage_{stage}\"),\n",
    "            tot_iter,\n",
    "            loss_reporter,\n",
    "        )\n",
    "        tot_iter += train_spec.num_iterations\n",
    "    return flow\n",
    "\n",
    "def count_params(model):\n",
    "    return jax.tree_util.tree_reduce(\n",
    "        lambda s, n: s + n.size if eqx.is_array(n) else s, model, jnp.zeros((), dtype=jnp.int32)).item()\n",
    "\n",
    "hist_kwargs = {\"bins\": \"auto\", \"density\": True, \"alpha\": 0.5}"
   ]
  },
  {
   "cell_type": "code",
   "execution_count": 5,
   "metadata": {},
   "outputs": [
    {
     "name": "stderr",
     "output_type": "stream",
     "text": [
      "INFO:root:Loading base density.\n",
      "INFO:root:  taking only 10000 samples from MD\n",
      "INFO:root:Loading OpenMM model specs from /group/ag_cmb/scratch/minvernizzi/so3-flow/ice_MDdata/model-tip4pice_iceXI_T250_N16.json\n",
      "INFO:root:Loading data from /group/ag_cmb/scratch/minvernizzi/so3-flow/ice_MDdata/MDtraj-tip4pice_iceXI_T250_N16.npz\n",
      "INFO:root:Loading target density.\n",
      "INFO:root:  taking only 10000 samples from MD\n",
      "INFO:root:Loading OpenMM model specs from /group/ag_cmb/scratch/minvernizzi/so3-flow/ice_MDdata/model-tip4pice_iceXI_T100_N16.json\n",
      "INFO:root:Loading data from /group/ag_cmb/scratch/minvernizzi/so3-flow/ice_MDdata/MDtraj-tip4pice_iceXI_T100_N16.npz\n",
      "INFO:root:Setting up flow model.\n"
     ]
    },
    {
     "name": "stdout",
     "output_type": "stream",
     "text": [
      "tot flow parameters: 319_568\n"
     ]
    }
   ],
   "source": [
    "specs_file = \"testing.yaml\"\n",
    "specs = ExperimentSpecification.load_from_file(specs_file)\n",
    "\n",
    "chain = key_chain(specs.seed)\n",
    "base, target, flow = setup_model(next(chain), specs)\n",
    "model = base.omm_model.model\n",
    "\n",
    "tot_iter = specs.global_step if specs.global_step is not None else 0\n",
    "\n",
    "print(f'tot flow parameters: {count_params(flow):_}')"
   ]
  },
  {
   "cell_type": "code",
   "execution_count": 6,
   "metadata": {},
   "outputs": [
    {
     "data": {
      "text/plain": [
       "(-750.69943, 0.01622)"
      ]
     },
     "execution_count": 6,
     "metadata": {},
     "output_type": "execute_result"
    }
   ],
   "source": [
    "try:\n",
    "    ref_file = f\"data/water/DeltaF_estimates/DF-{specs.model.base}-{specs.model.target}.txt\"\n",
    "    reference_deltaF, reference_deltaF_std = np.loadtxt(ref_file, unpack=True)\n",
    "except FileNotFoundError:\n",
    "    reference_deltaF, reference_deltaF_std = None, None\n",
    "\n",
    "reference_deltaF, reference_deltaF_std"
   ]
  },
  {
   "cell_type": "code",
   "execution_count": 14,
   "metadata": {},
   "outputs": [
    {
     "data": {
      "text/plain": [
       "Array(-469.68274, dtype=float32)"
      ]
     },
     "execution_count": 14,
     "metadata": {},
     "output_type": "execute_result"
    }
   ],
   "source": [
    "base.sample_idx(next(chain), 0).ldj"
   ]
  },
  {
   "cell_type": "code",
   "execution_count": 16,
   "metadata": {},
   "outputs": [
    {
     "data": {
      "text/plain": [
       "-469.68367418517096"
      ]
     },
     "execution_count": 16,
     "metadata": {},
     "output_type": "execute_result"
    }
   ],
   "source": [
    "base.sample_idx(next(chain), 0).ldj"
   ]
  },
  {
   "cell_type": "code",
   "execution_count": 17,
   "metadata": {},
   "outputs": [
    {
     "ename": "TracerArrayConversionError",
     "evalue": "The numpy.ndarray conversion method __array__() was called on the JAX Tracer object Traced<ShapedArray(int32[])>with<BatchTrace(level=1/0)> with\n  val = Array([6455, 8330, 6881, 7498, 7877, 6631, 2943, 5241, 1918,   19, 3133,\n       6154, 1814, 2136, 3861, 2053, 4501,  720, 8934, 4273, 5914, 1647,\n       5659, 8362,  654, 2624, 5543, 8941, 4268, 8487, 1710, 2260, 9795,\n       4846, 2578, 2055, 5568, 5107, 2798, 4783, 5684, 6577,  447, 7580,\n       4406, 7223, 6586, 9761, 5693, 8539, 2593,  981, 7017, 2813, 6905,\n       4521, 3100,  212, 7898, 8158,   95, 8367, 2225, 3631, 1888, 8052,\n       8600, 8065, 1497, 5081, 8461, 9186, 2926, 3969, 2098, 7937, 7138,\n       3976, 8404, 7465, 5515, 4020, 4135, 9202,  418, 2755, 4252, 7711,\n       7332, 8726, 9017,  823, 5860, 6913, 5732, 9630, 5655, 9008, 5732,\n       6556, 2389, 4582, 5740, 5173, 9342, 4665, 3271, 9720, 2858, 1759,\n       1921, 5988, 3055, 5234, 1894, 4867, 7995, 2109, 9962, 3922, 6055,\n       7787, 1114, 4181, 3957, 4426, 4396, 2712, 5208, 3036, 5439, 3391,\n       3358, 9221,  326, 5794, 7174, 7655, 4423, 1806,  862, 4002, 9341,\n       1781, 9783, 7564, 7328, 3747, 3850, 3474, 2632, 2570, 8232, 1500,\n       6302, 9727, 2543, 5570, 7590, 8162, 3798, 7656, 6717,  595, 9482,\n        513, 6124, 2339, 5989, 6442, 7150, 7456, 4192, 5665,  418, 8178,\n       9602, 4933, 3859, 6971, 9768, 5704, 6148, 8743, 1372, 5199, 9163,\n       8502, 5095, 8021, 4024, 7431, 7432,  637, 3816, 2521, 7966, 3601,\n       2585,  805, 2083,  593, 7922,  589, 9785, 1600, 3989, 8589, 7120,\n       1654, 3657, 8338,  756, 8014, 8766, 5324, 4680, 4553, 5412, 5886,\n       7644, 8386, 4711, 5752, 3812, 7840, 4101, 2385, 9076, 1120, 6830,\n       5072, 8914,  580, 4124, 8643, 1506, 9894, 5390, 4698, 6397, 8435,\n       8755, 9808, 1290, 6010, 8433, 9090, 2856, 3281, 9624, 3963, 2940,\n       8095,  453, 8968, 2056, 3659, 4965, 2999, 5383, 3284, 1078, 8785,\n        693, 1685, 8126, 8080, 8352, 6620, 4228, 1019, 1373, 4764, 3258,\n       5616, 5008, 5347,  453,  783, 9473, 5658,  851, 3523, 5461, 6800,\n       9549, 6565,  117, 9933, 1309, 8410, 9896, 9526, 7479, 7883, 7351,\n       3053,  272, 6164,  141, 1878, 4404,    5, 1755, 6919, 7683, 5861,\n       3402, 9525, 3114, 9752, 9590, 5960, 1373, 3699, 4312, 3506,  402,\n       7637, 1217, 9526, 6024, 3125, 1151, 3653,  897, 4481, 3112, 4058,\n       8091, 4101, 8747, 5517, 6975, 7640, 3244, 6660, 2063, 5883, 2558,\n       5300, 2803, 5204, 6497,  851, 8219, 1966, 5407, 8550, 5995, 6128,\n       1857, 9284, 2179, 1512, 5486, 7391, 7408, 1783, 6716,  191,  224,\n       1927,  396, 9148, 5320, 7682, 1383, 2781, 3479, 2221,  623, 5564,\n       9029, 1782, 3425, 1964, 3760, 9402, 6618, 4089, 3787, 9076, 4125,\n       3362, 8484, 5577,  694, 9050, 1340, 6818, 6794, 6213, 6411, 3468,\n       5116, 1757, 5407, 1239, 2171, 9652,  212, 8620, 1278, 3584, 5435,\n       5401, 8395, 8644, 7427, 6142, 1918, 3524, 8398, 5743, 3104, 7505,\n       5957, 3184, 1106, 6357, 7199, 2043, 1735, 4155, 6700, 8014, 1647,\n       3442, 9891, 7483, 2857, 2414, 6982, 7296, 5561, 4202, 9270, 5032,\n       3214, 4285, 2718, 1270, 3466, 1515, 9862, 3748, 2908, 6560,  720,\n       9532, 9570, 3018, 1453, 3417, 3562, 4755, 7163, 8742, 1478, 6439,\n       6163,  683, 6660, 3636, 9207, 3420, 3757, 7165, 7235, 2937, 6386,\n       8165, 3935, 6278, 7350, 8740,  218, 5654, 5939, 8900, 4972, 2256,\n       5693, 9824, 6914, 5987, 7178, 4130, 1460, 4327,  707, 8839, 8861,\n       4279, 4667, 4683, 2123, 8702, 8989, 1902,  677, 1938, 9470, 6550,\n       6608, 6704, 3652, 9030, 8810, 8585, 2689, 8152, 6806, 3920, 6603,\n       6448, 6071, 6558, 8863, 1132, 3859, 6202, 3302, 2581, 8157, 2374,\n       6916, 2051, 3142, 4124, 3834, 1154,  909, 6567, 3591, 4203, 3440,\n       9029, 9076, 2032,  996, 5022, 6515, 5406,  887, 3827, 3355, 2554,\n       1236, 7757, 4916, 9177,  116, 5352, 4809, 6995, 1455, 2996, 4976,\n       9521, 8443, 5103, 7564, 3724, 9966, 3387, 9327, 4821, 4666, 9871,\n       4476, 6425, 6482, 8311, 8678, 1064, 1227, 2085, 7954, 6258, 6113,\n       3644, 1363, 3831, 3270, 2910, 3322, 8201, 9379, 5277, 1076, 3949,\n       9584, 8089, 9842, 6805, 2422, 9285, 5443, 9893, 8473, 3467, 8514,\n         55, 4818, 1125, 1446, 2614, 4788, 8115, 1192, 8905, 1002, 3512,\n       8476, 5133, 5973, 5637, 9607, 6666, 5081, 2732, 7675, 4786, 9339,\n       7490, 5117, 5234, 3554, 9384, 7547, 4924,  432,    6,  487, 9106,\n       8919, 3356, 5843,  284, 8444, 3823, 4135, 5743, 9903, 3639, 9149,\n        294, 8841, 7521, 5905, 7694, 9272, 2503, 2514, 1275, 2195, 5259,\n       3891, 6740, 4807, 7159, 2844, 6594, 7337, 5607, 9648, 8497, 9014,\n       8784, 6734, 6086, 8183, 5787, 6227, 2037, 9212, 8965, 4410, 5242,\n       2492, 8604, 4170, 7442, 8323, 1694, 7670, 1299, 1287, 5468, 1940,\n       6238, 7926, 5773, 5320, 6309, 5454, 8872, 4625, 5660, 1047, 8567,\n       2725, 2565, 6423, 7306,  657, 5956,  911, 6731, 8280, 5304, 3825,\n       7591,    2, 7148, 5952, 7629,  222, 5699, 6616, 9389, 2970, 4907,\n       5193, 1465, 2196, 5701, 3849, 6779, 5165, 6130,  294, 4496, 1851,\n       1810, 3456, 4974, 1862, 8334, 2985, 4348, 8914, 8422, 5816, 6600,\n       3479, 6730, 5312, 9925, 5975, 4190, 6521, 6870, 9844,  528, 2773,\n       8466,  209, 3921, 7379,  619, 3062, 9153,  481, 6301, 7685, 5185,\n       1100, 7121, 9735, 7145, 2733, 7207, 7641, 8972, 9847, 3202, 5407,\n       7634,  256, 8153, 1900, 4374, 2581, 3924, 7267, 4719, 3252, 1360,\n       7499, 2566, 3863, 1225, 9483, 5008, 2913, 7290, 3427, 1687, 1497,\n       9901, 5875, 4396, 1405, 8681, 1287, 1196, 4346, 6643,  123, 3443,\n        144, 9794, 3537, 2526, 2234, 5164, 3907, 4293,    7, 3295, 3746,\n       6760, 9973, 1752, 4024,  816, 2233, 6218, 7757, 7568, 5922, 4726,\n       6733, 4870, 7496, 9460, 9314, 9146, 6930, 5902, 4743, 3078, 5544,\n       2264, 1556, 8164, 9388,  225, 6472, 1793, 1969, 7458, 6186, 5464,\n       8026, 8698, 4763, 5135,  642, 7526, 2985, 1560, 4653,  368, 9345,\n       5244, 2912, 5316, 5204, 9541, 7260, 4443, 6713, 9176, 3234, 6087,\n       4603, 9169, 3800, 3920, 5207, 8219, 2660, 5036, 8121, 6055, 9371,\n       5283, 3244, 2307, 9698, 6347, 9352, 8084, 1989, 8972, 7295, 4576,\n       2884, 5131, 7860, 5205, 4499, 8914, 2261, 9188, 4455, 1989, 3329,\n       9238, 3672, 8654, 2790, 6970, 5923, 3575, 6403, 1063, 6612, 4530,\n       4921, 1388,  131, 7280, 5853,  418,  698, 8292, 2709,  989, 3279,\n       4823, 3166, 3817, 4799, 8398, 2562, 4432, 2568, 4435, 4485, 4016,\n       3440, 8106,  784, 6964, 7696, 3623, 4573, 4438, 5724,  793, 5164,\n        842, 6295, 4022, 5328, 1056, 5367, 4442, 1475, 2016, 3483, 8158,\n       2599, 8153, 9395, 2016, 9033, 1521,  792, 5710, 8750, 5899, 5393,\n       8286, 2510, 5372, 7818, 7679, 8302, 2710, 5879, 8905, 6137,  632,\n       1473, 5947, 4098, 7770, 2791, 5969, 6837, 4912,  188, 9908],      dtype=int32)\n  batch_dim = 0\nThis BatchTracer with object id 139655000531856 was created on line:\n  /srv/data/minvernizzi/notebook/water/rigid-flows/rigid_flows/density.py:93 (sample)\nSee https://jax.readthedocs.io/en/latest/errors.html#jax.errors.TracerArrayConversionError",
     "output_type": "error",
     "traceback": [
      "\u001b[0;31m---------------------------------------------------------------------------\u001b[0m",
      "\u001b[0;31mTracerArrayConversionError\u001b[0m                Traceback (most recent call last)",
      "Cell \u001b[0;32mIn[17], line 4\u001b[0m\n\u001b[1;32m      1\u001b[0m num_samples \u001b[39m=\u001b[39m \u001b[39m1_000\u001b[39m\n\u001b[1;32m      3\u001b[0m keys \u001b[39m=\u001b[39m jax\u001b[39m.\u001b[39mrandom\u001b[39m.\u001b[39msplit(\u001b[39mnext\u001b[39m(chain), num_samples)\n\u001b[0;32m----> 4\u001b[0m base_tr \u001b[39m=\u001b[39m jax\u001b[39m.\u001b[39;49mvmap(base\u001b[39m.\u001b[39;49msample)(keys)\n\u001b[1;32m      6\u001b[0m mapped_tr \u001b[39m=\u001b[39m jax\u001b[39m.\u001b[39mvmap(flow\u001b[39m.\u001b[39mforward)(base_tr\u001b[39m.\u001b[39mobj)\n\u001b[1;32m      8\u001b[0m keys \u001b[39m=\u001b[39m jax\u001b[39m.\u001b[39mrandom\u001b[39m.\u001b[39msplit(\u001b[39mnext\u001b[39m(chain), num_samples)\n",
      "    \u001b[0;31m[... skipping hidden 3 frame]\u001b[0m\n",
      "File \u001b[0;32m/srv/data/minvernizzi/notebook/water/rigid-flows/rigid_flows/density.py:94\u001b[0m, in \u001b[0;36mOpenMMDensity.sample\u001b[0;34m(self, key)\u001b[0m\n\u001b[1;32m     92\u001b[0m \u001b[39m\u001b[39m\u001b[39m\"\"\"Samples from the target (data) distribution.\"\"\"\u001b[39;00m\n\u001b[1;32m     93\u001b[0m idx \u001b[39m=\u001b[39m jax\u001b[39m.\u001b[39mrandom\u001b[39m.\u001b[39mrandint(key, minval\u001b[39m=\u001b[39m\u001b[39m0\u001b[39m, maxval\u001b[39m=\u001b[39m\u001b[39mlen\u001b[39m(\u001b[39mself\u001b[39m\u001b[39m.\u001b[39mdata\u001b[39m.\u001b[39mpos), shape\u001b[39m=\u001b[39m())\n\u001b[0;32m---> 94\u001b[0m \u001b[39mreturn\u001b[39;00m \u001b[39mself\u001b[39;49m\u001b[39m.\u001b[39;49msample_idx(key, idx)\n",
      "File \u001b[0;32m/srv/data/minvernizzi/notebook/water/rigid-flows/rigid_flows/density.py:127\u001b[0m, in \u001b[0;36mOpenMMDensity.sample_idx\u001b[0;34m(self, key, idx)\u001b[0m\n\u001b[1;32m    122\u001b[0m sign \u001b[39m=\u001b[39m jnp\u001b[39m.\u001b[39msign(\n\u001b[1;32m    123\u001b[0m     jax\u001b[39m.\u001b[39mrandom\u001b[39m.\u001b[39mnormal(\u001b[39mnext\u001b[39m(chain), shape\u001b[39m=\u001b[39m(\u001b[39mself\u001b[39m\u001b[39m.\u001b[39msys_specs\u001b[39m.\u001b[39mnum_molecules, \u001b[39m1\u001b[39m))\n\u001b[1;32m    124\u001b[0m )\n\u001b[1;32m    126\u001b[0m sample \u001b[39m=\u001b[39m DataWithAuxiliary(pos, aux, sign, \u001b[39mself\u001b[39m\u001b[39m.\u001b[39mbox, force)\n\u001b[0;32m--> 127\u001b[0m energy \u001b[39m=\u001b[39m \u001b[39mself\u001b[39;49m\u001b[39m.\u001b[39;49mdata\u001b[39m.\u001b[39;49menergy[idx] \u001b[39m/\u001b[39m \u001b[39mself\u001b[39m\u001b[39m.\u001b[39momm_model\u001b[39m.\u001b[39mkbT\n\u001b[1;32m    128\u001b[0m \u001b[39m# if self.aux_model is not None:\u001b[39;00m\n\u001b[1;32m    129\u001b[0m \u001b[39m#     energy = energy + self.compute_energies(sample, omm=False, aux=True, has_batch_dim=False)[\"aux\"]\u001b[39;00m\n\u001b[1;32m    130\u001b[0m \u001b[39m# energy = self.potential(sample)\u001b[39;00m\n\u001b[1;32m    131\u001b[0m \u001b[39mreturn\u001b[39;00m Transformed(sample, energy)\n",
      "File \u001b[0;32m~/miniconda3/envs/flox/lib/python3.10/site-packages/jax/core.py:541\u001b[0m, in \u001b[0;36mTracer.__array__\u001b[0;34m(self, *args, **kw)\u001b[0m\n\u001b[1;32m    540\u001b[0m \u001b[39mdef\u001b[39;00m \u001b[39m__array__\u001b[39m(\u001b[39mself\u001b[39m, \u001b[39m*\u001b[39margs, \u001b[39m*\u001b[39m\u001b[39m*\u001b[39mkw):\n\u001b[0;32m--> 541\u001b[0m   \u001b[39mraise\u001b[39;00m TracerArrayConversionError(\u001b[39mself\u001b[39m)\n",
      "\u001b[0;31mTracerArrayConversionError\u001b[0m: The numpy.ndarray conversion method __array__() was called on the JAX Tracer object Traced<ShapedArray(int32[])>with<BatchTrace(level=1/0)> with\n  val = Array([6455, 8330, 6881, 7498, 7877, 6631, 2943, 5241, 1918,   19, 3133,\n       6154, 1814, 2136, 3861, 2053, 4501,  720, 8934, 4273, 5914, 1647,\n       5659, 8362,  654, 2624, 5543, 8941, 4268, 8487, 1710, 2260, 9795,\n       4846, 2578, 2055, 5568, 5107, 2798, 4783, 5684, 6577,  447, 7580,\n       4406, 7223, 6586, 9761, 5693, 8539, 2593,  981, 7017, 2813, 6905,\n       4521, 3100,  212, 7898, 8158,   95, 8367, 2225, 3631, 1888, 8052,\n       8600, 8065, 1497, 5081, 8461, 9186, 2926, 3969, 2098, 7937, 7138,\n       3976, 8404, 7465, 5515, 4020, 4135, 9202,  418, 2755, 4252, 7711,\n       7332, 8726, 9017,  823, 5860, 6913, 5732, 9630, 5655, 9008, 5732,\n       6556, 2389, 4582, 5740, 5173, 9342, 4665, 3271, 9720, 2858, 1759,\n       1921, 5988, 3055, 5234, 1894, 4867, 7995, 2109, 9962, 3922, 6055,\n       7787, 1114, 4181, 3957, 4426, 4396, 2712, 5208, 3036, 5439, 3391,\n       3358, 9221,  326, 5794, 7174, 7655, 4423, 1806,  862, 4002, 9341,\n       1781, 9783, 7564, 7328, 3747, 3850, 3474, 2632, 2570, 8232, 1500,\n       6302, 9727, 2543, 5570, 7590, 8162, 3798, 7656, 6717,  595, 9482,\n        513, 6124, 2339, 5989, 6442, 7150, 7456, 4192, 5665,  418, 8178,\n       9602, 4933, 3859, 6971, 9768, 5704, 6148, 8743, 1372, 5199, 9163,\n       8502, 5095, 8021, 4024, 7431, 7432,  637, 3816, 2521, 7966, 3601,\n       2585,  805, 2083,  593, 7922,  589, 9785, 1600, 3989, 8589, 7120,\n       1654, 3657, 8338,  756, 8014, 8766, 5324, 4680, 4553, 5412, 5886,\n       7644, 8386, 4711, 5752, 3812, 7840, 4101, 2385, 9076, 1120, 6830,\n       5072, 8914,  580, 4124, 8643, 1506, 9894, 5390, 4698, 6397, 8435,\n       8755, 9808, 1290, 6010, 8433, 9090, 2856, 3281, 9624, 3963, 2940,\n       8095,  453, 8968, 2056, 3659, 4965, 2999, 5383, 3284, 1078, 8785,\n        693, 1685, 8126, 8080, 8352, 6620, 4228, 1019, 1373, 4764, 3258,\n       5616, 5008, 5347,  453,  783, 9473, 5658,  851, 3523, 5461, 6800,\n       9549, 6565,  117, 9933, 1309, 8410, 9896, 9526, 7479, 7883, 7351,\n       3053,  272, 6164,  141, 1878, 4404,    5, 1755, 6919, 7683, 5861,\n       3402, 9525, 3114, 9752, 9590, 5960, 1373, 3699, 4312, 3506,  402,\n       7637, 1217, 9526, 6024, 3125, 1151, 3653,  897, 4481, 3112, 4058,\n       8091, 4101, 8747, 5517, 6975, 7640, 3244, 6660, 2063, 5883, 2558,\n       5300, 2803, 5204, 6497,  851, 8219, 1966, 5407, 8550, 5995, 6128,\n       1857, 9284, 2179, 1512, 5486, 7391, 7408, 1783, 6716,  191,  224,\n       1927,  396, 9148, 5320, 7682, 1383, 2781, 3479, 2221,  623, 5564,\n       9029, 1782, 3425, 1964, 3760, 9402, 6618, 4089, 3787, 9076, 4125,\n       3362, 8484, 5577,  694, 9050, 1340, 6818, 6794, 6213, 6411, 3468,\n       5116, 1757, 5407, 1239, 2171, 9652,  212, 8620, 1278, 3584, 5435,\n       5401, 8395, 8644, 7427, 6142, 1918, 3524, 8398, 5743, 3104, 7505,\n       5957, 3184, 1106, 6357, 7199, 2043, 1735, 4155, 6700, 8014, 1647,\n       3442, 9891, 7483, 2857, 2414, 6982, 7296, 5561, 4202, 9270, 5032,\n       3214, 4285, 2718, 1270, 3466, 1515, 9862, 3748, 2908, 6560,  720,\n       9532, 9570, 3018, 1453, 3417, 3562, 4755, 7163, 8742, 1478, 6439,\n       6163,  683, 6660, 3636, 9207, 3420, 3757, 7165, 7235, 2937, 6386,\n       8165, 3935, 6278, 7350, 8740,  218, 5654, 5939, 8900, 4972, 2256,\n       5693, 9824, 6914, 5987, 7178, 4130, 1460, 4327,  707, 8839, 8861,\n       4279, 4667, 4683, 2123, 8702, 8989, 1902,  677, 1938, 9470, 6550,\n       6608, 6704, 3652, 9030, 8810, 8585, 2689, 8152, 6806, 3920, 6603,\n       6448, 6071, 6558, 8863, 1132, 3859, 6202, 3302, 2581, 8157, 2374,\n       6916, 2051, 3142, 4124, 3834, 1154,  909, 6567, 3591, 4203, 3440,\n       9029, 9076, 2032,  996, 5022, 6515, 5406,  887, 3827, 3355, 2554,\n       1236, 7757, 4916, 9177,  116, 5352, 4809, 6995, 1455, 2996, 4976,\n       9521, 8443, 5103, 7564, 3724, 9966, 3387, 9327, 4821, 4666, 9871,\n       4476, 6425, 6482, 8311, 8678, 1064, 1227, 2085, 7954, 6258, 6113,\n       3644, 1363, 3831, 3270, 2910, 3322, 8201, 9379, 5277, 1076, 3949,\n       9584, 8089, 9842, 6805, 2422, 9285, 5443, 9893, 8473, 3467, 8514,\n         55, 4818, 1125, 1446, 2614, 4788, 8115, 1192, 8905, 1002, 3512,\n       8476, 5133, 5973, 5637, 9607, 6666, 5081, 2732, 7675, 4786, 9339,\n       7490, 5117, 5234, 3554, 9384, 7547, 4924,  432,    6,  487, 9106,\n       8919, 3356, 5843,  284, 8444, 3823, 4135, 5743, 9903, 3639, 9149,\n        294, 8841, 7521, 5905, 7694, 9272, 2503, 2514, 1275, 2195, 5259,\n       3891, 6740, 4807, 7159, 2844, 6594, 7337, 5607, 9648, 8497, 9014,\n       8784, 6734, 6086, 8183, 5787, 6227, 2037, 9212, 8965, 4410, 5242,\n       2492, 8604, 4170, 7442, 8323, 1694, 7670, 1299, 1287, 5468, 1940,\n       6238, 7926, 5773, 5320, 6309, 5454, 8872, 4625, 5660, 1047, 8567,\n       2725, 2565, 6423, 7306,  657, 5956,  911, 6731, 8280, 5304, 3825,\n       7591,    2, 7148, 5952, 7629,  222, 5699, 6616, 9389, 2970, 4907,\n       5193, 1465, 2196, 5701, 3849, 6779, 5165, 6130,  294, 4496, 1851,\n       1810, 3456, 4974, 1862, 8334, 2985, 4348, 8914, 8422, 5816, 6600,\n       3479, 6730, 5312, 9925, 5975, 4190, 6521, 6870, 9844,  528, 2773,\n       8466,  209, 3921, 7379,  619, 3062, 9153,  481, 6301, 7685, 5185,\n       1100, 7121, 9735, 7145, 2733, 7207, 7641, 8972, 9847, 3202, 5407,\n       7634,  256, 8153, 1900, 4374, 2581, 3924, 7267, 4719, 3252, 1360,\n       7499, 2566, 3863, 1225, 9483, 5008, 2913, 7290, 3427, 1687, 1497,\n       9901, 5875, 4396, 1405, 8681, 1287, 1196, 4346, 6643,  123, 3443,\n        144, 9794, 3537, 2526, 2234, 5164, 3907, 4293,    7, 3295, 3746,\n       6760, 9973, 1752, 4024,  816, 2233, 6218, 7757, 7568, 5922, 4726,\n       6733, 4870, 7496, 9460, 9314, 9146, 6930, 5902, 4743, 3078, 5544,\n       2264, 1556, 8164, 9388,  225, 6472, 1793, 1969, 7458, 6186, 5464,\n       8026, 8698, 4763, 5135,  642, 7526, 2985, 1560, 4653,  368, 9345,\n       5244, 2912, 5316, 5204, 9541, 7260, 4443, 6713, 9176, 3234, 6087,\n       4603, 9169, 3800, 3920, 5207, 8219, 2660, 5036, 8121, 6055, 9371,\n       5283, 3244, 2307, 9698, 6347, 9352, 8084, 1989, 8972, 7295, 4576,\n       2884, 5131, 7860, 5205, 4499, 8914, 2261, 9188, 4455, 1989, 3329,\n       9238, 3672, 8654, 2790, 6970, 5923, 3575, 6403, 1063, 6612, 4530,\n       4921, 1388,  131, 7280, 5853,  418,  698, 8292, 2709,  989, 3279,\n       4823, 3166, 3817, 4799, 8398, 2562, 4432, 2568, 4435, 4485, 4016,\n       3440, 8106,  784, 6964, 7696, 3623, 4573, 4438, 5724,  793, 5164,\n        842, 6295, 4022, 5328, 1056, 5367, 4442, 1475, 2016, 3483, 8158,\n       2599, 8153, 9395, 2016, 9033, 1521,  792, 5710, 8750, 5899, 5393,\n       8286, 2510, 5372, 7818, 7679, 8302, 2710, 5879, 8905, 6137,  632,\n       1473, 5947, 4098, 7770, 2791, 5969, 6837, 4912,  188, 9908],      dtype=int32)\n  batch_dim = 0\nThis BatchTracer with object id 139655000531856 was created on line:\n  /srv/data/minvernizzi/notebook/water/rigid-flows/rigid_flows/density.py:93 (sample)\nSee https://jax.readthedocs.io/en/latest/errors.html#jax.errors.TracerArrayConversionError"
     ]
    }
   ],
   "source": [
    "num_samples = 1_000\n",
    "\n",
    "keys = jax.random.split(next(chain), num_samples)\n",
    "base_tr = jax.vmap(base.sample)(keys)\n",
    "\n",
    "mapped_tr = jax.vmap(flow.forward)(base_tr.obj)\n",
    "\n",
    "keys = jax.random.split(next(chain), num_samples)\n",
    "target_tr = jax.vmap(target.sample)(keys)"
   ]
  },
  {
   "cell_type": "code",
   "execution_count": null,
   "metadata": {},
   "outputs": [],
   "source": [
    "toPBC = True\n",
    "model.plot_2Dview(base_tr.obj.pos.reshape(-1, model.n_atoms, 3), toPBC=toPBC, title='base')\n",
    "model.plot_2Dview(mapped_tr.obj.pos.reshape(-1, model.n_atoms, 3), toPBC=toPBC, title='mapped')\n",
    "model.plot_2Dview(target_tr.obj.pos.reshape(-1, model.n_atoms, 3), toPBC=toPBC, title='target')\n"
   ]
  },
  {
   "cell_type": "code",
   "execution_count": null,
   "metadata": {},
   "outputs": [],
   "source": [
    "## closer look at the center of mass\n",
    "com_pos = base_tr.obj.pos.mean(axis=(1,2))\n",
    "plt.plot(com_pos, '.')\n",
    "plt.show()"
   ]
  },
  {
   "cell_type": "code",
   "execution_count": null,
   "metadata": {},
   "outputs": [],
   "source": [
    "%%time\n",
    "\n",
    "loss_reporter = []\n",
    "flow = train(next(chain), \"testing\", specs, base, target, flow, tot_iter, loss_reporter)"
   ]
  },
  {
   "cell_type": "code",
   "execution_count": null,
   "metadata": {},
   "outputs": [],
   "source": [
    "plt.plot(loss_reporter, label='KL loss')\n",
    "if reference_deltaF is not None:\n",
    "    plt.axhline(reference_deltaF, c=\"k\", ls=\":\", label='MD reference')\n",
    "plt.xlim(0, len(loss_reporter))\n",
    "plt.xlabel('iterations')\n",
    "plt.ylabel('$\\Delta F$')\n",
    "plt.legend()\n",
    "plt.show()"
   ]
  },
  {
   "cell_type": "code",
   "execution_count": null,
   "metadata": {},
   "outputs": [],
   "source": [
    "mapped_tr = jax.vmap(flow.forward)(base_tr.obj)"
   ]
  },
  {
   "cell_type": "code",
   "execution_count": null,
   "metadata": {},
   "outputs": [],
   "source": [
    "model.plot_2Dview(base_tr.obj.pos.reshape(-1, model.n_atoms, 3),   toPBC=toPBC, title='base')\n",
    "model.plot_2Dview(mapped_tr.obj.pos.reshape(-1, model.n_atoms, 3), toPBC=toPBC, title='mapped')\n",
    "model.plot_2Dview(target_tr.obj.pos.reshape(-1, model.n_atoms, 3), toPBC=toPBC, title='target')\n"
   ]
  },
  {
   "cell_type": "code",
   "execution_count": null,
   "metadata": {},
   "outputs": [],
   "source": [
    "def ess(logw):\n",
    "    return jnp.exp(2*jax.scipy.special.logsumexp(logw)-jax.scipy.special.logsumexp(2*logw))\n",
    "\n",
    "## NB: base_tr.ldj = jax.vmap(base.potential)(base_tr.obj)\n",
    "logw = base_tr.ldj + mapped_tr.ldj - jax.vmap(target.potential)(mapped_tr.obj)\n",
    "\n",
    "plt.hist(jnp.exp(logw-logw.max()), bins=100)\n",
    "plt.yscale('log')\n",
    "plt.show()\n",
    "\n",
    "print(f'ESS = {ess(logw):g}  ->  {ess(logw)/len(logw):.2%}')"
   ]
  },
  {
   "cell_type": "code",
   "execution_count": null,
   "metadata": {},
   "outputs": [],
   "source": [
    "ene_fn = jax.vmap(target.potential)\n",
    "base_ene = ene_fn(base_tr.obj)\n",
    "mapped_ene = ene_fn(mapped_tr.obj)\n",
    "target_ene = ene_fn(target_tr.obj)"
   ]
  },
  {
   "cell_type": "code",
   "execution_count": null,
   "metadata": {},
   "outputs": [],
   "source": [
    "plt.hist(base_ene, **hist_kwargs, label='base')\n",
    "plt.hist(mapped_ene, **hist_kwargs, label='mapped')\n",
    "plt.hist(target_ene, **hist_kwargs, label='target')\n",
    "plt.hist(mapped_ene, weights=np.exp(logw-jax.scipy.special.logsumexp(logw)), bins=75, histtype='step', density=True, label='reweighted')\n",
    "plt.xlabel('total energy')\n",
    "plt.legend()\n",
    "plt.show()"
   ]
  },
  {
   "cell_type": "code",
   "execution_count": null,
   "metadata": {},
   "outputs": [],
   "source": [
    "ene_label = 'omm'\n",
    "scaling = 1\n",
    "if ene_label == 'omm':\n",
    "    scaling = target.omm_model.kbT\n",
    "base_ene2 = target.compute_energies(base_tr.obj, True, True, True)[ene_label] * scaling\n",
    "target_ene2 = target.compute_energies(target_tr.obj, True, True, True)[ene_label] * scaling\n",
    "mapped_ene2 = target.compute_energies(mapped_tr.obj, True, True, True)[ene_label] * scaling"
   ]
  },
  {
   "cell_type": "code",
   "execution_count": null,
   "metadata": {},
   "outputs": [],
   "source": [
    "plt.hist(base_ene2, **hist_kwargs, label='base')\n",
    "plt.hist(mapped_ene2, **hist_kwargs, label='mapped')\n",
    "plt.hist(target_ene2, **hist_kwargs, label='target')\n",
    "plt.xlabel(ene_label + ' energy [kJ/mol]') #it's kJ/mol only for omm energies\n",
    "plt.legend()\n",
    "plt.show()"
   ]
  },
  {
   "cell_type": "code",
   "execution_count": null,
   "metadata": {},
   "outputs": [],
   "source": [
    "r_range = [0.2, np.diag(model.box).min()]\n",
    "n_bins = 300\n",
    "plt.title('Oxygen-Oxygen')\n",
    "model.plot_rdf(base_tr.obj.pos.reshape(-1, model.n_atoms, 3), r_range=r_range, n_bins=n_bins, label='base')\n",
    "model.plot_rdf(mapped_tr.obj.pos.reshape(-1, model.n_atoms, 3), r_range=r_range, n_bins=n_bins, label='mapped')\n",
    "model.plot_rdf(target_tr.obj.pos.reshape(-1, model.n_atoms, 3), r_range=r_range, n_bins=n_bins, label='target')\n",
    "plt.axvline(model.box.max()/2, c='k', ls=':', alpha=.5)\n",
    "plt.legend()\n",
    "plt.show()"
   ]
  },
  {
   "cell_type": "code",
   "execution_count": null,
   "metadata": {},
   "outputs": [],
   "source": [
    "## closer look at the center of mass\n",
    "com_pos = mapped_tr.obj.pos.mean(axis=(1,2))\n",
    "# com_pos = base_tr.obj.pos.mean(axis=(1,2)) - mapped_tr.obj.pos.mean(axis=(1,2))\n",
    "plt.plot(com_pos, '.')\n",
    "plt.show()\n",
    "# for i in range(3):\n",
    "#     plt.hist(com_pos[:,i], **hist_kwargs)\n",
    "# plt.show()"
   ]
  },
  {
   "cell_type": "code",
   "execution_count": null,
   "metadata": {},
   "outputs": [],
   "source": [
    "## TFEP\n",
    "deltaF = (jnp.log(len(logw)) - jax.scipy.special.logsumexp(logw)).item()\n",
    "print(f'Estimated deltaF from TFEP (below) = {deltaF:g}')\n",
    "if reference_deltaF is not None:\n",
    "    print(f'                  Reference deltaF = {reference_deltaF:g}')"
   ]
  },
  {
   "cell_type": "code",
   "execution_count": null,
   "metadata": {},
   "outputs": [],
   "source": [
    "def estimate_deltaF(key, num_samples, base):\n",
    "    keys = jax.random.split(key, num_samples)\n",
    "    base_tr = jax.jit(jax.vmap(base.sample))(keys)\n",
    "    mapped_tr = jax.jit(jax.vmap(flow.forward))(base_tr.obj)\n",
    "    logw = base_tr.ldj + mapped_tr.ldj - jax.jit(jax.vmap(target.potential))(mapped_tr.obj)\n",
    "    return (jnp.log(len(logw)) - jax.scipy.special.logsumexp(logw)).item()\n",
    "\n",
    "eval_base = OpenMMDensity.from_specs(specs.model.auxiliary_shape, specs.model.base, np.s_[-specs.model.base.num_samples:])\n",
    "eval_base.data.pos.shape[0]"
   ]
  },
  {
   "cell_type": "code",
   "execution_count": null,
   "metadata": {},
   "outputs": [],
   "source": [
    "estimate_from_training = False #this gives a biased estimate, always lower\n",
    "\n",
    "from tqdm import trange\n",
    "\n",
    "#FIXME: it's maybe better to use all MD points instead of random samples\n",
    "iterations = 10\n",
    "n_samples = 1000 \n",
    "\n",
    "if estimate_from_training:\n",
    "    deltaFs = np.zeros(iterations)\n",
    "    for i in trange(iterations):\n",
    "        deltaFs[i] = estimate_deltaF(next(chain), n_samples, base)\n",
    "    print(f'deltaF = {deltaFs.mean():g} +/- {deltaFs.std():g}')\n",
    "\n",
    "eval_deltaFs = np.zeros(iterations)\n",
    "for i in trange(iterations):\n",
    "    eval_deltaFs[i] = estimate_deltaF(next(chain), n_samples, eval_base)\n",
    "eval_deltaFs.mean(), eval_deltaFs.std()\n",
    "print(f'deltaF = {eval_deltaFs.mean():g} +/- {eval_deltaFs.std():g}')"
   ]
  },
  {
   "cell_type": "code",
   "execution_count": null,
   "metadata": {},
   "outputs": [],
   "source": [
    "xlim = [0, len(eval_deltaFs)]\n",
    "if estimate_from_training:\n",
    "    plt.plot(deltaFs, '.', c='blue', label='training')\n",
    "    x = 2 * [deltaFs.mean()]\n",
    "    plt.fill_between(xlim, x-deltaFs.std(), x+deltaFs.std(), color='blue', alpha=0.3)\n",
    "    plt.axhline(deltaFs.mean(), c='blue')\n",
    "plt.plot(eval_deltaFs, '.', c='orange', label='testing')\n",
    "x = 2 * [eval_deltaFs.mean()]\n",
    "plt.fill_between(xlim, x-eval_deltaFs.std(), x+eval_deltaFs.std(), color='orange', alpha=0.3)\n",
    "plt.axhline(eval_deltaFs.mean(), c='orange')\n",
    "if reference_deltaF is not None:\n",
    "    plt.axhline(reference_deltaF, c='k', ls=\":\", label='reference')\n",
    "    x = np.array(2 * [reference_deltaF])\n",
    "    plt.fill_between(xlim, x-reference_deltaF_std, x+reference_deltaF_std, color='k', alpha=0.1)\n",
    "plt.xlim(xlim)\n",
    "plt.legend()\n",
    "plt.show()"
   ]
  },
  {
   "cell_type": "code",
   "execution_count": null,
   "metadata": {},
   "outputs": [],
   "source": []
  }
 ],
 "metadata": {
  "kernelspec": {
   "display_name": "Python 3.10.8 ('flox')",
   "language": "python",
   "name": "python3"
  },
  "language_info": {
   "codemirror_mode": {
    "name": "ipython",
    "version": 3
   },
   "file_extension": ".py",
   "mimetype": "text/x-python",
   "name": "python",
   "nbconvert_exporter": "python",
   "pygments_lexer": "ipython3",
   "version": "3.10.8"
  },
  "orig_nbformat": 4,
  "vscode": {
   "interpreter": {
    "hash": "52d865f241f5cf4532d2b38dc6618aea3fdd872b067fcdc4aedd37cb5878aec8"
   }
  }
 },
 "nbformat": 4,
 "nbformat_minor": 2
}
