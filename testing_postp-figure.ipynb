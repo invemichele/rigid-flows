{
 "cells": [
  {
   "attachments": {},
   "cell_type": "markdown",
   "metadata": {},
   "source": [
    "# Posprocessing a run"
   ]
  },
  {
   "cell_type": "code",
   "execution_count": 1,
   "metadata": {},
   "outputs": [],
   "source": [
    "%load_ext autoreload\n",
    "%autoreload 2"
   ]
  },
  {
   "cell_type": "code",
   "execution_count": 2,
   "metadata": {},
   "outputs": [
    {
     "name": "stdout",
     "output_type": "stream",
     "text": [
      "env: XLA_PYTHON_CLIENT_MEM_FRACTION=.6\n"
     ]
    }
   ],
   "source": [
    "%env XLA_PYTHON_CLIENT_MEM_FRACTION=.6"
   ]
  },
  {
   "cell_type": "code",
   "execution_count": 3,
   "metadata": {},
   "outputs": [
    {
     "name": "stderr",
     "output_type": "stream",
     "text": [
      "2023-01-25 16:38:41.427047: W tensorflow/compiler/xla/stream_executor/platform/default/dso_loader.cc:64] Could not load dynamic library 'libnvinfer.so.7'; dlerror: libnvinfer.so.7: cannot open shared object file: No such file or directory; LD_LIBRARY_PATH: :/home/mi/minvernizzi/.local/lib\n",
      "2023-01-25 16:38:41.427137: W tensorflow/compiler/xla/stream_executor/platform/default/dso_loader.cc:64] Could not load dynamic library 'libnvinfer_plugin.so.7'; dlerror: libnvinfer_plugin.so.7: cannot open shared object file: No such file or directory; LD_LIBRARY_PATH: :/home/mi/minvernizzi/.local/lib\n",
      "2023-01-25 16:38:41.427144: W tensorflow/compiler/tf2tensorrt/utils/py_utils.cc:38] TF-TRT Warning: Cannot dlopen some TensorRT libraries. If you would like to use Nvidia GPU with TensorRT, please make sure the missing libraries mentioned above are installed properly.\n"
     ]
    },
    {
     "data": {
      "application/vnd.jupyter.widget-view+json": {
       "model_id": "332cf8b3808741899b40caacce98675c",
       "version_major": 2,
       "version_minor": 0
      },
      "text/plain": []
     },
     "metadata": {},
     "output_type": "display_data"
    }
   ],
   "source": [
    "import lenses\n",
    "import jax\n",
    "import numpy as np\n",
    "from jax import numpy as jnp\n",
    "from typing import cast\n",
    "import matplotlib.pyplot as plt\n",
    "from tqdm import trange\n",
    "\n",
    "from flox.util import key_chain\n",
    "from flox.flow import Pipe, Inverted, bind#, Transform, Transformed\n",
    "import equinox as eqx\n",
    "from functools import partial\n",
    "\n",
    "from rigid_flows.flow import build_flow, RigidWithAuxiliary\n",
    "from rigid_flows.data import Data, DataWithAuxiliary\n",
    "from rigid_flows.density import OpenMMDensity\n",
    "from rigid_flows.specs import FlowSpecification, CouplingSpecification, ExperimentSpecification\n",
    "# from rigid_flows.density import PositionPrior, RotationPrior\n",
    "from rigid_flows.utils import jit_and_cleanup_cache, scanned_vmap\n",
    "\n",
    "chain = key_chain(42)"
   ]
  },
  {
   "cell_type": "code",
   "execution_count": 4,
   "metadata": {},
   "outputs": [],
   "source": [
    "def count_params(model):\n",
    "    return jax.tree_util.tree_reduce(\n",
    "        lambda s, n: s + n.size if eqx.is_array(n) else s, model, jnp.zeros((), dtype=jnp.int32)).item()\n",
    "\n",
    "def ess(logw):\n",
    "    return jnp.exp(2*jax.scipy.special.logsumexp(logw)-jax.scipy.special.logsumexp(2*logw))"
   ]
  },
  {
   "cell_type": "code",
   "execution_count": 5,
   "metadata": {},
   "outputs": [
    {
     "name": "stdout",
     "output_type": "stream",
     "text": [
      "+++ epoch 9 +++\n",
      "jonas_logdir/dragonfly_N128_T100_noaux_2023-01-25_05:35:15/training_stage_0/epoch_9/model.eqx\n",
      "tot flow parameters: 7_487_568\n",
      "MD training datapoints = 100_000\n",
      "MD eval datapoints = 100_000\n",
      "batchs per epoch = 2000\n",
      "batch size = 32\n",
      "data fraction: 9.6\n"
     ]
    }
   ],
   "source": [
    "logdir_path = 'jonas_logdir/'\n",
    "logdir_path += 'dragonfly_N128_T100_noaux_2023-01-25_05:35:15'\n",
    "# logdir_path += 'antelope_N16_T50_noaux_2023-01-25_08:08:54'\n",
    "# logdir_path += 'tuna_N16_T100_noaux_2023-01-24_16:02:39'\n",
    "stage = 0\n",
    "epoch = 9\n",
    "print(f'+++ epoch {epoch} +++')\n",
    "specs_path = f\"{logdir_path}/config.yaml\"\n",
    "pretrained_model_path = f'{logdir_path}/training_stage_{stage}/epoch_{epoch}/model.eqx'\n",
    "print(pretrained_model_path)\n",
    "\n",
    "specs = ExperimentSpecification.load_from_file(specs_path)\n",
    "specs = lenses.bind(specs).model.base.path.set(specs.model.base.path+'/eval_100')\n",
    "\n",
    "base = OpenMMDensity.from_specs(specs.model.auxiliary_shape, specs.model.base)\n",
    "target = OpenMMDensity.from_specs(specs.model.auxiliary_shape, specs.model.target)\n",
    "model = base.omm_model.model\n",
    "\n",
    "data = Data.from_specs(specs.model.target, target.box)\n",
    "flow = build_flow(next(chain), specs.model.auxiliary_shape, specs.model.flow)\n",
    "flow = cast(Pipe[DataWithAuxiliary, RigidWithAuxiliary], eqx.tree_deserialise_leaves(pretrained_model_path, flow))\n",
    "\n",
    "training_data_size = 100_000 if specs.model.base.num_samples is None else specs.model.base.num_samples\n",
    "print(f'tot flow parameters: {count_params(flow):_}')\n",
    "print(f'MD training datapoints = {training_data_size:_}')\n",
    "print(f'MD eval datapoints = {base.data.pos.shape[0]:_}')\n",
    "print(f'batchs per epoch = {specs.train[0].num_iters_per_epoch}')\n",
    "print(f'batch size = {specs.train[0].num_samples}')\n",
    "print(f'data fraction: {specs.train[0].num_epochs*specs.train[0].num_samples*specs.train[0].num_iters_per_epoch/training_data_size}')"
   ]
  },
  {
   "cell_type": "code",
   "execution_count": 6,
   "metadata": {},
   "outputs": [
    {
     "data": {
      "text/plain": [
       "(-5314.324317927606, 0.0944014)"
      ]
     },
     "execution_count": 6,
     "metadata": {},
     "output_type": "execute_result"
    }
   ],
   "source": [
    "reference_deltaF, reference_deltaF_std = None, None\n",
    "\n",
    "if specs.model.base.temperature == specs.model.target.temperature:\n",
    "    reference_deltaF, reference_deltaF_std = 0, 0\n",
    "elif specs.model.base.num_molecules == 16:\n",
    "    if specs.model.base.temperature == 250 and specs.model.target.temperature == 100:\n",
    "        reference_deltaF, reference_deltaF_std = -666.09897990553, 0.0558899 # MBAR, 10_000 samples, 5 replicas\n",
    "    elif specs.model.base.temperature == 250 and specs.model.target.temperature == 50:\n",
    "        reference_deltaF, reference_deltaF_std = -1818.2199636389134, 0.0632776 # MBAR, 10_000 samples, 10 replicas\n",
    "elif specs.model.base.num_molecules == 128:\n",
    "    if specs.model.base.temperature == 250 and specs.model.target.temperature == 100:\n",
    "        reference_deltaF, reference_deltaF_std = -5314.324317927606, 0.0944014 # MBAR, 10_000 samples, 10 replicas\n",
    "    elif specs.model.base.temperature == 250 and specs.model.target.temperature == 50:\n",
    "        reference_deltaF, reference_deltaF_std = -14522.10556489954, 0.135 # MBAR, 10_000 samples, 20 replicas\n",
    "\n",
    "reference_deltaF, reference_deltaF_std"
   ]
  },
  {
   "cell_type": "code",
   "execution_count": 7,
   "metadata": {},
   "outputs": [],
   "source": [
    "sc = 3 * model.n_waters\n",
    "test_subplots = False"
   ]
  },
  {
   "cell_type": "code",
   "execution_count": 8,
   "metadata": {},
   "outputs": [],
   "source": [
    "import json\n",
    "\n",
    "with open(logdir_path+'/loss.json', \"r\") as f:\n",
    "    loss_info = np.array(json.load(f))[:,1:]"
   ]
  },
  {
   "cell_type": "code",
   "execution_count": 9,
   "metadata": {},
   "outputs": [],
   "source": [
    "from mpl_toolkits.axes_grid1.inset_locator import inset_axes\n",
    "import matplotlib.image as mpimg\n",
    "\n",
    "\n",
    "def plot_loss():\n",
    "    plt.plot(loss_info[:,0], loss_info[:,1]/sc)\n",
    "    plt.axhline(reference_deltaF/sc, c='k', ls=':')\n",
    "    plt.xlim(0, loss_info[:,0].max()+loss_info[:,0].min())\n",
    "    plt.ylabel('loss')\n",
    "    plt.xlabel('steps')\n",
    "    \n",
    "    img = mpimg.imread(f'data/water/iceXI-N{model.n_waters}.png')\n",
    "    subax = inset_axes(plt.gca(), width=\"50%\", height=\"50%\", loc=1)\n",
    "    subax.imshow(img)\n",
    "    subax.axis('off')\n",
    "    \n",
    "if test_subplots:\n",
    "    plot_loss()\n",
    "    plt.show()"
   ]
  },
  {
   "cell_type": "code",
   "execution_count": 10,
   "metadata": {},
   "outputs": [
    {
     "name": "stdout",
     "output_type": "stream",
     "text": [
      "sample base\n"
     ]
    }
   ],
   "source": [
    "num_samples = 100_000\n",
    "batch_size = 128\n",
    "\n",
    "print('sample base')\n",
    "keys = jax.random.split(next(chain), num_samples)\n",
    "base_tr = scanned_vmap(base.sample, batch_size)(keys)\n",
    "base_ene = base_tr.ldj * base.omm_model.kbT\n",
    "\n",
    "print('map base')\n",
    "mapped_tr = scanned_vmap(flow.forward, batch_size)(base_tr.obj)\n",
    "\n",
    "print('compute weights')\n",
    "## NB: base_tr.ldj = jax.vmap(base.potential)(base_tr.obj)\n",
    "mapped_ene_tg = scanned_vmap(target.potential, batch_size)(mapped_tr.obj)\n",
    "mapped_ene = mapped_ene_tg * target.omm_model.kbT\n",
    "\n",
    "logw = base_tr.ldj + mapped_tr.ldj - mapped_ene_tg\n",
    "weights = jnp.exp(logw-jax.scipy.special.logsumexp(logw))\n",
    "\n",
    "print('sample target')\n",
    "keys = jax.random.split(next(chain), num_samples)\n",
    "target_tr = scanned_vmap(target.sample, batch_size)(keys)\n",
    "target_ene = target_tr.ldj * target.omm_model.kbT"
   ]
  },
  {
   "cell_type": "code",
   "execution_count": null,
   "metadata": {},
   "outputs": [],
   "source": [
    "def plot_2Dview(data_tr: DataWithAuxiliary, title: str, toPBC: bool = True, skip: int = 100):\n",
    "    model.plot_2Dview(data_tr.obj.pos.reshape(-1, model.n_atoms, 3)[::skip], toPBC=toPBC, title=title)\n",
    "\n",
    "plot_2Dview(base_tr, title='base')\n",
    "plot_2Dview(mapped_tr, title='mapped')\n",
    "plot_2Dview(target_tr, title='target')\n",
    "\n",
    "plt.hist(jnp.exp(logw - logw.max()), bins=100)\n",
    "plt.yscale('log')\n",
    "plt.show()\n",
    "print(f'ESS = {ess(logw):g}  ->  {ess(logw)/len(logw):.2%}')"
   ]
  },
  {
   "cell_type": "code",
   "execution_count": null,
   "metadata": {},
   "outputs": [],
   "source": [
    "hist_kwargs = {\"bins\": \"auto\", \"density\": True, \"alpha\": 0.5}\n",
    "\n",
    "def plot_energy():\n",
    "    plt.hist(base_ene/sc, **hist_kwargs, label='base')\n",
    "    plt.hist(mapped_ene/sc, **hist_kwargs, label='mapped')\n",
    "    plt.hist(target_ene/sc, **hist_kwargs, label='target')\n",
    "    plt.hist(mapped_ene/sc, weights=weights, bins=100, histtype='step', density=True, label='reweighted')\n",
    "    plt.xlabel('potential energy [kJ/mol]')\n",
    "    plt.legend()\n",
    "\n",
    "if test_subplots:\n",
    "    plot_energy()\n",
    "    plt.show()"
   ]
  },
  {
   "cell_type": "code",
   "execution_count": null,
   "metadata": {},
   "outputs": [],
   "source": [
    "#TODO add reweighted rdf\n",
    "\n",
    "def plot_rdf():\n",
    "    r_range = [0.2, np.diag(model.box).min()]\n",
    "    n_bins = 200\n",
    "    # plt.title('Oxygen radial distribution function')\n",
    "    model.plot_rdf(base_tr.obj.pos.reshape(-1, model.n_atoms, 3), r_range=r_range, n_bins=n_bins, label='base')\n",
    "    model.plot_rdf(mapped_tr.obj.pos.reshape(-1, model.n_atoms, 3), r_range=r_range, n_bins=n_bins, label='mapped')\n",
    "    model.plot_rdf(target_tr.obj.pos.reshape(-1, model.n_atoms, 3), r_range=r_range, n_bins=n_bins, label='target')\n",
    "    model.plot_rdf(target_tr.obj.pos.reshape(-1, model.n_atoms, 3), r_range=r_range, n_bins=n_bins, label='reweighted', ls=':') #TODO actually calculate it!\n",
    "    # plt.axvline(model.box.max()/2, c='k', ls=':', alpha=.5)\n",
    "    plt.ylabel(\"oxygen g(r)\")\n",
    "    plt.legend()\n",
    "\n",
    "if test_subplots:\n",
    "    plot_rdf()\n",
    "    plt.show()"
   ]
  },
  {
   "cell_type": "code",
   "execution_count": null,
   "metadata": {},
   "outputs": [],
   "source": [
    "## TFEP\n",
    "deltaF = (jnp.log(len(logw)) - jax.scipy.special.logsumexp(logw)).item()\n",
    "print(f'Estimated deltaF from LFEP = {deltaF/sc:g}')\n",
    "if reference_deltaF is not None:\n",
    "    print(f'          Reference deltaF = {reference_deltaF/sc:g}')"
   ]
  },
  {
   "cell_type": "code",
   "execution_count": null,
   "metadata": {},
   "outputs": [],
   "source": [
    "plt.figure(figsize=(15, 4))\n",
    "\n",
    "plt.subplot(1, 3, 1)\n",
    "plot_loss()\n",
    "\n",
    "plt.subplot(1, 3, 2)\n",
    "plot_energy()\n",
    "\n",
    "plt.subplot(1, 3, 3)\n",
    "plot_rdf()\n",
    "\n",
    "filename = f'fig3-N{model.n_waters}_T{specs.model.target.temperature}.pdf'\n",
    "plt.savefig(filename, bbox_inches='tight')\n",
    "plt.show()\n",
    "\n",
    "!cp {filename} {logdir_path}/{filename}"
   ]
  },
  {
   "cell_type": "code",
   "execution_count": null,
   "metadata": {},
   "outputs": [],
   "source": [
    "raise SystemError"
   ]
  },
  {
   "cell_type": "code",
   "execution_count": null,
   "metadata": {},
   "outputs": [],
   "source": [
    "@partial(jax.jit, static_argnames=[\"num_samples\", \"base\", \"batch_size\"])\n",
    "def estimate_deltaF(key, num_samples, base=base, batch_size=128):\n",
    "    keys = jax.random.split(key, num_samples)\n",
    "    base_tr = jax.vmap(base.sample)(keys)\n",
    "    mapped_tr = scanned_vmap(flow.forward, batch_size)(base_tr.obj)\n",
    "    logw = base_tr.ldj + mapped_tr.ldj - jax.vmap(target.potential)(mapped_tr.obj)\n",
    "    return (jnp.log(len(logw)) - jax.scipy.special.logsumexp(logw))"
   ]
  },
  {
   "cell_type": "code",
   "execution_count": null,
   "metadata": {},
   "outputs": [],
   "source": [
    "iterations = 10\n",
    "num_samples = base.data.pos.shape[0] // iterations\n",
    "\n",
    "deltaFs = np.zeros(iterations)\n",
    "for i in trange(iterations):\n",
    "    deltaFs[i] = estimate_deltaF(next(chain), num_samples)\n",
    "    print(deltaFs[i])\n",
    "print(f'deltaF = {deltaFs.mean():g} +/- {deltaFs.std():g}')"
   ]
  },
  {
   "cell_type": "code",
   "execution_count": null,
   "metadata": {},
   "outputs": [],
   "source": [
    "# @partial(jax.jit, static_argnames=[\"start\", \"num_samples\", \"base\", \"batch_size\"])\n",
    "# def estimate_deltaF_idx(key, start, num_samples, base=base, batch_size=128):\n",
    "#     keys = jax.random.split(key, num_samples)\n",
    "#     base_tr = jax.vmap(base.sample_idx)(keys, jnp.arange(start, start+num_samples))\n",
    "#     mapped_tr = scanned_vmap(flow.forward, batch_size)(base_tr.obj)\n",
    "#     logw = base_tr.ldj + mapped_tr.ldj - jax.vmap(target.potential)(mapped_tr.obj)\n",
    "#     return (jnp.log(len(logw)) - jax.scipy.special.logsumexp(logw))\n",
    "\n",
    "# deltaFs = np.zeros(iterations)\n",
    "# for i in trange(iterations):\n",
    "#     deltaFs[i] = estimate_deltaF_idx(next(chain), i*num_samples, num_samples)\n",
    "#     print(deltaFs[i])\n",
    "# print(f'deltaF = {deltaFs.mean():g} +/- {deltaFs.std():g}')"
   ]
  },
  {
   "cell_type": "code",
   "execution_count": null,
   "metadata": {},
   "outputs": [],
   "source": [
    "xlim = [0, len(deltaFs)]\n",
    "plt.plot(deltaFs, '.', c='orange', label='LFEP')\n",
    "x = 2 * [deltaFs.mean()]\n",
    "plt.fill_between(xlim, x-deltaFs.std(), x+deltaFs.std(), color='orange', alpha=0.3)\n",
    "plt.axhline(deltaFs.mean(), c='orange')\n",
    "if reference_deltaF is not None:\n",
    "    plt.axhline(reference_deltaF, c='k', ls=\":\", label='MBAR reference')\n",
    "    x = np.array(2 * [reference_deltaF])\n",
    "    plt.fill_between(xlim, x-reference_deltaF_std, x+reference_deltaF_std, color='k', alpha=0.1)\n",
    "plt.xlim(xlim)\n",
    "plt.legend()\n",
    "plt.show()"
   ]
  },
  {
   "cell_type": "code",
   "execution_count": null,
   "metadata": {},
   "outputs": [],
   "source": [
    "deltaFs.mean()-reference_deltaF"
   ]
  },
  {
   "cell_type": "code",
   "execution_count": null,
   "metadata": {},
   "outputs": [],
   "source": []
  }
 ],
 "metadata": {
  "kernelspec": {
   "display_name": "Python 3.10.8 ('flox')",
   "language": "python",
   "name": "python3"
  },
  "language_info": {
   "codemirror_mode": {
    "name": "ipython",
    "version": 3
   },
   "file_extension": ".py",
   "mimetype": "text/x-python",
   "name": "python",
   "nbconvert_exporter": "python",
   "pygments_lexer": "ipython3",
   "version": "3.10.8"
  },
  "orig_nbformat": 4,
  "vscode": {
   "interpreter": {
    "hash": "52d865f241f5cf4532d2b38dc6618aea3fdd872b067fcdc4aedd37cb5878aec8"
   }
  }
 },
 "nbformat": 4,
 "nbformat_minor": 2
}
