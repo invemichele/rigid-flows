{
 "cells": [
  {
   "cell_type": "code",
   "execution_count": 1,
   "metadata": {},
   "outputs": [],
   "source": [
    "%load_ext autoreload\n",
    "%autoreload 2"
   ]
  },
  {
   "cell_type": "code",
   "execution_count": 2,
   "metadata": {},
   "outputs": [
    {
     "name": "stderr",
     "output_type": "stream",
     "text": [
      "WARNING:jax._src.lib.xla_bridge:No GPU/TPU found, falling back to CPU. (Set TF_CPP_MIN_LOG_LEVEL=0 and rerun for more info.)\n"
     ]
    },
    {
     "name": "stdout",
     "output_type": "stream",
     "text": [
      "cpu\n"
     ]
    }
   ],
   "source": [
    "import jax\n",
    "import jax.numpy as jnp\n",
    "\n",
    "from jax.lib import xla_bridge\n",
    "print(xla_bridge.get_backend().platform)\n",
    "\n",
    "import flox\n",
    "from flox.util import key_chain\n",
    "from flox import geom\n",
    "\n",
    "from ribflox.rep import State, RigidRepresentation, RigidTransform, AtomRepresentation\n",
    "\n",
    "seed = 42\n",
    "chain = key_chain(seed)\n",
    "\n",
    "ROT_DIM = 4\n",
    "POS_DIM = 3\n",
    "AUX_DIM = 5\n",
    "\n",
    "NUM_MOL = 16\n",
    "\n",
    "\n",
    "def sample_state(key):\n",
    "    chain = key_chain(key)\n",
    "    s = State(\n",
    "        jax.vmap(RigidRepresentation)(\n",
    "            rot=jax.vmap(geom.unit)(jax.random.normal(next(chain), shape=(NUM_MOL, ROT_DIM,))),\n",
    "            pos=jax.random.uniform(next(chain), shape=(NUM_MOL, POS_DIM,))\n",
    "        ),\n",
    "        aux=jax.random.normal(next(chain), shape=(NUM_MOL, AUX_DIM)),\n",
    "        box=jnp.ones(3)\n",
    "    )\n",
    "    return s\n",
    "\n",
    "s = jax.vmap(sample_state)(jax.random.split(next(chain), 128))\n"
   ]
  },
  {
   "cell_type": "code",
   "execution_count": 3,
   "metadata": {},
   "outputs": [],
   "source": [
    "from functools import partial\n",
    "from ribflox.flow import full_step, WrappedLens\n",
    "from lenses import lens\n",
    "from flox.flow import Transform, LayerStack\n",
    "import equinox as eqx\n",
    "\n",
    "LATENT = 32\n",
    "HIDDEN = (128,)\n",
    "CTRL_PTS = 13\n",
    "\n",
    "NUM_LAYERS = 3\n",
    "\n",
    "def initial_transform() -> Transform[State[AtomRepresentation], State[RigidRepresentation]]:\n",
    "    return flox.flow.LensedTransform(\n",
    "        RigidTransform(),\n",
    "        WrappedLens(lens.mol),\n",
    "        WrappedLens(lens.mol)\n",
    "    )\n",
    "\n",
    "\n",
    "make_layer = jax.tree_util.Partial(full_step, num_mol=NUM_MOL, num_auxiliaries=AUX_DIM, num_latent=LATENT, num_hidden=HIDDEN, num_ctrl_pts=CTRL_PTS)\n",
    "stack = eqx.filter_vmap(make_layer)(\n",
    "    jax.random.split(next(chain), NUM_LAYERS))\n",
    "\n",
    "flow = flox.flow.Pipe[State[AtomRepresentation], State[RigidRepresentation]]([\n",
    "    initial_transform(),\n",
    "    LayerStack(stack)\n",
    "])"
   ]
  },
  {
   "cell_type": "code",
   "execution_count": 4,
   "metadata": {},
   "outputs": [],
   "source": [
    "from jax_dataclasses import pytree_dataclass\n",
    "\n",
    "from flox.flow import Transformed\n",
    "\n",
    "import numpy as np\n",
    "\n",
    "KeyArray = jax.random.PRNGKeyArray | jnp.ndarray\n",
    "\n",
    "@pytree_dataclass(frozen=True)\n",
    "class Data:\n",
    "    positions: jnp.ndarray\n",
    "    box: jnp.ndarray\n",
    "    energy: jnp.ndarray\n",
    "\n",
    "\n",
    "# data = Data(**np.load(\"./data/water/data-iceIh_tip4pew-T270.npz\"))\n",
    "data = Data(**np.load(\"./data/water/md.npz\"))\n",
    "data = jax.tree_map(jnp.array, data)\n",
    "\n",
    "def sample_state_from_data(key: KeyArray, data: Data) -> Transformed[State[AtomRepresentation]]:\n",
    "    aux = jax.random.normal(next(chain), shape=(NUM_MOL, AUX_DIM,))\n",
    "    return Transformed(State(\n",
    "        mol=data.positions.reshape(NUM_MOL, 4, 3),\n",
    "        aux=aux,\n",
    "        box=data.box\n",
    "    ), data.energy)\n",
    "\n",
    "data;"
   ]
  },
  {
   "cell_type": "code",
   "execution_count": 5,
   "metadata": {},
   "outputs": [
    {
     "data": {
      "text/plain": [
       "(50000, 16, 4, 3)"
      ]
     },
     "execution_count": 5,
     "metadata": {},
     "output_type": "execute_result"
    }
   ],
   "source": [
    "data.positions.reshape(-1, 16, 4, 3).shape"
   ]
  },
  {
   "cell_type": "code",
   "execution_count": 6,
   "metadata": {},
   "outputs": [],
   "source": [
    "# jax.vmap(sample_state_from_data)(jax.random.split(next(chain), data.positions.shape[0]), data).aux.shape"
   ]
  },
  {
   "cell_type": "code",
   "execution_count": 7,
   "metadata": {},
   "outputs": [],
   "source": [
    "# for i, key in zip(range(1), key_chain(seed)):\n",
    "#     flow.forward(sample_state_from_data(key, data).obj)"
   ]
  },
  {
   "cell_type": "code",
   "execution_count": 8,
   "metadata": {},
   "outputs": [],
   "source": [
    "\n",
    "\n",
    "\n",
    "# s = State(\n",
    "#     mol=jax.random.normal(next(chain), (NUM_MOL, 4, 3,)),\n",
    "#     aux=jax.random.normal(next(chain), shape=(NUM_MOL, AUX_DIM)),\n",
    "#     box=jnp.ones(3)\n",
    "# )\n",
    "\n",
    "@jax.jit\n",
    "def foo(s):\n",
    "    s_, _ = jax.vmap(flow.inverse)(s)\n",
    "    # s_, _ = unpack(flow.forward(s))\n",
    "    return s_"
   ]
  },
  {
   "cell_type": "code",
   "execution_count": null,
   "metadata": {},
   "outputs": [],
   "source": []
  },
  {
   "cell_type": "code",
   "execution_count": 9,
   "metadata": {},
   "outputs": [],
   "source": [
    "from flox._src.util.misc import unpack\n",
    "\n",
    "s = jax.vmap(initial_transform().inverse)(s)\n",
    "s_, _ = unpack(eqx.filter_jit(eqx.filter_vmap(flow.forward))(s.obj))"
   ]
  },
  {
   "cell_type": "code",
   "execution_count": 10,
   "metadata": {},
   "outputs": [],
   "source": [
    "# foo(s)"
   ]
  },
  {
   "cell_type": "code",
   "execution_count": null,
   "metadata": {},
   "outputs": [],
   "source": []
  },
  {
   "cell_type": "code",
   "execution_count": 12,
   "metadata": {},
   "outputs": [],
   "source": [
    "from jaxtyping import Float, Array  # type: ignore\n",
    "\n",
    "from flox.nn import train\n",
    "from flox.flow import DatasetSampler\n",
    "\n",
    "\n",
    "Scalar = Float[Array, \"\"] | float\n",
    "\n",
    "def base_potential(inp: State[RigidRepresentation]) -> Scalar:\n",
    "    return jnp.sum(0.5 * jnp.square(inp.aux))\n",
    "\n",
    "def sample_data(key: KeyArray) -> Transformed[State[AtomRepresentation]]:\n",
    "    chain = key_chain(key)\n",
    "    idx = jax.random.randint(next(chain), (), 0, 50_000)\n",
    "    sample = jax.tree_map(lambda x: x[idx], data)\n",
    "    return sample_state_from_data(next(chain), sample)\n",
    "        \n",
    "# step = train.mle_step(base_potential, optim, sample_data, 128)\n",
    "step = train.free_energy_step(base_potential, optim, sample_data, 128)"
   ]
  },
  {
   "cell_type": "code",
   "execution_count": null,
   "metadata": {},
   "outputs": [],
   "source": []
  },
  {
   "cell_type": "code",
   "execution_count": 13,
   "metadata": {},
   "outputs": [],
   "source": [
    "chain = key_chain(42)"
   ]
  },
  {
   "cell_type": "code",
   "execution_count": 14,
   "metadata": {},
   "outputs": [],
   "source": [
    "key = next(chain)\n",
    "loss, flow, opt_state = step(key, flow, opt_state)"
   ]
  },
  {
   "cell_type": "code",
   "execution_count": 17,
   "metadata": {},
   "outputs": [],
   "source": [
    "chain = key_chain(42)\n",
    "\n",
    "from typing import Protocol, TypeVar, cast\n",
    "import optax\n",
    "\n",
    "NUM_ITERS = 3_000\n",
    "PLOT_INTERVAL = 50\n",
    "LEARNING_RATE = 1e-4\n",
    "\n",
    "optim = optax.adam(learning_rate=LEARNING_RATE)\n",
    "\n",
    "T = TypeVar(\"T\")\n",
    "S = TypeVar(\"S\")\n",
    "class Model(Transform[T, S], Protocol[T, S]):\n",
    "    ...\n",
    "\n",
    "params, static = cast(tuple[Model[State[AtomRepresentation], State[RigidRepresentation]], ...], eqx.partition(flow, eqx.is_array))\n",
    "opt_state = optim.init(params)  # type: ignore"
   ]
  },
  {
   "cell_type": "code",
   "execution_count": 18,
   "metadata": {},
   "outputs": [
    {
     "data": {
      "image/png": "[encoded data removed]",
      "text/plain": [
       "<Figure size 640x480 with 1 Axes>"
      ]
     },
     "metadata": {},
     "output_type": "display_data"
    },
    {
     "name": "stderr",
     "output_type": "stream",
     "text": [
      "loss: 639.0:   7%|▋         | 198/3000 [01:16<18:03,  2.59it/s]\n"
     ]
    },
    {
     "ename": "KeyboardInterrupt",
     "evalue": "",
     "output_type": "error",
     "traceback": [
      "\u001b[0;31m---------------------------------------------------------------------------\u001b[0m",
      "\u001b[0;31mKeyboardInterrupt\u001b[0m                         Traceback (most recent call last)",
      "\u001b[1;32m/home/jonas/dev/PhD/so3/experiments/rigid_flows/rigid_flow.ipynb Cell 18\u001b[0m in \u001b[0;36m<cell line: 14>\u001b[0;34m()\u001b[0m\n\u001b[1;32m     <a href='vscode-notebook-cell:/home/jonas/dev/PhD/so3/experiments/rigid_flows/rigid_flow.ipynb#X16sZmlsZQ%3D%3D?line=13'>14</a>\u001b[0m \u001b[39mfor\u001b[39;00m i \u001b[39min\u001b[39;00m pbar:\n\u001b[1;32m     <a href='vscode-notebook-cell:/home/jonas/dev/PhD/so3/experiments/rigid_flows/rigid_flow.ipynb#X16sZmlsZQ%3D%3D?line=15'>16</a>\u001b[0m     key \u001b[39m=\u001b[39m \u001b[39mnext\u001b[39m(chain)\n\u001b[0;32m---> <a href='vscode-notebook-cell:/home/jonas/dev/PhD/so3/experiments/rigid_flows/rigid_flow.ipynb#X16sZmlsZQ%3D%3D?line=16'>17</a>\u001b[0m     loss, flow, opt_state \u001b[39m=\u001b[39m step(key, flow, opt_state)\n\u001b[1;32m     <a href='vscode-notebook-cell:/home/jonas/dev/PhD/so3/experiments/rigid_flows/rigid_flow.ipynb#X16sZmlsZQ%3D%3D?line=17'>18</a>\u001b[0m     \u001b[39m# loss, flow, opt_state = step(key, flow, opt_state)  # type: ignore\u001b[39;00m\n\u001b[1;32m     <a href='vscode-notebook-cell:/home/jonas/dev/PhD/so3/experiments/rigid_flows/rigid_flow.ipynb#X16sZmlsZQ%3D%3D?line=18'>19</a>\u001b[0m     agg_loss \u001b[39m=\u001b[39m agg_loss\u001b[39m.\u001b[39mupdate(loss)\n",
      "File \u001b[0;32m~/miniconda3/envs/rigid-flows/lib/python3.10/site-packages/equinox/jit.py:82\u001b[0m, in \u001b[0;36m_JitWrapper.__call__\u001b[0;34m(_JitWrapper__self, *args, **kwargs)\u001b[0m\n\u001b[1;32m     81\u001b[0m \u001b[39mdef\u001b[39;00m \u001b[39m__call__\u001b[39m(__self, \u001b[39m*\u001b[39margs, \u001b[39m*\u001b[39m\u001b[39m*\u001b[39mkwargs):\n\u001b[0;32m---> 82\u001b[0m     \u001b[39mreturn\u001b[39;00m __self\u001b[39m.\u001b[39;49m_fun_wrapper(\u001b[39mFalse\u001b[39;49;00m, args, kwargs)\n",
      "File \u001b[0;32m~/miniconda3/envs/rigid-flows/lib/python3.10/site-packages/equinox/jit.py:78\u001b[0m, in \u001b[0;36m_JitWrapper._fun_wrapper\u001b[0;34m(self, is_lower, args, kwargs)\u001b[0m\n\u001b[1;32m     76\u001b[0m     \u001b[39mreturn\u001b[39;00m \u001b[39mself\u001b[39m\u001b[39m.\u001b[39m_cached\u001b[39m.\u001b[39mlower(dynamic, static)\n\u001b[1;32m     77\u001b[0m \u001b[39melse\u001b[39;00m:\n\u001b[0;32m---> 78\u001b[0m     dynamic_out, static_out \u001b[39m=\u001b[39m \u001b[39mself\u001b[39;49m\u001b[39m.\u001b[39;49m_cached(dynamic, static)\n\u001b[1;32m     79\u001b[0m     \u001b[39mreturn\u001b[39;00m combine(dynamic_out, static_out\u001b[39m.\u001b[39mvalue)\n",
      "File \u001b[0;32m~/miniconda3/envs/rigid-flows/lib/python3.10/site-packages/equinox/module.py:262\u001b[0m, in \u001b[0;36mModule.tree_unflatten\u001b[0;34m(cls, aux, dynamic_field_values)\u001b[0m\n\u001b[1;32m    255\u001b[0m             dynamic_field_values\u001b[39m.\u001b[39mappend(value)\n\u001b[1;32m    256\u001b[0m     \u001b[39mreturn\u001b[39;00m \u001b[39mtuple\u001b[39m(dynamic_field_values), (\n\u001b[1;32m    257\u001b[0m         \u001b[39mtuple\u001b[39m(dynamic_field_names),\n\u001b[1;32m    258\u001b[0m         \u001b[39mtuple\u001b[39m(static_field_names),\n\u001b[1;32m    259\u001b[0m         \u001b[39mtuple\u001b[39m(static_field_values),\n\u001b[1;32m    260\u001b[0m     )\n\u001b[0;32m--> 262\u001b[0m \u001b[39m@classmethod\u001b[39m\n\u001b[1;32m    263\u001b[0m \u001b[39mdef\u001b[39;00m \u001b[39mtree_unflatten\u001b[39m(\u001b[39mcls\u001b[39m, aux, dynamic_field_values):\n\u001b[1;32m    264\u001b[0m     \u001b[39mself\u001b[39m \u001b[39m=\u001b[39m \u001b[39mcls\u001b[39m\u001b[39m.\u001b[39m\u001b[39m__new__\u001b[39m(\u001b[39mcls\u001b[39m)\n\u001b[1;32m    265\u001b[0m     dynamic_field_names, static_field_names, static_field_values \u001b[39m=\u001b[39m aux\n",
      "\u001b[0;31mKeyboardInterrupt\u001b[0m: "
     ]
    }
   ],
   "source": [
    "import time\n",
    "\n",
    "from IPython import display  # type: ignore\n",
    "from IPython.display import clear_output  # type: ignore\n",
    "\n",
    "import matplotlib.pyplot as plt\n",
    "from tqdm import tqdm\n",
    "\n",
    "pbar = tqdm(range(NUM_ITERS))\n",
    "agg_loss = train.RunningMean(0., 0)\n",
    "losses = []\n",
    "\n",
    "\n",
    "for i in pbar:\n",
    "    \n",
    "    key = next(chain)\n",
    "    loss, flow, opt_state = step(key, flow, opt_state)\n",
    "    # loss, flow, opt_state = step(key, flow, opt_state)  # type: ignore\n",
    "    agg_loss = agg_loss.update(loss)\n",
    "    losses.append(agg_loss.value)\n",
    "    \n",
    "    pbar.set_description(f\"loss: {agg_loss.value:.4}\")\n",
    "    if not i % PLOT_INTERVAL:\n",
    "        \n",
    "        display.clear_output(wait=True)\n",
    "        plt.plot(losses)\n",
    "        plt.ylabel(\"NLL\")\n",
    "        plt.xlabel(\"#iters\")\n",
    "    \n",
    "        plt.show()\n",
    "        time.sleep(0.001)"
   ]
  },
  {
   "cell_type": "code",
   "execution_count": null,
   "metadata": {},
   "outputs": [],
   "source": []
  }
 ],
 "metadata": {
  "kernelspec": {
   "display_name": "Python 3 (ipykernel)",
   "language": "python",
   "name": "python3"
  },
  "language_info": {
   "codemirror_mode": {
    "name": "ipython",
    "version": 3
   },
   "file_extension": ".py",
   "mimetype": "text/x-python",
   "name": "python",
   "nbconvert_exporter": "python",
   "pygments_lexer": "ipython3",
   "version": "3.10.6"
  },
  "orig_nbformat": 4,
  "vscode": {
   "interpreter": {
    "hash": "838d51b39b163f1285f7ef3e7af53c537242bc15ce20599f44a3a905bc6db1de"
   }
  }
 },
 "nbformat": 4,
 "nbformat_minor": 2
}
