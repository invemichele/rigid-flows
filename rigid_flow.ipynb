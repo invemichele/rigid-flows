{
 "cells": [
  {
   "cell_type": "code",
   "execution_count": 24,
   "metadata": {},
   "outputs": [
    {
     "name": "stdout",
     "output_type": "stream",
     "text": [
      "The autoreload extension is already loaded. To reload it, use:\n",
      "  %reload_ext autoreload\n"
     ]
    },
    {
     "name": "stderr",
     "output_type": "stream",
     "text": [
      "[autoreload of flox._src.flow.api failed: Traceback (most recent call last):\n",
      "  File \"/home/jonas/miniconda3/envs/rigid-flows/lib/python3.10/site-packages/IPython/extensions/autoreload.py\", line 257, in check\n",
      "    superreload(m, reload, self.old_objects)\n",
      "  File \"/home/jonas/miniconda3/envs/rigid-flows/lib/python3.10/site-packages/IPython/extensions/autoreload.py\", line 480, in superreload\n",
      "    update_generic(old_obj, new_obj)\n",
      "  File \"/home/jonas/miniconda3/envs/rigid-flows/lib/python3.10/site-packages/IPython/extensions/autoreload.py\", line 377, in update_generic\n",
      "    update(a, b)\n",
      "  File \"/home/jonas/miniconda3/envs/rigid-flows/lib/python3.10/site-packages/IPython/extensions/autoreload.py\", line 345, in update_class\n",
      "    update_instances(old, new)\n",
      "  File \"/home/jonas/miniconda3/envs/rigid-flows/lib/python3.10/site-packages/IPython/extensions/autoreload.py\", line 303, in update_instances\n",
      "    ref.__class__ = new\n",
      "  File \"/home/jonas/miniconda3/envs/rigid-flows/lib/python3.10/site-packages/jax_dataclasses/_copy_and_mutate.py\", line 134, in _new_setattr\n",
      "    raise dataclasses.FrozenInstanceError(\n",
      "dataclasses.FrozenInstanceError: Dataclass registered as pytree is immutable!\n",
      "]\n"
     ]
    }
   ],
   "source": [
    "%load_ext autoreload\n",
    "%autoreload 2"
   ]
  },
  {
   "cell_type": "code",
   "execution_count": 25,
   "metadata": {},
   "outputs": [],
   "source": [
    "import jax\n",
    "import jax.numpy as jnp\n",
    "\n",
    "import flox\n",
    "from flox.util import key_chain\n",
    "from flox import geom\n",
    "\n",
    "from ribflox.rep import State, RigidRepresentation, RigidTransform, AtomRepresentation\n",
    "\n",
    "seed = 42\n",
    "chain = key_chain(seed)\n",
    "\n",
    "ROT_DIM = 4\n",
    "POS_DIM = 3\n",
    "AUX_DIM = 5\n",
    "\n",
    "NUM_MOL = 1\n",
    "\n",
    "s = State(\n",
    "    jax.vmap(RigidRepresentation)(\n",
    "        rot=jax.vmap(geom.unit)(jax.random.normal(next(chain), shape=(NUM_MOL, ROT_DIM,))),\n",
    "        pos=jax.random.uniform(next(chain), shape=(NUM_MOL, POS_DIM,))\n",
    "    ),\n",
    "    aux=jax.random.normal(next(chain), shape=(NUM_MOL, AUX_DIM)),\n",
    "    box=jnp.ones(3)\n",
    ")"
   ]
  },
  {
   "cell_type": "code",
   "execution_count": 26,
   "metadata": {},
   "outputs": [],
   "source": [
    "from functools import partial\n",
    "from ribflox.flow import full_step, WrappedLens\n",
    "from lenses import lens\n",
    "from flox.flow import Transform, Stack\n",
    "import equinox as eqx\n",
    "\n",
    "LATENT = 32\n",
    "HIDDEN = (128,)\n",
    "CTRL_PTS = 13\n",
    "\n",
    "NUM_LAYERS = 3\n",
    "\n",
    "def initial_transform() -> Transform[State[AtomRepresentation], State[RigidRepresentation]]:\n",
    "    return flox.flow.LensedTransform(\n",
    "        RigidTransform(),\n",
    "        WrappedLens(lens.mol),\n",
    "        WrappedLens(lens.mol)\n",
    "    )\n",
    "\n",
    "\n",
    "make_layer = jax.tree_util.Partial(full_step, num_mol=NUM_MOL, num_auxiliaries=AUX_DIM, num_latent=LATENT, num_hidden=HIDDEN, num_ctrl_pts=CTRL_PTS)\n",
    "stack = eqx.filter_vmap(make_layer)(\n",
    "    jax.random.split(next(chain), NUM_LAYERS))\n",
    "\n",
    "flow = flox.flow.Pipe[State[AtomRepresentation], State[RigidRepresentation]]([\n",
    "    initial_transform(),\n",
    "    Stack(stack)\n",
    "    # make_layer(next(chain))\n",
    "])"
   ]
  },
  {
   "cell_type": "code",
   "execution_count": 27,
   "metadata": {},
   "outputs": [],
   "source": [
    "from dataclasses import astuple\n",
    "\n",
    "def unpack(obj):\n",
    "    assert hasattr(obj, \"__dataclass_fields__\"), f\"{obj} is not a dataclass\"\n",
    "    for field in obj.__dataclass_fields__:\n",
    "        yield getattr(obj, field)\n",
    "\n",
    "\n",
    "# s = State(\n",
    "#     mol=jax.random.normal(next(chain), (NUM_MOL, 4, 3,)),\n",
    "#     aux=jax.random.normal(next(chain), shape=(NUM_MOL, AUX_DIM)),\n",
    "#     box=jnp.ones(3)\n",
    "# )\n",
    "\n",
    "@jax.jit\n",
    "def foo(s):\n",
    "    s_, _ = unpack(flow.inverse(s))\n",
    "    # s_, _ = unpack(flow.forward(s))\n",
    "    return s_"
   ]
  },
  {
   "cell_type": "code",
   "execution_count": 28,
   "metadata": {},
   "outputs": [],
   "source": [
    "s_, _ = unpack(jax.jit(flow.inverse)(s))"
   ]
  },
  {
   "cell_type": "code",
   "execution_count": 32,
   "metadata": {},
   "outputs": [
    {
     "name": "stdout",
     "output_type": "stream",
     "text": [
      "461 µs ± 86.1 µs per loop (mean ± std. dev. of 7 runs, 1 loop each)\n"
     ]
    }
   ],
   "source": [
    "%timeit foo(s)"
   ]
  }
 ],
 "metadata": {
  "kernelspec": {
   "display_name": "Python 3.10.6 ('rigid-flows')",
   "language": "python",
   "name": "python3"
  },
  "language_info": {
   "codemirror_mode": {
    "name": "ipython",
    "version": 3
   },
   "file_extension": ".py",
   "mimetype": "text/x-python",
   "name": "python",
   "nbconvert_exporter": "python",
   "pygments_lexer": "ipython3",
   "version": "3.10.6"
  },
  "orig_nbformat": 4,
  "vscode": {
   "interpreter": {
    "hash": "838d51b39b163f1285f7ef3e7af53c537242bc15ce20599f44a3a905bc6db1de"
   }
  }
 },
 "nbformat": 4,
 "nbformat_minor": 2
}
